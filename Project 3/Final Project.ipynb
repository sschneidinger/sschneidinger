{
 "cells": [
  {
   "cell_type": "code",
   "execution_count": 3,
   "id": "1bc83f94",
   "metadata": {},
   "outputs": [],
   "source": [
    "import numpy as np\n",
    "from datetime import datetime, timedelta\n",
    "import pandas as pd\n",
    "from curl_cffi import requests\n",
    "import openpyxl as px\n",
    "import yfinance as yf\n",
    "import matplotlib.pyplot as plt\n",
    "%matplotlib inline"
   ]
  },
  {
   "cell_type": "code",
   "execution_count": 4,
   "id": "683a879c",
   "metadata": {},
   "outputs": [],
   "source": [
    "def fetch_sp500_tickers():\n",
    "    url = 'https://en.wikipedia.org/wiki/List_of_S%26P_500_companies'\n",
    "    sp500_table = pd.read_html(url)[0]\n",
    "    tickers = sp500_table['Symbol'].tolist()\n",
    "    tickers = [ticker.replace('.', '-') for ticker in tickers]  # Fix tickers like BRK.B\n",
    "    tickers.append('SPY')\n",
    "    return tickers\n"
   ]
  },
  {
   "cell_type": "markdown",
   "id": "ed146748",
   "metadata": {},
   "source": []
  },
  {
   "cell_type": "code",
   "execution_count": 5,
   "id": "4c310102",
   "metadata": {},
   "outputs": [],
   "source": [
    "# Create session with impersonation (for curl_cffi)\n",
    "session = requests.Session(impersonate=\"chrome\")"
   ]
  },
  {
   "cell_type": "code",
   "execution_count": 6,
   "id": "d6158b7a",
   "metadata": {},
   "outputs": [],
   "source": [
    "tickers = fetch_sp500_tickers()\n"
   ]
  },
  {
   "cell_type": "code",
   "execution_count": 7,
   "id": "c86fd9cc",
   "metadata": {},
   "outputs": [],
   "source": [
    "spy = yf.Ticker('SPY', session=session).history(period = '5y') ['Close']"
   ]
  },
  {
   "cell_type": "code",
   "execution_count": 8,
   "id": "e6c47b86",
   "metadata": {},
   "outputs": [
    {
     "name": "stdout",
     "output_type": "stream",
     "text": [
      "Downloading MMM...\n",
      "Downloading AOS...\n",
      "Downloading ABT...\n",
      "Downloading ABBV...\n",
      "Downloading ACN...\n",
      "Downloading ADBE...\n",
      "Downloading AMD...\n",
      "Downloading AES...\n",
      "Downloading AFL...\n",
      "Downloading A...\n",
      "Downloading APD...\n",
      "Downloading ABNB...\n",
      "Downloading AKAM...\n",
      "Downloading ALB...\n",
      "Downloading ARE...\n",
      "Downloading ALGN...\n",
      "Downloading ALLE...\n",
      "Downloading LNT...\n",
      "Downloading ALL...\n",
      "Downloading GOOGL...\n",
      "Downloading GOOG...\n",
      "Downloading MO...\n",
      "Downloading AMZN...\n",
      "Downloading AMCR...\n",
      "Downloading AEE...\n",
      "Downloading AEP...\n",
      "Downloading AXP...\n",
      "Downloading AIG...\n",
      "Downloading AMT...\n",
      "Downloading AWK...\n",
      "Downloading AMP...\n",
      "Downloading AME...\n",
      "Downloading AMGN...\n",
      "Downloading APH...\n",
      "Downloading ADI...\n",
      "Downloading ANSS...\n",
      "Downloading AON...\n",
      "Downloading APA...\n",
      "Downloading APO...\n",
      "Downloading AAPL...\n",
      "Downloading AMAT...\n",
      "Downloading APTV...\n",
      "Downloading ACGL...\n",
      "Downloading ADM...\n",
      "Downloading ANET...\n",
      "Downloading AJG...\n",
      "Downloading AIZ...\n",
      "Downloading T...\n",
      "Downloading ATO...\n",
      "Downloading ADSK...\n",
      "Downloading ADP...\n",
      "Downloading AZO...\n",
      "Downloading AVB...\n",
      "Downloading AVY...\n",
      "Downloading AXON...\n",
      "Downloading BKR...\n",
      "Downloading BALL...\n",
      "Downloading BAC...\n",
      "Downloading BAX...\n",
      "Downloading BDX...\n",
      "Downloading BRK-B...\n",
      "Downloading BBY...\n",
      "Downloading TECH...\n",
      "Downloading BIIB...\n",
      "Downloading BLK...\n",
      "Downloading BX...\n",
      "Downloading BK...\n",
      "Downloading BA...\n",
      "Downloading BKNG...\n",
      "Downloading BSX...\n",
      "Downloading BMY...\n",
      "Downloading AVGO...\n",
      "Downloading BR...\n",
      "Downloading BRO...\n",
      "Downloading BF-B...\n",
      "Downloading BLDR...\n",
      "Downloading BG...\n",
      "Downloading BXP...\n",
      "Downloading CHRW...\n",
      "Downloading CDNS...\n",
      "Downloading CZR...\n",
      "Downloading CPT...\n",
      "Downloading CPB...\n",
      "Downloading COF...\n",
      "Downloading CAH...\n",
      "Downloading KMX...\n",
      "Downloading CCL...\n",
      "Downloading CARR...\n",
      "Downloading CAT...\n",
      "Downloading CBOE...\n",
      "Downloading CBRE...\n",
      "Downloading CDW...\n",
      "Downloading COR...\n",
      "Downloading CNC...\n",
      "Downloading CNP...\n",
      "Downloading CF...\n",
      "Downloading CRL...\n",
      "Downloading SCHW...\n",
      "Downloading CHTR...\n",
      "Downloading CVX...\n",
      "Downloading CMG...\n",
      "Downloading CB...\n",
      "Downloading CHD...\n"
     ]
    },
    {
     "name": "stderr",
     "output_type": "stream",
     "text": [
      "/var/folders/py/pjzjs05s7494ftly1fgt3g0c0000gn/T/ipykernel_14131/3818152178.py:8: PerformanceWarning: DataFrame is highly fragmented.  This is usually the result of calling `frame.insert` many times, which has poor performance.  Consider joining all columns at once using pd.concat(axis=1) instead. To get a de-fragmented frame, use `newframe = frame.copy()`\n",
      "  data[ticker] = hist['Close']\n",
      "/var/folders/py/pjzjs05s7494ftly1fgt3g0c0000gn/T/ipykernel_14131/3818152178.py:8: PerformanceWarning: DataFrame is highly fragmented.  This is usually the result of calling `frame.insert` many times, which has poor performance.  Consider joining all columns at once using pd.concat(axis=1) instead. To get a de-fragmented frame, use `newframe = frame.copy()`\n",
      "  data[ticker] = hist['Close']\n",
      "/var/folders/py/pjzjs05s7494ftly1fgt3g0c0000gn/T/ipykernel_14131/3818152178.py:8: PerformanceWarning: DataFrame is highly fragmented.  This is usually the result of calling `frame.insert` many times, which has poor performance.  Consider joining all columns at once using pd.concat(axis=1) instead. To get a de-fragmented frame, use `newframe = frame.copy()`\n",
      "  data[ticker] = hist['Close']\n",
      "/var/folders/py/pjzjs05s7494ftly1fgt3g0c0000gn/T/ipykernel_14131/3818152178.py:8: PerformanceWarning: DataFrame is highly fragmented.  This is usually the result of calling `frame.insert` many times, which has poor performance.  Consider joining all columns at once using pd.concat(axis=1) instead. To get a de-fragmented frame, use `newframe = frame.copy()`\n",
      "  data[ticker] = hist['Close']\n"
     ]
    },
    {
     "name": "stdout",
     "output_type": "stream",
     "text": [
      "Downloading CI...\n",
      "Downloading CINF...\n"
     ]
    },
    {
     "name": "stderr",
     "output_type": "stream",
     "text": [
      "/var/folders/py/pjzjs05s7494ftly1fgt3g0c0000gn/T/ipykernel_14131/3818152178.py:8: PerformanceWarning: DataFrame is highly fragmented.  This is usually the result of calling `frame.insert` many times, which has poor performance.  Consider joining all columns at once using pd.concat(axis=1) instead. To get a de-fragmented frame, use `newframe = frame.copy()`\n",
      "  data[ticker] = hist['Close']\n",
      "/var/folders/py/pjzjs05s7494ftly1fgt3g0c0000gn/T/ipykernel_14131/3818152178.py:8: PerformanceWarning: DataFrame is highly fragmented.  This is usually the result of calling `frame.insert` many times, which has poor performance.  Consider joining all columns at once using pd.concat(axis=1) instead. To get a de-fragmented frame, use `newframe = frame.copy()`\n",
      "  data[ticker] = hist['Close']\n"
     ]
    },
    {
     "name": "stdout",
     "output_type": "stream",
     "text": [
      "Downloading CTAS...\n",
      "Downloading CSCO...\n"
     ]
    },
    {
     "name": "stderr",
     "output_type": "stream",
     "text": [
      "/var/folders/py/pjzjs05s7494ftly1fgt3g0c0000gn/T/ipykernel_14131/3818152178.py:8: PerformanceWarning: DataFrame is highly fragmented.  This is usually the result of calling `frame.insert` many times, which has poor performance.  Consider joining all columns at once using pd.concat(axis=1) instead. To get a de-fragmented frame, use `newframe = frame.copy()`\n",
      "  data[ticker] = hist['Close']\n",
      "/var/folders/py/pjzjs05s7494ftly1fgt3g0c0000gn/T/ipykernel_14131/3818152178.py:8: PerformanceWarning: DataFrame is highly fragmented.  This is usually the result of calling `frame.insert` many times, which has poor performance.  Consider joining all columns at once using pd.concat(axis=1) instead. To get a de-fragmented frame, use `newframe = frame.copy()`\n",
      "  data[ticker] = hist['Close']\n"
     ]
    },
    {
     "name": "stdout",
     "output_type": "stream",
     "text": [
      "Downloading C...\n",
      "Downloading CFG...\n"
     ]
    },
    {
     "name": "stderr",
     "output_type": "stream",
     "text": [
      "/var/folders/py/pjzjs05s7494ftly1fgt3g0c0000gn/T/ipykernel_14131/3818152178.py:8: PerformanceWarning: DataFrame is highly fragmented.  This is usually the result of calling `frame.insert` many times, which has poor performance.  Consider joining all columns at once using pd.concat(axis=1) instead. To get a de-fragmented frame, use `newframe = frame.copy()`\n",
      "  data[ticker] = hist['Close']\n",
      "/var/folders/py/pjzjs05s7494ftly1fgt3g0c0000gn/T/ipykernel_14131/3818152178.py:8: PerformanceWarning: DataFrame is highly fragmented.  This is usually the result of calling `frame.insert` many times, which has poor performance.  Consider joining all columns at once using pd.concat(axis=1) instead. To get a de-fragmented frame, use `newframe = frame.copy()`\n",
      "  data[ticker] = hist['Close']\n"
     ]
    },
    {
     "name": "stdout",
     "output_type": "stream",
     "text": [
      "Downloading CLX...\n",
      "Downloading CME...\n"
     ]
    },
    {
     "name": "stderr",
     "output_type": "stream",
     "text": [
      "/var/folders/py/pjzjs05s7494ftly1fgt3g0c0000gn/T/ipykernel_14131/3818152178.py:8: PerformanceWarning: DataFrame is highly fragmented.  This is usually the result of calling `frame.insert` many times, which has poor performance.  Consider joining all columns at once using pd.concat(axis=1) instead. To get a de-fragmented frame, use `newframe = frame.copy()`\n",
      "  data[ticker] = hist['Close']\n",
      "/var/folders/py/pjzjs05s7494ftly1fgt3g0c0000gn/T/ipykernel_14131/3818152178.py:8: PerformanceWarning: DataFrame is highly fragmented.  This is usually the result of calling `frame.insert` many times, which has poor performance.  Consider joining all columns at once using pd.concat(axis=1) instead. To get a de-fragmented frame, use `newframe = frame.copy()`\n",
      "  data[ticker] = hist['Close']\n"
     ]
    },
    {
     "name": "stdout",
     "output_type": "stream",
     "text": [
      "Downloading CMS...\n",
      "Downloading KO...\n"
     ]
    },
    {
     "name": "stderr",
     "output_type": "stream",
     "text": [
      "/var/folders/py/pjzjs05s7494ftly1fgt3g0c0000gn/T/ipykernel_14131/3818152178.py:8: PerformanceWarning: DataFrame is highly fragmented.  This is usually the result of calling `frame.insert` many times, which has poor performance.  Consider joining all columns at once using pd.concat(axis=1) instead. To get a de-fragmented frame, use `newframe = frame.copy()`\n",
      "  data[ticker] = hist['Close']\n",
      "/var/folders/py/pjzjs05s7494ftly1fgt3g0c0000gn/T/ipykernel_14131/3818152178.py:8: PerformanceWarning: DataFrame is highly fragmented.  This is usually the result of calling `frame.insert` many times, which has poor performance.  Consider joining all columns at once using pd.concat(axis=1) instead. To get a de-fragmented frame, use `newframe = frame.copy()`\n",
      "  data[ticker] = hist['Close']\n",
      "/var/folders/py/pjzjs05s7494ftly1fgt3g0c0000gn/T/ipykernel_14131/3818152178.py:8: PerformanceWarning: DataFrame is highly fragmented.  This is usually the result of calling `frame.insert` many times, which has poor performance.  Consider joining all columns at once using pd.concat(axis=1) instead. To get a de-fragmented frame, use `newframe = frame.copy()`\n",
      "  data[ticker] = hist['Close']\n"
     ]
    },
    {
     "name": "stdout",
     "output_type": "stream",
     "text": [
      "Downloading CTSH...\n",
      "Downloading COIN...\n",
      "Downloading CL...\n"
     ]
    },
    {
     "name": "stderr",
     "output_type": "stream",
     "text": [
      "/var/folders/py/pjzjs05s7494ftly1fgt3g0c0000gn/T/ipykernel_14131/3818152178.py:8: PerformanceWarning: DataFrame is highly fragmented.  This is usually the result of calling `frame.insert` many times, which has poor performance.  Consider joining all columns at once using pd.concat(axis=1) instead. To get a de-fragmented frame, use `newframe = frame.copy()`\n",
      "  data[ticker] = hist['Close']\n"
     ]
    },
    {
     "name": "stdout",
     "output_type": "stream",
     "text": [
      "Downloading CMCSA...\n"
     ]
    },
    {
     "name": "stderr",
     "output_type": "stream",
     "text": [
      "/var/folders/py/pjzjs05s7494ftly1fgt3g0c0000gn/T/ipykernel_14131/3818152178.py:8: PerformanceWarning: DataFrame is highly fragmented.  This is usually the result of calling `frame.insert` many times, which has poor performance.  Consider joining all columns at once using pd.concat(axis=1) instead. To get a de-fragmented frame, use `newframe = frame.copy()`\n",
      "  data[ticker] = hist['Close']\n",
      "/var/folders/py/pjzjs05s7494ftly1fgt3g0c0000gn/T/ipykernel_14131/3818152178.py:8: PerformanceWarning: DataFrame is highly fragmented.  This is usually the result of calling `frame.insert` many times, which has poor performance.  Consider joining all columns at once using pd.concat(axis=1) instead. To get a de-fragmented frame, use `newframe = frame.copy()`\n",
      "  data[ticker] = hist['Close']\n"
     ]
    },
    {
     "name": "stdout",
     "output_type": "stream",
     "text": [
      "Downloading CAG...\n",
      "Downloading COP...\n"
     ]
    },
    {
     "name": "stderr",
     "output_type": "stream",
     "text": [
      "/var/folders/py/pjzjs05s7494ftly1fgt3g0c0000gn/T/ipykernel_14131/3818152178.py:8: PerformanceWarning: DataFrame is highly fragmented.  This is usually the result of calling `frame.insert` many times, which has poor performance.  Consider joining all columns at once using pd.concat(axis=1) instead. To get a de-fragmented frame, use `newframe = frame.copy()`\n",
      "  data[ticker] = hist['Close']\n",
      "/var/folders/py/pjzjs05s7494ftly1fgt3g0c0000gn/T/ipykernel_14131/3818152178.py:8: PerformanceWarning: DataFrame is highly fragmented.  This is usually the result of calling `frame.insert` many times, which has poor performance.  Consider joining all columns at once using pd.concat(axis=1) instead. To get a de-fragmented frame, use `newframe = frame.copy()`\n",
      "  data[ticker] = hist['Close']\n"
     ]
    },
    {
     "name": "stdout",
     "output_type": "stream",
     "text": [
      "Downloading ED...\n",
      "Downloading STZ...\n"
     ]
    },
    {
     "name": "stderr",
     "output_type": "stream",
     "text": [
      "/var/folders/py/pjzjs05s7494ftly1fgt3g0c0000gn/T/ipykernel_14131/3818152178.py:8: PerformanceWarning: DataFrame is highly fragmented.  This is usually the result of calling `frame.insert` many times, which has poor performance.  Consider joining all columns at once using pd.concat(axis=1) instead. To get a de-fragmented frame, use `newframe = frame.copy()`\n",
      "  data[ticker] = hist['Close']\n",
      "/var/folders/py/pjzjs05s7494ftly1fgt3g0c0000gn/T/ipykernel_14131/3818152178.py:8: PerformanceWarning: DataFrame is highly fragmented.  This is usually the result of calling `frame.insert` many times, which has poor performance.  Consider joining all columns at once using pd.concat(axis=1) instead. To get a de-fragmented frame, use `newframe = frame.copy()`\n",
      "  data[ticker] = hist['Close']\n"
     ]
    },
    {
     "name": "stdout",
     "output_type": "stream",
     "text": [
      "Downloading CEG...\n",
      "Downloading COO...\n"
     ]
    },
    {
     "name": "stderr",
     "output_type": "stream",
     "text": [
      "/var/folders/py/pjzjs05s7494ftly1fgt3g0c0000gn/T/ipykernel_14131/3818152178.py:8: PerformanceWarning: DataFrame is highly fragmented.  This is usually the result of calling `frame.insert` many times, which has poor performance.  Consider joining all columns at once using pd.concat(axis=1) instead. To get a de-fragmented frame, use `newframe = frame.copy()`\n",
      "  data[ticker] = hist['Close']\n",
      "/var/folders/py/pjzjs05s7494ftly1fgt3g0c0000gn/T/ipykernel_14131/3818152178.py:8: PerformanceWarning: DataFrame is highly fragmented.  This is usually the result of calling `frame.insert` many times, which has poor performance.  Consider joining all columns at once using pd.concat(axis=1) instead. To get a de-fragmented frame, use `newframe = frame.copy()`\n",
      "  data[ticker] = hist['Close']\n"
     ]
    },
    {
     "name": "stdout",
     "output_type": "stream",
     "text": [
      "Downloading CPRT...\n",
      "Downloading GLW...\n"
     ]
    },
    {
     "name": "stderr",
     "output_type": "stream",
     "text": [
      "/var/folders/py/pjzjs05s7494ftly1fgt3g0c0000gn/T/ipykernel_14131/3818152178.py:8: PerformanceWarning: DataFrame is highly fragmented.  This is usually the result of calling `frame.insert` many times, which has poor performance.  Consider joining all columns at once using pd.concat(axis=1) instead. To get a de-fragmented frame, use `newframe = frame.copy()`\n",
      "  data[ticker] = hist['Close']\n",
      "/var/folders/py/pjzjs05s7494ftly1fgt3g0c0000gn/T/ipykernel_14131/3818152178.py:8: PerformanceWarning: DataFrame is highly fragmented.  This is usually the result of calling `frame.insert` many times, which has poor performance.  Consider joining all columns at once using pd.concat(axis=1) instead. To get a de-fragmented frame, use `newframe = frame.copy()`\n",
      "  data[ticker] = hist['Close']\n",
      "/var/folders/py/pjzjs05s7494ftly1fgt3g0c0000gn/T/ipykernel_14131/3818152178.py:8: PerformanceWarning: DataFrame is highly fragmented.  This is usually the result of calling `frame.insert` many times, which has poor performance.  Consider joining all columns at once using pd.concat(axis=1) instead. To get a de-fragmented frame, use `newframe = frame.copy()`\n",
      "  data[ticker] = hist['Close']\n"
     ]
    },
    {
     "name": "stdout",
     "output_type": "stream",
     "text": [
      "Downloading CPAY...\n",
      "Downloading CTVA...\n",
      "Downloading CSGP...\n"
     ]
    },
    {
     "name": "stderr",
     "output_type": "stream",
     "text": [
      "/var/folders/py/pjzjs05s7494ftly1fgt3g0c0000gn/T/ipykernel_14131/3818152178.py:8: PerformanceWarning: DataFrame is highly fragmented.  This is usually the result of calling `frame.insert` many times, which has poor performance.  Consider joining all columns at once using pd.concat(axis=1) instead. To get a de-fragmented frame, use `newframe = frame.copy()`\n",
      "  data[ticker] = hist['Close']\n",
      "/var/folders/py/pjzjs05s7494ftly1fgt3g0c0000gn/T/ipykernel_14131/3818152178.py:8: PerformanceWarning: DataFrame is highly fragmented.  This is usually the result of calling `frame.insert` many times, which has poor performance.  Consider joining all columns at once using pd.concat(axis=1) instead. To get a de-fragmented frame, use `newframe = frame.copy()`\n",
      "  data[ticker] = hist['Close']\n",
      "/var/folders/py/pjzjs05s7494ftly1fgt3g0c0000gn/T/ipykernel_14131/3818152178.py:8: PerformanceWarning: DataFrame is highly fragmented.  This is usually the result of calling `frame.insert` many times, which has poor performance.  Consider joining all columns at once using pd.concat(axis=1) instead. To get a de-fragmented frame, use `newframe = frame.copy()`\n",
      "  data[ticker] = hist['Close']\n"
     ]
    },
    {
     "name": "stdout",
     "output_type": "stream",
     "text": [
      "Downloading COST...\n",
      "Downloading CTRA...\n",
      "Downloading CRWD...\n"
     ]
    },
    {
     "name": "stderr",
     "output_type": "stream",
     "text": [
      "/var/folders/py/pjzjs05s7494ftly1fgt3g0c0000gn/T/ipykernel_14131/3818152178.py:8: PerformanceWarning: DataFrame is highly fragmented.  This is usually the result of calling `frame.insert` many times, which has poor performance.  Consider joining all columns at once using pd.concat(axis=1) instead. To get a de-fragmented frame, use `newframe = frame.copy()`\n",
      "  data[ticker] = hist['Close']\n",
      "/var/folders/py/pjzjs05s7494ftly1fgt3g0c0000gn/T/ipykernel_14131/3818152178.py:8: PerformanceWarning: DataFrame is highly fragmented.  This is usually the result of calling `frame.insert` many times, which has poor performance.  Consider joining all columns at once using pd.concat(axis=1) instead. To get a de-fragmented frame, use `newframe = frame.copy()`\n",
      "  data[ticker] = hist['Close']\n"
     ]
    },
    {
     "name": "stdout",
     "output_type": "stream",
     "text": [
      "Downloading CCI...\n",
      "Downloading CSX...\n"
     ]
    },
    {
     "name": "stderr",
     "output_type": "stream",
     "text": [
      "/var/folders/py/pjzjs05s7494ftly1fgt3g0c0000gn/T/ipykernel_14131/3818152178.py:8: PerformanceWarning: DataFrame is highly fragmented.  This is usually the result of calling `frame.insert` many times, which has poor performance.  Consider joining all columns at once using pd.concat(axis=1) instead. To get a de-fragmented frame, use `newframe = frame.copy()`\n",
      "  data[ticker] = hist['Close']\n",
      "/var/folders/py/pjzjs05s7494ftly1fgt3g0c0000gn/T/ipykernel_14131/3818152178.py:8: PerformanceWarning: DataFrame is highly fragmented.  This is usually the result of calling `frame.insert` many times, which has poor performance.  Consider joining all columns at once using pd.concat(axis=1) instead. To get a de-fragmented frame, use `newframe = frame.copy()`\n",
      "  data[ticker] = hist['Close']\n"
     ]
    },
    {
     "name": "stdout",
     "output_type": "stream",
     "text": [
      "Downloading CMI...\n",
      "Downloading CVS...\n"
     ]
    },
    {
     "name": "stderr",
     "output_type": "stream",
     "text": [
      "/var/folders/py/pjzjs05s7494ftly1fgt3g0c0000gn/T/ipykernel_14131/3818152178.py:8: PerformanceWarning: DataFrame is highly fragmented.  This is usually the result of calling `frame.insert` many times, which has poor performance.  Consider joining all columns at once using pd.concat(axis=1) instead. To get a de-fragmented frame, use `newframe = frame.copy()`\n",
      "  data[ticker] = hist['Close']\n",
      "/var/folders/py/pjzjs05s7494ftly1fgt3g0c0000gn/T/ipykernel_14131/3818152178.py:8: PerformanceWarning: DataFrame is highly fragmented.  This is usually the result of calling `frame.insert` many times, which has poor performance.  Consider joining all columns at once using pd.concat(axis=1) instead. To get a de-fragmented frame, use `newframe = frame.copy()`\n",
      "  data[ticker] = hist['Close']\n"
     ]
    },
    {
     "name": "stdout",
     "output_type": "stream",
     "text": [
      "Downloading DHR...\n",
      "Downloading DRI...\n"
     ]
    },
    {
     "name": "stderr",
     "output_type": "stream",
     "text": [
      "/var/folders/py/pjzjs05s7494ftly1fgt3g0c0000gn/T/ipykernel_14131/3818152178.py:8: PerformanceWarning: DataFrame is highly fragmented.  This is usually the result of calling `frame.insert` many times, which has poor performance.  Consider joining all columns at once using pd.concat(axis=1) instead. To get a de-fragmented frame, use `newframe = frame.copy()`\n",
      "  data[ticker] = hist['Close']\n",
      "/var/folders/py/pjzjs05s7494ftly1fgt3g0c0000gn/T/ipykernel_14131/3818152178.py:8: PerformanceWarning: DataFrame is highly fragmented.  This is usually the result of calling `frame.insert` many times, which has poor performance.  Consider joining all columns at once using pd.concat(axis=1) instead. To get a de-fragmented frame, use `newframe = frame.copy()`\n",
      "  data[ticker] = hist['Close']\n",
      "/var/folders/py/pjzjs05s7494ftly1fgt3g0c0000gn/T/ipykernel_14131/3818152178.py:8: PerformanceWarning: DataFrame is highly fragmented.  This is usually the result of calling `frame.insert` many times, which has poor performance.  Consider joining all columns at once using pd.concat(axis=1) instead. To get a de-fragmented frame, use `newframe = frame.copy()`\n",
      "  data[ticker] = hist['Close']\n",
      "/var/folders/py/pjzjs05s7494ftly1fgt3g0c0000gn/T/ipykernel_14131/3818152178.py:8: PerformanceWarning: DataFrame is highly fragmented.  This is usually the result of calling `frame.insert` many times, which has poor performance.  Consider joining all columns at once using pd.concat(axis=1) instead. To get a de-fragmented frame, use `newframe = frame.copy()`\n",
      "  data[ticker] = hist['Close']\n"
     ]
    },
    {
     "name": "stdout",
     "output_type": "stream",
     "text": [
      "Downloading DVA...\n",
      "Downloading DAY...\n",
      "Downloading DECK...\n",
      "Downloading DE...\n"
     ]
    },
    {
     "name": "stderr",
     "output_type": "stream",
     "text": [
      "/var/folders/py/pjzjs05s7494ftly1fgt3g0c0000gn/T/ipykernel_14131/3818152178.py:8: PerformanceWarning: DataFrame is highly fragmented.  This is usually the result of calling `frame.insert` many times, which has poor performance.  Consider joining all columns at once using pd.concat(axis=1) instead. To get a de-fragmented frame, use `newframe = frame.copy()`\n",
      "  data[ticker] = hist['Close']\n",
      "/var/folders/py/pjzjs05s7494ftly1fgt3g0c0000gn/T/ipykernel_14131/3818152178.py:8: PerformanceWarning: DataFrame is highly fragmented.  This is usually the result of calling `frame.insert` many times, which has poor performance.  Consider joining all columns at once using pd.concat(axis=1) instead. To get a de-fragmented frame, use `newframe = frame.copy()`\n",
      "  data[ticker] = hist['Close']\n",
      "/var/folders/py/pjzjs05s7494ftly1fgt3g0c0000gn/T/ipykernel_14131/3818152178.py:8: PerformanceWarning: DataFrame is highly fragmented.  This is usually the result of calling `frame.insert` many times, which has poor performance.  Consider joining all columns at once using pd.concat(axis=1) instead. To get a de-fragmented frame, use `newframe = frame.copy()`\n",
      "  data[ticker] = hist['Close']\n"
     ]
    },
    {
     "name": "stdout",
     "output_type": "stream",
     "text": [
      "Downloading DELL...\n",
      "Downloading DAL...\n",
      "Downloading DVN...\n"
     ]
    },
    {
     "name": "stderr",
     "output_type": "stream",
     "text": [
      "/var/folders/py/pjzjs05s7494ftly1fgt3g0c0000gn/T/ipykernel_14131/3818152178.py:8: PerformanceWarning: DataFrame is highly fragmented.  This is usually the result of calling `frame.insert` many times, which has poor performance.  Consider joining all columns at once using pd.concat(axis=1) instead. To get a de-fragmented frame, use `newframe = frame.copy()`\n",
      "  data[ticker] = hist['Close']\n",
      "/var/folders/py/pjzjs05s7494ftly1fgt3g0c0000gn/T/ipykernel_14131/3818152178.py:8: PerformanceWarning: DataFrame is highly fragmented.  This is usually the result of calling `frame.insert` many times, which has poor performance.  Consider joining all columns at once using pd.concat(axis=1) instead. To get a de-fragmented frame, use `newframe = frame.copy()`\n",
      "  data[ticker] = hist['Close']\n",
      "/var/folders/py/pjzjs05s7494ftly1fgt3g0c0000gn/T/ipykernel_14131/3818152178.py:8: PerformanceWarning: DataFrame is highly fragmented.  This is usually the result of calling `frame.insert` many times, which has poor performance.  Consider joining all columns at once using pd.concat(axis=1) instead. To get a de-fragmented frame, use `newframe = frame.copy()`\n",
      "  data[ticker] = hist['Close']\n"
     ]
    },
    {
     "name": "stdout",
     "output_type": "stream",
     "text": [
      "Downloading DXCM...\n",
      "Downloading FANG...\n",
      "Downloading DLR...\n"
     ]
    },
    {
     "name": "stderr",
     "output_type": "stream",
     "text": [
      "/var/folders/py/pjzjs05s7494ftly1fgt3g0c0000gn/T/ipykernel_14131/3818152178.py:8: PerformanceWarning: DataFrame is highly fragmented.  This is usually the result of calling `frame.insert` many times, which has poor performance.  Consider joining all columns at once using pd.concat(axis=1) instead. To get a de-fragmented frame, use `newframe = frame.copy()`\n",
      "  data[ticker] = hist['Close']\n",
      "/var/folders/py/pjzjs05s7494ftly1fgt3g0c0000gn/T/ipykernel_14131/3818152178.py:8: PerformanceWarning: DataFrame is highly fragmented.  This is usually the result of calling `frame.insert` many times, which has poor performance.  Consider joining all columns at once using pd.concat(axis=1) instead. To get a de-fragmented frame, use `newframe = frame.copy()`\n",
      "  data[ticker] = hist['Close']\n",
      "/var/folders/py/pjzjs05s7494ftly1fgt3g0c0000gn/T/ipykernel_14131/3818152178.py:8: PerformanceWarning: DataFrame is highly fragmented.  This is usually the result of calling `frame.insert` many times, which has poor performance.  Consider joining all columns at once using pd.concat(axis=1) instead. To get a de-fragmented frame, use `newframe = frame.copy()`\n",
      "  data[ticker] = hist['Close']\n"
     ]
    },
    {
     "name": "stdout",
     "output_type": "stream",
     "text": [
      "Downloading DG...\n",
      "Downloading DLTR...\n",
      "Downloading D...\n"
     ]
    },
    {
     "name": "stderr",
     "output_type": "stream",
     "text": [
      "/var/folders/py/pjzjs05s7494ftly1fgt3g0c0000gn/T/ipykernel_14131/3818152178.py:8: PerformanceWarning: DataFrame is highly fragmented.  This is usually the result of calling `frame.insert` many times, which has poor performance.  Consider joining all columns at once using pd.concat(axis=1) instead. To get a de-fragmented frame, use `newframe = frame.copy()`\n",
      "  data[ticker] = hist['Close']\n",
      "/var/folders/py/pjzjs05s7494ftly1fgt3g0c0000gn/T/ipykernel_14131/3818152178.py:8: PerformanceWarning: DataFrame is highly fragmented.  This is usually the result of calling `frame.insert` many times, which has poor performance.  Consider joining all columns at once using pd.concat(axis=1) instead. To get a de-fragmented frame, use `newframe = frame.copy()`\n",
      "  data[ticker] = hist['Close']\n",
      "/var/folders/py/pjzjs05s7494ftly1fgt3g0c0000gn/T/ipykernel_14131/3818152178.py:8: PerformanceWarning: DataFrame is highly fragmented.  This is usually the result of calling `frame.insert` many times, which has poor performance.  Consider joining all columns at once using pd.concat(axis=1) instead. To get a de-fragmented frame, use `newframe = frame.copy()`\n",
      "  data[ticker] = hist['Close']\n"
     ]
    },
    {
     "name": "stdout",
     "output_type": "stream",
     "text": [
      "Downloading DPZ...\n",
      "Downloading DASH...\n",
      "Downloading DOV...\n"
     ]
    },
    {
     "name": "stderr",
     "output_type": "stream",
     "text": [
      "/var/folders/py/pjzjs05s7494ftly1fgt3g0c0000gn/T/ipykernel_14131/3818152178.py:8: PerformanceWarning: DataFrame is highly fragmented.  This is usually the result of calling `frame.insert` many times, which has poor performance.  Consider joining all columns at once using pd.concat(axis=1) instead. To get a de-fragmented frame, use `newframe = frame.copy()`\n",
      "  data[ticker] = hist['Close']\n",
      "/var/folders/py/pjzjs05s7494ftly1fgt3g0c0000gn/T/ipykernel_14131/3818152178.py:8: PerformanceWarning: DataFrame is highly fragmented.  This is usually the result of calling `frame.insert` many times, which has poor performance.  Consider joining all columns at once using pd.concat(axis=1) instead. To get a de-fragmented frame, use `newframe = frame.copy()`\n",
      "  data[ticker] = hist['Close']\n"
     ]
    },
    {
     "name": "stdout",
     "output_type": "stream",
     "text": [
      "Downloading DOW...\n",
      "Downloading DHI...\n"
     ]
    },
    {
     "name": "stderr",
     "output_type": "stream",
     "text": [
      "/var/folders/py/pjzjs05s7494ftly1fgt3g0c0000gn/T/ipykernel_14131/3818152178.py:8: PerformanceWarning: DataFrame is highly fragmented.  This is usually the result of calling `frame.insert` many times, which has poor performance.  Consider joining all columns at once using pd.concat(axis=1) instead. To get a de-fragmented frame, use `newframe = frame.copy()`\n",
      "  data[ticker] = hist['Close']\n",
      "/var/folders/py/pjzjs05s7494ftly1fgt3g0c0000gn/T/ipykernel_14131/3818152178.py:8: PerformanceWarning: DataFrame is highly fragmented.  This is usually the result of calling `frame.insert` many times, which has poor performance.  Consider joining all columns at once using pd.concat(axis=1) instead. To get a de-fragmented frame, use `newframe = frame.copy()`\n",
      "  data[ticker] = hist['Close']\n"
     ]
    },
    {
     "name": "stdout",
     "output_type": "stream",
     "text": [
      "Downloading DTE...\n",
      "Downloading DUK...\n"
     ]
    },
    {
     "name": "stderr",
     "output_type": "stream",
     "text": [
      "/var/folders/py/pjzjs05s7494ftly1fgt3g0c0000gn/T/ipykernel_14131/3818152178.py:8: PerformanceWarning: DataFrame is highly fragmented.  This is usually the result of calling `frame.insert` many times, which has poor performance.  Consider joining all columns at once using pd.concat(axis=1) instead. To get a de-fragmented frame, use `newframe = frame.copy()`\n",
      "  data[ticker] = hist['Close']\n",
      "/var/folders/py/pjzjs05s7494ftly1fgt3g0c0000gn/T/ipykernel_14131/3818152178.py:8: PerformanceWarning: DataFrame is highly fragmented.  This is usually the result of calling `frame.insert` many times, which has poor performance.  Consider joining all columns at once using pd.concat(axis=1) instead. To get a de-fragmented frame, use `newframe = frame.copy()`\n",
      "  data[ticker] = hist['Close']\n"
     ]
    },
    {
     "name": "stdout",
     "output_type": "stream",
     "text": [
      "Downloading DD...\n",
      "Downloading EMN...\n"
     ]
    },
    {
     "name": "stderr",
     "output_type": "stream",
     "text": [
      "/var/folders/py/pjzjs05s7494ftly1fgt3g0c0000gn/T/ipykernel_14131/3818152178.py:8: PerformanceWarning: DataFrame is highly fragmented.  This is usually the result of calling `frame.insert` many times, which has poor performance.  Consider joining all columns at once using pd.concat(axis=1) instead. To get a de-fragmented frame, use `newframe = frame.copy()`\n",
      "  data[ticker] = hist['Close']\n"
     ]
    },
    {
     "name": "stdout",
     "output_type": "stream",
     "text": [
      "Downloading ETN...\n"
     ]
    },
    {
     "name": "stderr",
     "output_type": "stream",
     "text": [
      "/var/folders/py/pjzjs05s7494ftly1fgt3g0c0000gn/T/ipykernel_14131/3818152178.py:8: PerformanceWarning: DataFrame is highly fragmented.  This is usually the result of calling `frame.insert` many times, which has poor performance.  Consider joining all columns at once using pd.concat(axis=1) instead. To get a de-fragmented frame, use `newframe = frame.copy()`\n",
      "  data[ticker] = hist['Close']\n",
      "/var/folders/py/pjzjs05s7494ftly1fgt3g0c0000gn/T/ipykernel_14131/3818152178.py:8: PerformanceWarning: DataFrame is highly fragmented.  This is usually the result of calling `frame.insert` many times, which has poor performance.  Consider joining all columns at once using pd.concat(axis=1) instead. To get a de-fragmented frame, use `newframe = frame.copy()`\n",
      "  data[ticker] = hist['Close']\n"
     ]
    },
    {
     "name": "stdout",
     "output_type": "stream",
     "text": [
      "Downloading EBAY...\n",
      "Downloading ECL...\n"
     ]
    },
    {
     "name": "stderr",
     "output_type": "stream",
     "text": [
      "/var/folders/py/pjzjs05s7494ftly1fgt3g0c0000gn/T/ipykernel_14131/3818152178.py:8: PerformanceWarning: DataFrame is highly fragmented.  This is usually the result of calling `frame.insert` many times, which has poor performance.  Consider joining all columns at once using pd.concat(axis=1) instead. To get a de-fragmented frame, use `newframe = frame.copy()`\n",
      "  data[ticker] = hist['Close']\n",
      "/var/folders/py/pjzjs05s7494ftly1fgt3g0c0000gn/T/ipykernel_14131/3818152178.py:8: PerformanceWarning: DataFrame is highly fragmented.  This is usually the result of calling `frame.insert` many times, which has poor performance.  Consider joining all columns at once using pd.concat(axis=1) instead. To get a de-fragmented frame, use `newframe = frame.copy()`\n",
      "  data[ticker] = hist['Close']\n"
     ]
    },
    {
     "name": "stdout",
     "output_type": "stream",
     "text": [
      "Downloading EIX...\n",
      "Downloading EW...\n"
     ]
    },
    {
     "name": "stderr",
     "output_type": "stream",
     "text": [
      "/var/folders/py/pjzjs05s7494ftly1fgt3g0c0000gn/T/ipykernel_14131/3818152178.py:8: PerformanceWarning: DataFrame is highly fragmented.  This is usually the result of calling `frame.insert` many times, which has poor performance.  Consider joining all columns at once using pd.concat(axis=1) instead. To get a de-fragmented frame, use `newframe = frame.copy()`\n",
      "  data[ticker] = hist['Close']\n",
      "/var/folders/py/pjzjs05s7494ftly1fgt3g0c0000gn/T/ipykernel_14131/3818152178.py:8: PerformanceWarning: DataFrame is highly fragmented.  This is usually the result of calling `frame.insert` many times, which has poor performance.  Consider joining all columns at once using pd.concat(axis=1) instead. To get a de-fragmented frame, use `newframe = frame.copy()`\n",
      "  data[ticker] = hist['Close']\n",
      "/var/folders/py/pjzjs05s7494ftly1fgt3g0c0000gn/T/ipykernel_14131/3818152178.py:8: PerformanceWarning: DataFrame is highly fragmented.  This is usually the result of calling `frame.insert` many times, which has poor performance.  Consider joining all columns at once using pd.concat(axis=1) instead. To get a de-fragmented frame, use `newframe = frame.copy()`\n",
      "  data[ticker] = hist['Close']\n"
     ]
    },
    {
     "name": "stdout",
     "output_type": "stream",
     "text": [
      "Downloading EA...\n",
      "Downloading ELV...\n",
      "Downloading EMR...\n"
     ]
    },
    {
     "name": "stderr",
     "output_type": "stream",
     "text": [
      "/var/folders/py/pjzjs05s7494ftly1fgt3g0c0000gn/T/ipykernel_14131/3818152178.py:8: PerformanceWarning: DataFrame is highly fragmented.  This is usually the result of calling `frame.insert` many times, which has poor performance.  Consider joining all columns at once using pd.concat(axis=1) instead. To get a de-fragmented frame, use `newframe = frame.copy()`\n",
      "  data[ticker] = hist['Close']\n",
      "/var/folders/py/pjzjs05s7494ftly1fgt3g0c0000gn/T/ipykernel_14131/3818152178.py:8: PerformanceWarning: DataFrame is highly fragmented.  This is usually the result of calling `frame.insert` many times, which has poor performance.  Consider joining all columns at once using pd.concat(axis=1) instead. To get a de-fragmented frame, use `newframe = frame.copy()`\n",
      "  data[ticker] = hist['Close']\n"
     ]
    },
    {
     "name": "stdout",
     "output_type": "stream",
     "text": [
      "Downloading ENPH...\n",
      "Downloading ETR...\n"
     ]
    },
    {
     "name": "stderr",
     "output_type": "stream",
     "text": [
      "/var/folders/py/pjzjs05s7494ftly1fgt3g0c0000gn/T/ipykernel_14131/3818152178.py:8: PerformanceWarning: DataFrame is highly fragmented.  This is usually the result of calling `frame.insert` many times, which has poor performance.  Consider joining all columns at once using pd.concat(axis=1) instead. To get a de-fragmented frame, use `newframe = frame.copy()`\n",
      "  data[ticker] = hist['Close']\n",
      "/var/folders/py/pjzjs05s7494ftly1fgt3g0c0000gn/T/ipykernel_14131/3818152178.py:8: PerformanceWarning: DataFrame is highly fragmented.  This is usually the result of calling `frame.insert` many times, which has poor performance.  Consider joining all columns at once using pd.concat(axis=1) instead. To get a de-fragmented frame, use `newframe = frame.copy()`\n",
      "  data[ticker] = hist['Close']\n",
      "/var/folders/py/pjzjs05s7494ftly1fgt3g0c0000gn/T/ipykernel_14131/3818152178.py:8: PerformanceWarning: DataFrame is highly fragmented.  This is usually the result of calling `frame.insert` many times, which has poor performance.  Consider joining all columns at once using pd.concat(axis=1) instead. To get a de-fragmented frame, use `newframe = frame.copy()`\n",
      "  data[ticker] = hist['Close']\n"
     ]
    },
    {
     "name": "stdout",
     "output_type": "stream",
     "text": [
      "Downloading EOG...\n",
      "Downloading EPAM...\n",
      "Downloading EQT...\n"
     ]
    },
    {
     "name": "stderr",
     "output_type": "stream",
     "text": [
      "/var/folders/py/pjzjs05s7494ftly1fgt3g0c0000gn/T/ipykernel_14131/3818152178.py:8: PerformanceWarning: DataFrame is highly fragmented.  This is usually the result of calling `frame.insert` many times, which has poor performance.  Consider joining all columns at once using pd.concat(axis=1) instead. To get a de-fragmented frame, use `newframe = frame.copy()`\n",
      "  data[ticker] = hist['Close']\n",
      "/var/folders/py/pjzjs05s7494ftly1fgt3g0c0000gn/T/ipykernel_14131/3818152178.py:8: PerformanceWarning: DataFrame is highly fragmented.  This is usually the result of calling `frame.insert` many times, which has poor performance.  Consider joining all columns at once using pd.concat(axis=1) instead. To get a de-fragmented frame, use `newframe = frame.copy()`\n",
      "  data[ticker] = hist['Close']\n"
     ]
    },
    {
     "name": "stdout",
     "output_type": "stream",
     "text": [
      "Downloading EFX...\n",
      "Downloading EQIX...\n"
     ]
    },
    {
     "name": "stderr",
     "output_type": "stream",
     "text": [
      "/var/folders/py/pjzjs05s7494ftly1fgt3g0c0000gn/T/ipykernel_14131/3818152178.py:8: PerformanceWarning: DataFrame is highly fragmented.  This is usually the result of calling `frame.insert` many times, which has poor performance.  Consider joining all columns at once using pd.concat(axis=1) instead. To get a de-fragmented frame, use `newframe = frame.copy()`\n",
      "  data[ticker] = hist['Close']\n",
      "/var/folders/py/pjzjs05s7494ftly1fgt3g0c0000gn/T/ipykernel_14131/3818152178.py:8: PerformanceWarning: DataFrame is highly fragmented.  This is usually the result of calling `frame.insert` many times, which has poor performance.  Consider joining all columns at once using pd.concat(axis=1) instead. To get a de-fragmented frame, use `newframe = frame.copy()`\n",
      "  data[ticker] = hist['Close']\n"
     ]
    },
    {
     "name": "stdout",
     "output_type": "stream",
     "text": [
      "Downloading EQR...\n",
      "Downloading ERIE...\n"
     ]
    },
    {
     "name": "stderr",
     "output_type": "stream",
     "text": [
      "/var/folders/py/pjzjs05s7494ftly1fgt3g0c0000gn/T/ipykernel_14131/3818152178.py:8: PerformanceWarning: DataFrame is highly fragmented.  This is usually the result of calling `frame.insert` many times, which has poor performance.  Consider joining all columns at once using pd.concat(axis=1) instead. To get a de-fragmented frame, use `newframe = frame.copy()`\n",
      "  data[ticker] = hist['Close']\n"
     ]
    },
    {
     "name": "stdout",
     "output_type": "stream",
     "text": [
      "Downloading ESS...\n"
     ]
    },
    {
     "name": "stderr",
     "output_type": "stream",
     "text": [
      "/var/folders/py/pjzjs05s7494ftly1fgt3g0c0000gn/T/ipykernel_14131/3818152178.py:8: PerformanceWarning: DataFrame is highly fragmented.  This is usually the result of calling `frame.insert` many times, which has poor performance.  Consider joining all columns at once using pd.concat(axis=1) instead. To get a de-fragmented frame, use `newframe = frame.copy()`\n",
      "  data[ticker] = hist['Close']\n"
     ]
    },
    {
     "name": "stdout",
     "output_type": "stream",
     "text": [
      "Downloading EL...\n"
     ]
    },
    {
     "name": "stderr",
     "output_type": "stream",
     "text": [
      "/var/folders/py/pjzjs05s7494ftly1fgt3g0c0000gn/T/ipykernel_14131/3818152178.py:8: PerformanceWarning: DataFrame is highly fragmented.  This is usually the result of calling `frame.insert` many times, which has poor performance.  Consider joining all columns at once using pd.concat(axis=1) instead. To get a de-fragmented frame, use `newframe = frame.copy()`\n",
      "  data[ticker] = hist['Close']\n"
     ]
    },
    {
     "name": "stdout",
     "output_type": "stream",
     "text": [
      "Downloading EG...\n"
     ]
    },
    {
     "name": "stderr",
     "output_type": "stream",
     "text": [
      "/var/folders/py/pjzjs05s7494ftly1fgt3g0c0000gn/T/ipykernel_14131/3818152178.py:8: PerformanceWarning: DataFrame is highly fragmented.  This is usually the result of calling `frame.insert` many times, which has poor performance.  Consider joining all columns at once using pd.concat(axis=1) instead. To get a de-fragmented frame, use `newframe = frame.copy()`\n",
      "  data[ticker] = hist['Close']\n"
     ]
    },
    {
     "name": "stdout",
     "output_type": "stream",
     "text": [
      "Downloading EVRG...\n"
     ]
    },
    {
     "name": "stderr",
     "output_type": "stream",
     "text": [
      "/var/folders/py/pjzjs05s7494ftly1fgt3g0c0000gn/T/ipykernel_14131/3818152178.py:8: PerformanceWarning: DataFrame is highly fragmented.  This is usually the result of calling `frame.insert` many times, which has poor performance.  Consider joining all columns at once using pd.concat(axis=1) instead. To get a de-fragmented frame, use `newframe = frame.copy()`\n",
      "  data[ticker] = hist['Close']\n",
      "/var/folders/py/pjzjs05s7494ftly1fgt3g0c0000gn/T/ipykernel_14131/3818152178.py:8: PerformanceWarning: DataFrame is highly fragmented.  This is usually the result of calling `frame.insert` many times, which has poor performance.  Consider joining all columns at once using pd.concat(axis=1) instead. To get a de-fragmented frame, use `newframe = frame.copy()`\n",
      "  data[ticker] = hist['Close']\n"
     ]
    },
    {
     "name": "stdout",
     "output_type": "stream",
     "text": [
      "Downloading ES...\n",
      "Downloading EXC...\n"
     ]
    },
    {
     "name": "stderr",
     "output_type": "stream",
     "text": [
      "/var/folders/py/pjzjs05s7494ftly1fgt3g0c0000gn/T/ipykernel_14131/3818152178.py:8: PerformanceWarning: DataFrame is highly fragmented.  This is usually the result of calling `frame.insert` many times, which has poor performance.  Consider joining all columns at once using pd.concat(axis=1) instead. To get a de-fragmented frame, use `newframe = frame.copy()`\n",
      "  data[ticker] = hist['Close']\n",
      "/var/folders/py/pjzjs05s7494ftly1fgt3g0c0000gn/T/ipykernel_14131/3818152178.py:8: PerformanceWarning: DataFrame is highly fragmented.  This is usually the result of calling `frame.insert` many times, which has poor performance.  Consider joining all columns at once using pd.concat(axis=1) instead. To get a de-fragmented frame, use `newframe = frame.copy()`\n",
      "  data[ticker] = hist['Close']\n",
      "/var/folders/py/pjzjs05s7494ftly1fgt3g0c0000gn/T/ipykernel_14131/3818152178.py:8: PerformanceWarning: DataFrame is highly fragmented.  This is usually the result of calling `frame.insert` many times, which has poor performance.  Consider joining all columns at once using pd.concat(axis=1) instead. To get a de-fragmented frame, use `newframe = frame.copy()`\n",
      "  data[ticker] = hist['Close']\n"
     ]
    },
    {
     "name": "stdout",
     "output_type": "stream",
     "text": [
      "Downloading EXE...\n",
      "Downloading EXPE...\n",
      "Downloading EXPD...\n"
     ]
    },
    {
     "name": "stderr",
     "output_type": "stream",
     "text": [
      "/var/folders/py/pjzjs05s7494ftly1fgt3g0c0000gn/T/ipykernel_14131/3818152178.py:8: PerformanceWarning: DataFrame is highly fragmented.  This is usually the result of calling `frame.insert` many times, which has poor performance.  Consider joining all columns at once using pd.concat(axis=1) instead. To get a de-fragmented frame, use `newframe = frame.copy()`\n",
      "  data[ticker] = hist['Close']\n"
     ]
    },
    {
     "name": "stdout",
     "output_type": "stream",
     "text": [
      "Downloading EXR...\n"
     ]
    },
    {
     "name": "stderr",
     "output_type": "stream",
     "text": [
      "/var/folders/py/pjzjs05s7494ftly1fgt3g0c0000gn/T/ipykernel_14131/3818152178.py:8: PerformanceWarning: DataFrame is highly fragmented.  This is usually the result of calling `frame.insert` many times, which has poor performance.  Consider joining all columns at once using pd.concat(axis=1) instead. To get a de-fragmented frame, use `newframe = frame.copy()`\n",
      "  data[ticker] = hist['Close']\n",
      "/var/folders/py/pjzjs05s7494ftly1fgt3g0c0000gn/T/ipykernel_14131/3818152178.py:8: PerformanceWarning: DataFrame is highly fragmented.  This is usually the result of calling `frame.insert` many times, which has poor performance.  Consider joining all columns at once using pd.concat(axis=1) instead. To get a de-fragmented frame, use `newframe = frame.copy()`\n",
      "  data[ticker] = hist['Close']\n"
     ]
    },
    {
     "name": "stdout",
     "output_type": "stream",
     "text": [
      "Downloading XOM...\n",
      "Downloading FFIV...\n"
     ]
    },
    {
     "name": "stderr",
     "output_type": "stream",
     "text": [
      "/var/folders/py/pjzjs05s7494ftly1fgt3g0c0000gn/T/ipykernel_14131/3818152178.py:8: PerformanceWarning: DataFrame is highly fragmented.  This is usually the result of calling `frame.insert` many times, which has poor performance.  Consider joining all columns at once using pd.concat(axis=1) instead. To get a de-fragmented frame, use `newframe = frame.copy()`\n",
      "  data[ticker] = hist['Close']\n",
      "/var/folders/py/pjzjs05s7494ftly1fgt3g0c0000gn/T/ipykernel_14131/3818152178.py:8: PerformanceWarning: DataFrame is highly fragmented.  This is usually the result of calling `frame.insert` many times, which has poor performance.  Consider joining all columns at once using pd.concat(axis=1) instead. To get a de-fragmented frame, use `newframe = frame.copy()`\n",
      "  data[ticker] = hist['Close']\n"
     ]
    },
    {
     "name": "stdout",
     "output_type": "stream",
     "text": [
      "Downloading FDS...\n",
      "Downloading FICO...\n"
     ]
    },
    {
     "name": "stderr",
     "output_type": "stream",
     "text": [
      "/var/folders/py/pjzjs05s7494ftly1fgt3g0c0000gn/T/ipykernel_14131/3818152178.py:8: PerformanceWarning: DataFrame is highly fragmented.  This is usually the result of calling `frame.insert` many times, which has poor performance.  Consider joining all columns at once using pd.concat(axis=1) instead. To get a de-fragmented frame, use `newframe = frame.copy()`\n",
      "  data[ticker] = hist['Close']\n",
      "/var/folders/py/pjzjs05s7494ftly1fgt3g0c0000gn/T/ipykernel_14131/3818152178.py:8: PerformanceWarning: DataFrame is highly fragmented.  This is usually the result of calling `frame.insert` many times, which has poor performance.  Consider joining all columns at once using pd.concat(axis=1) instead. To get a de-fragmented frame, use `newframe = frame.copy()`\n",
      "  data[ticker] = hist['Close']\n"
     ]
    },
    {
     "name": "stdout",
     "output_type": "stream",
     "text": [
      "Downloading FAST...\n",
      "Downloading FRT...\n"
     ]
    },
    {
     "name": "stderr",
     "output_type": "stream",
     "text": [
      "/var/folders/py/pjzjs05s7494ftly1fgt3g0c0000gn/T/ipykernel_14131/3818152178.py:8: PerformanceWarning: DataFrame is highly fragmented.  This is usually the result of calling `frame.insert` many times, which has poor performance.  Consider joining all columns at once using pd.concat(axis=1) instead. To get a de-fragmented frame, use `newframe = frame.copy()`\n",
      "  data[ticker] = hist['Close']\n",
      "/var/folders/py/pjzjs05s7494ftly1fgt3g0c0000gn/T/ipykernel_14131/3818152178.py:8: PerformanceWarning: DataFrame is highly fragmented.  This is usually the result of calling `frame.insert` many times, which has poor performance.  Consider joining all columns at once using pd.concat(axis=1) instead. To get a de-fragmented frame, use `newframe = frame.copy()`\n",
      "  data[ticker] = hist['Close']\n"
     ]
    },
    {
     "name": "stdout",
     "output_type": "stream",
     "text": [
      "Downloading FDX...\n",
      "Downloading FIS...\n"
     ]
    },
    {
     "name": "stderr",
     "output_type": "stream",
     "text": [
      "/var/folders/py/pjzjs05s7494ftly1fgt3g0c0000gn/T/ipykernel_14131/3818152178.py:8: PerformanceWarning: DataFrame is highly fragmented.  This is usually the result of calling `frame.insert` many times, which has poor performance.  Consider joining all columns at once using pd.concat(axis=1) instead. To get a de-fragmented frame, use `newframe = frame.copy()`\n",
      "  data[ticker] = hist['Close']\n",
      "/var/folders/py/pjzjs05s7494ftly1fgt3g0c0000gn/T/ipykernel_14131/3818152178.py:8: PerformanceWarning: DataFrame is highly fragmented.  This is usually the result of calling `frame.insert` many times, which has poor performance.  Consider joining all columns at once using pd.concat(axis=1) instead. To get a de-fragmented frame, use `newframe = frame.copy()`\n",
      "  data[ticker] = hist['Close']\n",
      "/var/folders/py/pjzjs05s7494ftly1fgt3g0c0000gn/T/ipykernel_14131/3818152178.py:8: PerformanceWarning: DataFrame is highly fragmented.  This is usually the result of calling `frame.insert` many times, which has poor performance.  Consider joining all columns at once using pd.concat(axis=1) instead. To get a de-fragmented frame, use `newframe = frame.copy()`\n",
      "  data[ticker] = hist['Close']\n"
     ]
    },
    {
     "name": "stdout",
     "output_type": "stream",
     "text": [
      "Downloading FITB...\n",
      "Downloading FSLR...\n",
      "Downloading FE...\n"
     ]
    },
    {
     "name": "stderr",
     "output_type": "stream",
     "text": [
      "/var/folders/py/pjzjs05s7494ftly1fgt3g0c0000gn/T/ipykernel_14131/3818152178.py:8: PerformanceWarning: DataFrame is highly fragmented.  This is usually the result of calling `frame.insert` many times, which has poor performance.  Consider joining all columns at once using pd.concat(axis=1) instead. To get a de-fragmented frame, use `newframe = frame.copy()`\n",
      "  data[ticker] = hist['Close']\n"
     ]
    },
    {
     "name": "stdout",
     "output_type": "stream",
     "text": [
      "Downloading FI...\n"
     ]
    },
    {
     "name": "stderr",
     "output_type": "stream",
     "text": [
      "/var/folders/py/pjzjs05s7494ftly1fgt3g0c0000gn/T/ipykernel_14131/3818152178.py:8: PerformanceWarning: DataFrame is highly fragmented.  This is usually the result of calling `frame.insert` many times, which has poor performance.  Consider joining all columns at once using pd.concat(axis=1) instead. To get a de-fragmented frame, use `newframe = frame.copy()`\n",
      "  data[ticker] = hist['Close']\n",
      "/var/folders/py/pjzjs05s7494ftly1fgt3g0c0000gn/T/ipykernel_14131/3818152178.py:8: PerformanceWarning: DataFrame is highly fragmented.  This is usually the result of calling `frame.insert` many times, which has poor performance.  Consider joining all columns at once using pd.concat(axis=1) instead. To get a de-fragmented frame, use `newframe = frame.copy()`\n",
      "  data[ticker] = hist['Close']\n"
     ]
    },
    {
     "name": "stdout",
     "output_type": "stream",
     "text": [
      "Downloading F...\n",
      "Downloading FTNT...\n"
     ]
    },
    {
     "name": "stderr",
     "output_type": "stream",
     "text": [
      "/var/folders/py/pjzjs05s7494ftly1fgt3g0c0000gn/T/ipykernel_14131/3818152178.py:8: PerformanceWarning: DataFrame is highly fragmented.  This is usually the result of calling `frame.insert` many times, which has poor performance.  Consider joining all columns at once using pd.concat(axis=1) instead. To get a de-fragmented frame, use `newframe = frame.copy()`\n",
      "  data[ticker] = hist['Close']\n",
      "/var/folders/py/pjzjs05s7494ftly1fgt3g0c0000gn/T/ipykernel_14131/3818152178.py:8: PerformanceWarning: DataFrame is highly fragmented.  This is usually the result of calling `frame.insert` many times, which has poor performance.  Consider joining all columns at once using pd.concat(axis=1) instead. To get a de-fragmented frame, use `newframe = frame.copy()`\n",
      "  data[ticker] = hist['Close']\n"
     ]
    },
    {
     "name": "stdout",
     "output_type": "stream",
     "text": [
      "Downloading FTV...\n",
      "Downloading FOXA...\n"
     ]
    },
    {
     "name": "stderr",
     "output_type": "stream",
     "text": [
      "/var/folders/py/pjzjs05s7494ftly1fgt3g0c0000gn/T/ipykernel_14131/3818152178.py:8: PerformanceWarning: DataFrame is highly fragmented.  This is usually the result of calling `frame.insert` many times, which has poor performance.  Consider joining all columns at once using pd.concat(axis=1) instead. To get a de-fragmented frame, use `newframe = frame.copy()`\n",
      "  data[ticker] = hist['Close']\n",
      "/var/folders/py/pjzjs05s7494ftly1fgt3g0c0000gn/T/ipykernel_14131/3818152178.py:8: PerformanceWarning: DataFrame is highly fragmented.  This is usually the result of calling `frame.insert` many times, which has poor performance.  Consider joining all columns at once using pd.concat(axis=1) instead. To get a de-fragmented frame, use `newframe = frame.copy()`\n",
      "  data[ticker] = hist['Close']\n"
     ]
    },
    {
     "name": "stdout",
     "output_type": "stream",
     "text": [
      "Downloading FOX...\n",
      "Downloading BEN...\n"
     ]
    },
    {
     "name": "stderr",
     "output_type": "stream",
     "text": [
      "/var/folders/py/pjzjs05s7494ftly1fgt3g0c0000gn/T/ipykernel_14131/3818152178.py:8: PerformanceWarning: DataFrame is highly fragmented.  This is usually the result of calling `frame.insert` many times, which has poor performance.  Consider joining all columns at once using pd.concat(axis=1) instead. To get a de-fragmented frame, use `newframe = frame.copy()`\n",
      "  data[ticker] = hist['Close']\n",
      "/var/folders/py/pjzjs05s7494ftly1fgt3g0c0000gn/T/ipykernel_14131/3818152178.py:8: PerformanceWarning: DataFrame is highly fragmented.  This is usually the result of calling `frame.insert` many times, which has poor performance.  Consider joining all columns at once using pd.concat(axis=1) instead. To get a de-fragmented frame, use `newframe = frame.copy()`\n",
      "  data[ticker] = hist['Close']\n"
     ]
    },
    {
     "name": "stdout",
     "output_type": "stream",
     "text": [
      "Downloading FCX...\n",
      "Downloading GRMN...\n"
     ]
    },
    {
     "name": "stderr",
     "output_type": "stream",
     "text": [
      "/var/folders/py/pjzjs05s7494ftly1fgt3g0c0000gn/T/ipykernel_14131/3818152178.py:8: PerformanceWarning: DataFrame is highly fragmented.  This is usually the result of calling `frame.insert` many times, which has poor performance.  Consider joining all columns at once using pd.concat(axis=1) instead. To get a de-fragmented frame, use `newframe = frame.copy()`\n",
      "  data[ticker] = hist['Close']\n",
      "/var/folders/py/pjzjs05s7494ftly1fgt3g0c0000gn/T/ipykernel_14131/3818152178.py:8: PerformanceWarning: DataFrame is highly fragmented.  This is usually the result of calling `frame.insert` many times, which has poor performance.  Consider joining all columns at once using pd.concat(axis=1) instead. To get a de-fragmented frame, use `newframe = frame.copy()`\n",
      "  data[ticker] = hist['Close']\n"
     ]
    },
    {
     "name": "stdout",
     "output_type": "stream",
     "text": [
      "Downloading IT...\n",
      "Downloading GE...\n"
     ]
    },
    {
     "name": "stderr",
     "output_type": "stream",
     "text": [
      "/var/folders/py/pjzjs05s7494ftly1fgt3g0c0000gn/T/ipykernel_14131/3818152178.py:8: PerformanceWarning: DataFrame is highly fragmented.  This is usually the result of calling `frame.insert` many times, which has poor performance.  Consider joining all columns at once using pd.concat(axis=1) instead. To get a de-fragmented frame, use `newframe = frame.copy()`\n",
      "  data[ticker] = hist['Close']\n",
      "/var/folders/py/pjzjs05s7494ftly1fgt3g0c0000gn/T/ipykernel_14131/3818152178.py:8: PerformanceWarning: DataFrame is highly fragmented.  This is usually the result of calling `frame.insert` many times, which has poor performance.  Consider joining all columns at once using pd.concat(axis=1) instead. To get a de-fragmented frame, use `newframe = frame.copy()`\n",
      "  data[ticker] = hist['Close']\n"
     ]
    },
    {
     "name": "stdout",
     "output_type": "stream",
     "text": [
      "Downloading GEHC...\n",
      "Downloading GEV...\n"
     ]
    },
    {
     "name": "stderr",
     "output_type": "stream",
     "text": [
      "/var/folders/py/pjzjs05s7494ftly1fgt3g0c0000gn/T/ipykernel_14131/3818152178.py:8: PerformanceWarning: DataFrame is highly fragmented.  This is usually the result of calling `frame.insert` many times, which has poor performance.  Consider joining all columns at once using pd.concat(axis=1) instead. To get a de-fragmented frame, use `newframe = frame.copy()`\n",
      "  data[ticker] = hist['Close']\n"
     ]
    },
    {
     "name": "stdout",
     "output_type": "stream",
     "text": [
      "Downloading GEN...\n"
     ]
    },
    {
     "name": "stderr",
     "output_type": "stream",
     "text": [
      "/var/folders/py/pjzjs05s7494ftly1fgt3g0c0000gn/T/ipykernel_14131/3818152178.py:8: PerformanceWarning: DataFrame is highly fragmented.  This is usually the result of calling `frame.insert` many times, which has poor performance.  Consider joining all columns at once using pd.concat(axis=1) instead. To get a de-fragmented frame, use `newframe = frame.copy()`\n",
      "  data[ticker] = hist['Close']\n",
      "/var/folders/py/pjzjs05s7494ftly1fgt3g0c0000gn/T/ipykernel_14131/3818152178.py:8: PerformanceWarning: DataFrame is highly fragmented.  This is usually the result of calling `frame.insert` many times, which has poor performance.  Consider joining all columns at once using pd.concat(axis=1) instead. To get a de-fragmented frame, use `newframe = frame.copy()`\n",
      "  data[ticker] = hist['Close']\n"
     ]
    },
    {
     "name": "stdout",
     "output_type": "stream",
     "text": [
      "Downloading GNRC...\n",
      "Downloading GD...\n"
     ]
    },
    {
     "name": "stderr",
     "output_type": "stream",
     "text": [
      "/var/folders/py/pjzjs05s7494ftly1fgt3g0c0000gn/T/ipykernel_14131/3818152178.py:8: PerformanceWarning: DataFrame is highly fragmented.  This is usually the result of calling `frame.insert` many times, which has poor performance.  Consider joining all columns at once using pd.concat(axis=1) instead. To get a de-fragmented frame, use `newframe = frame.copy()`\n",
      "  data[ticker] = hist['Close']\n",
      "/var/folders/py/pjzjs05s7494ftly1fgt3g0c0000gn/T/ipykernel_14131/3818152178.py:8: PerformanceWarning: DataFrame is highly fragmented.  This is usually the result of calling `frame.insert` many times, which has poor performance.  Consider joining all columns at once using pd.concat(axis=1) instead. To get a de-fragmented frame, use `newframe = frame.copy()`\n",
      "  data[ticker] = hist['Close']\n"
     ]
    },
    {
     "name": "stdout",
     "output_type": "stream",
     "text": [
      "Downloading GIS...\n",
      "Downloading GM...\n"
     ]
    },
    {
     "name": "stderr",
     "output_type": "stream",
     "text": [
      "/var/folders/py/pjzjs05s7494ftly1fgt3g0c0000gn/T/ipykernel_14131/3818152178.py:8: PerformanceWarning: DataFrame is highly fragmented.  This is usually the result of calling `frame.insert` many times, which has poor performance.  Consider joining all columns at once using pd.concat(axis=1) instead. To get a de-fragmented frame, use `newframe = frame.copy()`\n",
      "  data[ticker] = hist['Close']\n"
     ]
    },
    {
     "name": "stdout",
     "output_type": "stream",
     "text": [
      "Downloading GPC...\n"
     ]
    },
    {
     "name": "stderr",
     "output_type": "stream",
     "text": [
      "/var/folders/py/pjzjs05s7494ftly1fgt3g0c0000gn/T/ipykernel_14131/3818152178.py:8: PerformanceWarning: DataFrame is highly fragmented.  This is usually the result of calling `frame.insert` many times, which has poor performance.  Consider joining all columns at once using pd.concat(axis=1) instead. To get a de-fragmented frame, use `newframe = frame.copy()`\n",
      "  data[ticker] = hist['Close']\n",
      "/var/folders/py/pjzjs05s7494ftly1fgt3g0c0000gn/T/ipykernel_14131/3818152178.py:8: PerformanceWarning: DataFrame is highly fragmented.  This is usually the result of calling `frame.insert` many times, which has poor performance.  Consider joining all columns at once using pd.concat(axis=1) instead. To get a de-fragmented frame, use `newframe = frame.copy()`\n",
      "  data[ticker] = hist['Close']\n"
     ]
    },
    {
     "name": "stdout",
     "output_type": "stream",
     "text": [
      "Downloading GILD...\n",
      "Downloading GPN...\n"
     ]
    },
    {
     "name": "stderr",
     "output_type": "stream",
     "text": [
      "/var/folders/py/pjzjs05s7494ftly1fgt3g0c0000gn/T/ipykernel_14131/3818152178.py:8: PerformanceWarning: DataFrame is highly fragmented.  This is usually the result of calling `frame.insert` many times, which has poor performance.  Consider joining all columns at once using pd.concat(axis=1) instead. To get a de-fragmented frame, use `newframe = frame.copy()`\n",
      "  data[ticker] = hist['Close']\n",
      "/var/folders/py/pjzjs05s7494ftly1fgt3g0c0000gn/T/ipykernel_14131/3818152178.py:8: PerformanceWarning: DataFrame is highly fragmented.  This is usually the result of calling `frame.insert` many times, which has poor performance.  Consider joining all columns at once using pd.concat(axis=1) instead. To get a de-fragmented frame, use `newframe = frame.copy()`\n",
      "  data[ticker] = hist['Close']\n"
     ]
    },
    {
     "name": "stdout",
     "output_type": "stream",
     "text": [
      "Downloading GL...\n",
      "Downloading GDDY...\n"
     ]
    },
    {
     "name": "stderr",
     "output_type": "stream",
     "text": [
      "/var/folders/py/pjzjs05s7494ftly1fgt3g0c0000gn/T/ipykernel_14131/3818152178.py:8: PerformanceWarning: DataFrame is highly fragmented.  This is usually the result of calling `frame.insert` many times, which has poor performance.  Consider joining all columns at once using pd.concat(axis=1) instead. To get a de-fragmented frame, use `newframe = frame.copy()`\n",
      "  data[ticker] = hist['Close']\n",
      "/var/folders/py/pjzjs05s7494ftly1fgt3g0c0000gn/T/ipykernel_14131/3818152178.py:8: PerformanceWarning: DataFrame is highly fragmented.  This is usually the result of calling `frame.insert` many times, which has poor performance.  Consider joining all columns at once using pd.concat(axis=1) instead. To get a de-fragmented frame, use `newframe = frame.copy()`\n",
      "  data[ticker] = hist['Close']\n"
     ]
    },
    {
     "name": "stdout",
     "output_type": "stream",
     "text": [
      "Downloading GS...\n",
      "Downloading HAL...\n"
     ]
    },
    {
     "name": "stderr",
     "output_type": "stream",
     "text": [
      "/var/folders/py/pjzjs05s7494ftly1fgt3g0c0000gn/T/ipykernel_14131/3818152178.py:8: PerformanceWarning: DataFrame is highly fragmented.  This is usually the result of calling `frame.insert` many times, which has poor performance.  Consider joining all columns at once using pd.concat(axis=1) instead. To get a de-fragmented frame, use `newframe = frame.copy()`\n",
      "  data[ticker] = hist['Close']\n"
     ]
    },
    {
     "name": "stdout",
     "output_type": "stream",
     "text": [
      "Downloading HIG...\n"
     ]
    },
    {
     "name": "stderr",
     "output_type": "stream",
     "text": [
      "/var/folders/py/pjzjs05s7494ftly1fgt3g0c0000gn/T/ipykernel_14131/3818152178.py:8: PerformanceWarning: DataFrame is highly fragmented.  This is usually the result of calling `frame.insert` many times, which has poor performance.  Consider joining all columns at once using pd.concat(axis=1) instead. To get a de-fragmented frame, use `newframe = frame.copy()`\n",
      "  data[ticker] = hist['Close']\n",
      "/var/folders/py/pjzjs05s7494ftly1fgt3g0c0000gn/T/ipykernel_14131/3818152178.py:8: PerformanceWarning: DataFrame is highly fragmented.  This is usually the result of calling `frame.insert` many times, which has poor performance.  Consider joining all columns at once using pd.concat(axis=1) instead. To get a de-fragmented frame, use `newframe = frame.copy()`\n",
      "  data[ticker] = hist['Close']\n"
     ]
    },
    {
     "name": "stdout",
     "output_type": "stream",
     "text": [
      "Downloading HAS...\n",
      "Downloading HCA...\n"
     ]
    },
    {
     "name": "stderr",
     "output_type": "stream",
     "text": [
      "/var/folders/py/pjzjs05s7494ftly1fgt3g0c0000gn/T/ipykernel_14131/3818152178.py:8: PerformanceWarning: DataFrame is highly fragmented.  This is usually the result of calling `frame.insert` many times, which has poor performance.  Consider joining all columns at once using pd.concat(axis=1) instead. To get a de-fragmented frame, use `newframe = frame.copy()`\n",
      "  data[ticker] = hist['Close']\n",
      "/var/folders/py/pjzjs05s7494ftly1fgt3g0c0000gn/T/ipykernel_14131/3818152178.py:8: PerformanceWarning: DataFrame is highly fragmented.  This is usually the result of calling `frame.insert` many times, which has poor performance.  Consider joining all columns at once using pd.concat(axis=1) instead. To get a de-fragmented frame, use `newframe = frame.copy()`\n",
      "  data[ticker] = hist['Close']\n"
     ]
    },
    {
     "name": "stdout",
     "output_type": "stream",
     "text": [
      "Downloading DOC...\n",
      "Downloading HSIC...\n"
     ]
    },
    {
     "name": "stderr",
     "output_type": "stream",
     "text": [
      "/var/folders/py/pjzjs05s7494ftly1fgt3g0c0000gn/T/ipykernel_14131/3818152178.py:8: PerformanceWarning: DataFrame is highly fragmented.  This is usually the result of calling `frame.insert` many times, which has poor performance.  Consider joining all columns at once using pd.concat(axis=1) instead. To get a de-fragmented frame, use `newframe = frame.copy()`\n",
      "  data[ticker] = hist['Close']\n",
      "/var/folders/py/pjzjs05s7494ftly1fgt3g0c0000gn/T/ipykernel_14131/3818152178.py:8: PerformanceWarning: DataFrame is highly fragmented.  This is usually the result of calling `frame.insert` many times, which has poor performance.  Consider joining all columns at once using pd.concat(axis=1) instead. To get a de-fragmented frame, use `newframe = frame.copy()`\n",
      "  data[ticker] = hist['Close']\n"
     ]
    },
    {
     "name": "stdout",
     "output_type": "stream",
     "text": [
      "Downloading HSY...\n",
      "Downloading HES...\n"
     ]
    },
    {
     "name": "stderr",
     "output_type": "stream",
     "text": [
      "/var/folders/py/pjzjs05s7494ftly1fgt3g0c0000gn/T/ipykernel_14131/3818152178.py:8: PerformanceWarning: DataFrame is highly fragmented.  This is usually the result of calling `frame.insert` many times, which has poor performance.  Consider joining all columns at once using pd.concat(axis=1) instead. To get a de-fragmented frame, use `newframe = frame.copy()`\n",
      "  data[ticker] = hist['Close']\n",
      "/var/folders/py/pjzjs05s7494ftly1fgt3g0c0000gn/T/ipykernel_14131/3818152178.py:8: PerformanceWarning: DataFrame is highly fragmented.  This is usually the result of calling `frame.insert` many times, which has poor performance.  Consider joining all columns at once using pd.concat(axis=1) instead. To get a de-fragmented frame, use `newframe = frame.copy()`\n",
      "  data[ticker] = hist['Close']\n"
     ]
    },
    {
     "name": "stdout",
     "output_type": "stream",
     "text": [
      "Downloading HPE...\n",
      "Downloading HLT...\n"
     ]
    },
    {
     "name": "stderr",
     "output_type": "stream",
     "text": [
      "/var/folders/py/pjzjs05s7494ftly1fgt3g0c0000gn/T/ipykernel_14131/3818152178.py:8: PerformanceWarning: DataFrame is highly fragmented.  This is usually the result of calling `frame.insert` many times, which has poor performance.  Consider joining all columns at once using pd.concat(axis=1) instead. To get a de-fragmented frame, use `newframe = frame.copy()`\n",
      "  data[ticker] = hist['Close']\n",
      "/var/folders/py/pjzjs05s7494ftly1fgt3g0c0000gn/T/ipykernel_14131/3818152178.py:8: PerformanceWarning: DataFrame is highly fragmented.  This is usually the result of calling `frame.insert` many times, which has poor performance.  Consider joining all columns at once using pd.concat(axis=1) instead. To get a de-fragmented frame, use `newframe = frame.copy()`\n",
      "  data[ticker] = hist['Close']\n"
     ]
    },
    {
     "name": "stdout",
     "output_type": "stream",
     "text": [
      "Downloading HOLX...\n",
      "Downloading HD...\n"
     ]
    },
    {
     "name": "stderr",
     "output_type": "stream",
     "text": [
      "/var/folders/py/pjzjs05s7494ftly1fgt3g0c0000gn/T/ipykernel_14131/3818152178.py:8: PerformanceWarning: DataFrame is highly fragmented.  This is usually the result of calling `frame.insert` many times, which has poor performance.  Consider joining all columns at once using pd.concat(axis=1) instead. To get a de-fragmented frame, use `newframe = frame.copy()`\n",
      "  data[ticker] = hist['Close']\n",
      "/var/folders/py/pjzjs05s7494ftly1fgt3g0c0000gn/T/ipykernel_14131/3818152178.py:8: PerformanceWarning: DataFrame is highly fragmented.  This is usually the result of calling `frame.insert` many times, which has poor performance.  Consider joining all columns at once using pd.concat(axis=1) instead. To get a de-fragmented frame, use `newframe = frame.copy()`\n",
      "  data[ticker] = hist['Close']\n"
     ]
    },
    {
     "name": "stdout",
     "output_type": "stream",
     "text": [
      "Downloading HON...\n",
      "Downloading HRL...\n"
     ]
    },
    {
     "name": "stderr",
     "output_type": "stream",
     "text": [
      "/var/folders/py/pjzjs05s7494ftly1fgt3g0c0000gn/T/ipykernel_14131/3818152178.py:8: PerformanceWarning: DataFrame is highly fragmented.  This is usually the result of calling `frame.insert` many times, which has poor performance.  Consider joining all columns at once using pd.concat(axis=1) instead. To get a de-fragmented frame, use `newframe = frame.copy()`\n",
      "  data[ticker] = hist['Close']\n"
     ]
    },
    {
     "name": "stdout",
     "output_type": "stream",
     "text": [
      "Downloading HST...\n"
     ]
    },
    {
     "name": "stderr",
     "output_type": "stream",
     "text": [
      "/var/folders/py/pjzjs05s7494ftly1fgt3g0c0000gn/T/ipykernel_14131/3818152178.py:8: PerformanceWarning: DataFrame is highly fragmented.  This is usually the result of calling `frame.insert` many times, which has poor performance.  Consider joining all columns at once using pd.concat(axis=1) instead. To get a de-fragmented frame, use `newframe = frame.copy()`\n",
      "  data[ticker] = hist['Close']\n",
      "/var/folders/py/pjzjs05s7494ftly1fgt3g0c0000gn/T/ipykernel_14131/3818152178.py:8: PerformanceWarning: DataFrame is highly fragmented.  This is usually the result of calling `frame.insert` many times, which has poor performance.  Consider joining all columns at once using pd.concat(axis=1) instead. To get a de-fragmented frame, use `newframe = frame.copy()`\n",
      "  data[ticker] = hist['Close']\n"
     ]
    },
    {
     "name": "stdout",
     "output_type": "stream",
     "text": [
      "Downloading HWM...\n",
      "Downloading HPQ...\n"
     ]
    },
    {
     "name": "stderr",
     "output_type": "stream",
     "text": [
      "/var/folders/py/pjzjs05s7494ftly1fgt3g0c0000gn/T/ipykernel_14131/3818152178.py:8: PerformanceWarning: DataFrame is highly fragmented.  This is usually the result of calling `frame.insert` many times, which has poor performance.  Consider joining all columns at once using pd.concat(axis=1) instead. To get a de-fragmented frame, use `newframe = frame.copy()`\n",
      "  data[ticker] = hist['Close']\n"
     ]
    },
    {
     "name": "stdout",
     "output_type": "stream",
     "text": [
      "Downloading HUBB...\n"
     ]
    },
    {
     "name": "stderr",
     "output_type": "stream",
     "text": [
      "/var/folders/py/pjzjs05s7494ftly1fgt3g0c0000gn/T/ipykernel_14131/3818152178.py:8: PerformanceWarning: DataFrame is highly fragmented.  This is usually the result of calling `frame.insert` many times, which has poor performance.  Consider joining all columns at once using pd.concat(axis=1) instead. To get a de-fragmented frame, use `newframe = frame.copy()`\n",
      "  data[ticker] = hist['Close']\n"
     ]
    },
    {
     "name": "stdout",
     "output_type": "stream",
     "text": [
      "Downloading HUM...\n"
     ]
    },
    {
     "name": "stderr",
     "output_type": "stream",
     "text": [
      "/var/folders/py/pjzjs05s7494ftly1fgt3g0c0000gn/T/ipykernel_14131/3818152178.py:8: PerformanceWarning: DataFrame is highly fragmented.  This is usually the result of calling `frame.insert` many times, which has poor performance.  Consider joining all columns at once using pd.concat(axis=1) instead. To get a de-fragmented frame, use `newframe = frame.copy()`\n",
      "  data[ticker] = hist['Close']\n"
     ]
    },
    {
     "name": "stdout",
     "output_type": "stream",
     "text": [
      "Downloading HBAN...\n"
     ]
    },
    {
     "name": "stderr",
     "output_type": "stream",
     "text": [
      "/var/folders/py/pjzjs05s7494ftly1fgt3g0c0000gn/T/ipykernel_14131/3818152178.py:8: PerformanceWarning: DataFrame is highly fragmented.  This is usually the result of calling `frame.insert` many times, which has poor performance.  Consider joining all columns at once using pd.concat(axis=1) instead. To get a de-fragmented frame, use `newframe = frame.copy()`\n",
      "  data[ticker] = hist['Close']\n"
     ]
    },
    {
     "name": "stdout",
     "output_type": "stream",
     "text": [
      "Downloading HII...\n"
     ]
    },
    {
     "name": "stderr",
     "output_type": "stream",
     "text": [
      "/var/folders/py/pjzjs05s7494ftly1fgt3g0c0000gn/T/ipykernel_14131/3818152178.py:8: PerformanceWarning: DataFrame is highly fragmented.  This is usually the result of calling `frame.insert` many times, which has poor performance.  Consider joining all columns at once using pd.concat(axis=1) instead. To get a de-fragmented frame, use `newframe = frame.copy()`\n",
      "  data[ticker] = hist['Close']\n"
     ]
    },
    {
     "name": "stdout",
     "output_type": "stream",
     "text": [
      "Downloading IBM...\n"
     ]
    },
    {
     "name": "stderr",
     "output_type": "stream",
     "text": [
      "/var/folders/py/pjzjs05s7494ftly1fgt3g0c0000gn/T/ipykernel_14131/3818152178.py:8: PerformanceWarning: DataFrame is highly fragmented.  This is usually the result of calling `frame.insert` many times, which has poor performance.  Consider joining all columns at once using pd.concat(axis=1) instead. To get a de-fragmented frame, use `newframe = frame.copy()`\n",
      "  data[ticker] = hist['Close']\n",
      "/var/folders/py/pjzjs05s7494ftly1fgt3g0c0000gn/T/ipykernel_14131/3818152178.py:8: PerformanceWarning: DataFrame is highly fragmented.  This is usually the result of calling `frame.insert` many times, which has poor performance.  Consider joining all columns at once using pd.concat(axis=1) instead. To get a de-fragmented frame, use `newframe = frame.copy()`\n",
      "  data[ticker] = hist['Close']\n"
     ]
    },
    {
     "name": "stdout",
     "output_type": "stream",
     "text": [
      "Downloading IEX...\n",
      "Downloading IDXX...\n"
     ]
    },
    {
     "name": "stderr",
     "output_type": "stream",
     "text": [
      "/var/folders/py/pjzjs05s7494ftly1fgt3g0c0000gn/T/ipykernel_14131/3818152178.py:8: PerformanceWarning: DataFrame is highly fragmented.  This is usually the result of calling `frame.insert` many times, which has poor performance.  Consider joining all columns at once using pd.concat(axis=1) instead. To get a de-fragmented frame, use `newframe = frame.copy()`\n",
      "  data[ticker] = hist['Close']\n",
      "/var/folders/py/pjzjs05s7494ftly1fgt3g0c0000gn/T/ipykernel_14131/3818152178.py:8: PerformanceWarning: DataFrame is highly fragmented.  This is usually the result of calling `frame.insert` many times, which has poor performance.  Consider joining all columns at once using pd.concat(axis=1) instead. To get a de-fragmented frame, use `newframe = frame.copy()`\n",
      "  data[ticker] = hist['Close']\n",
      "/var/folders/py/pjzjs05s7494ftly1fgt3g0c0000gn/T/ipykernel_14131/3818152178.py:8: PerformanceWarning: DataFrame is highly fragmented.  This is usually the result of calling `frame.insert` many times, which has poor performance.  Consider joining all columns at once using pd.concat(axis=1) instead. To get a de-fragmented frame, use `newframe = frame.copy()`\n",
      "  data[ticker] = hist['Close']\n"
     ]
    },
    {
     "name": "stdout",
     "output_type": "stream",
     "text": [
      "Downloading ITW...\n",
      "Downloading INCY...\n",
      "Downloading IR...\n"
     ]
    },
    {
     "name": "stderr",
     "output_type": "stream",
     "text": [
      "/var/folders/py/pjzjs05s7494ftly1fgt3g0c0000gn/T/ipykernel_14131/3818152178.py:8: PerformanceWarning: DataFrame is highly fragmented.  This is usually the result of calling `frame.insert` many times, which has poor performance.  Consider joining all columns at once using pd.concat(axis=1) instead. To get a de-fragmented frame, use `newframe = frame.copy()`\n",
      "  data[ticker] = hist['Close']\n",
      "/var/folders/py/pjzjs05s7494ftly1fgt3g0c0000gn/T/ipykernel_14131/3818152178.py:8: PerformanceWarning: DataFrame is highly fragmented.  This is usually the result of calling `frame.insert` many times, which has poor performance.  Consider joining all columns at once using pd.concat(axis=1) instead. To get a de-fragmented frame, use `newframe = frame.copy()`\n",
      "  data[ticker] = hist['Close']\n",
      "/var/folders/py/pjzjs05s7494ftly1fgt3g0c0000gn/T/ipykernel_14131/3818152178.py:8: PerformanceWarning: DataFrame is highly fragmented.  This is usually the result of calling `frame.insert` many times, which has poor performance.  Consider joining all columns at once using pd.concat(axis=1) instead. To get a de-fragmented frame, use `newframe = frame.copy()`\n",
      "  data[ticker] = hist['Close']\n"
     ]
    },
    {
     "name": "stdout",
     "output_type": "stream",
     "text": [
      "Downloading PODD...\n",
      "Downloading INTC...\n",
      "Downloading ICE...\n"
     ]
    },
    {
     "name": "stderr",
     "output_type": "stream",
     "text": [
      "/var/folders/py/pjzjs05s7494ftly1fgt3g0c0000gn/T/ipykernel_14131/3818152178.py:8: PerformanceWarning: DataFrame is highly fragmented.  This is usually the result of calling `frame.insert` many times, which has poor performance.  Consider joining all columns at once using pd.concat(axis=1) instead. To get a de-fragmented frame, use `newframe = frame.copy()`\n",
      "  data[ticker] = hist['Close']\n",
      "/var/folders/py/pjzjs05s7494ftly1fgt3g0c0000gn/T/ipykernel_14131/3818152178.py:8: PerformanceWarning: DataFrame is highly fragmented.  This is usually the result of calling `frame.insert` many times, which has poor performance.  Consider joining all columns at once using pd.concat(axis=1) instead. To get a de-fragmented frame, use `newframe = frame.copy()`\n",
      "  data[ticker] = hist['Close']\n"
     ]
    },
    {
     "name": "stdout",
     "output_type": "stream",
     "text": [
      "Downloading IFF...\n",
      "Downloading IP...\n"
     ]
    },
    {
     "name": "stderr",
     "output_type": "stream",
     "text": [
      "/var/folders/py/pjzjs05s7494ftly1fgt3g0c0000gn/T/ipykernel_14131/3818152178.py:8: PerformanceWarning: DataFrame is highly fragmented.  This is usually the result of calling `frame.insert` many times, which has poor performance.  Consider joining all columns at once using pd.concat(axis=1) instead. To get a de-fragmented frame, use `newframe = frame.copy()`\n",
      "  data[ticker] = hist['Close']\n",
      "/var/folders/py/pjzjs05s7494ftly1fgt3g0c0000gn/T/ipykernel_14131/3818152178.py:8: PerformanceWarning: DataFrame is highly fragmented.  This is usually the result of calling `frame.insert` many times, which has poor performance.  Consider joining all columns at once using pd.concat(axis=1) instead. To get a de-fragmented frame, use `newframe = frame.copy()`\n",
      "  data[ticker] = hist['Close']\n"
     ]
    },
    {
     "name": "stdout",
     "output_type": "stream",
     "text": [
      "Downloading IPG...\n",
      "Downloading INTU...\n"
     ]
    },
    {
     "name": "stderr",
     "output_type": "stream",
     "text": [
      "/var/folders/py/pjzjs05s7494ftly1fgt3g0c0000gn/T/ipykernel_14131/3818152178.py:8: PerformanceWarning: DataFrame is highly fragmented.  This is usually the result of calling `frame.insert` many times, which has poor performance.  Consider joining all columns at once using pd.concat(axis=1) instead. To get a de-fragmented frame, use `newframe = frame.copy()`\n",
      "  data[ticker] = hist['Close']\n",
      "/var/folders/py/pjzjs05s7494ftly1fgt3g0c0000gn/T/ipykernel_14131/3818152178.py:8: PerformanceWarning: DataFrame is highly fragmented.  This is usually the result of calling `frame.insert` many times, which has poor performance.  Consider joining all columns at once using pd.concat(axis=1) instead. To get a de-fragmented frame, use `newframe = frame.copy()`\n",
      "  data[ticker] = hist['Close']\n"
     ]
    },
    {
     "name": "stdout",
     "output_type": "stream",
     "text": [
      "Downloading ISRG...\n",
      "Downloading IVZ...\n"
     ]
    },
    {
     "name": "stderr",
     "output_type": "stream",
     "text": [
      "/var/folders/py/pjzjs05s7494ftly1fgt3g0c0000gn/T/ipykernel_14131/3818152178.py:8: PerformanceWarning: DataFrame is highly fragmented.  This is usually the result of calling `frame.insert` many times, which has poor performance.  Consider joining all columns at once using pd.concat(axis=1) instead. To get a de-fragmented frame, use `newframe = frame.copy()`\n",
      "  data[ticker] = hist['Close']\n"
     ]
    },
    {
     "name": "stdout",
     "output_type": "stream",
     "text": [
      "Downloading INVH...\n"
     ]
    },
    {
     "name": "stderr",
     "output_type": "stream",
     "text": [
      "/var/folders/py/pjzjs05s7494ftly1fgt3g0c0000gn/T/ipykernel_14131/3818152178.py:8: PerformanceWarning: DataFrame is highly fragmented.  This is usually the result of calling `frame.insert` many times, which has poor performance.  Consider joining all columns at once using pd.concat(axis=1) instead. To get a de-fragmented frame, use `newframe = frame.copy()`\n",
      "  data[ticker] = hist['Close']\n",
      "/var/folders/py/pjzjs05s7494ftly1fgt3g0c0000gn/T/ipykernel_14131/3818152178.py:8: PerformanceWarning: DataFrame is highly fragmented.  This is usually the result of calling `frame.insert` many times, which has poor performance.  Consider joining all columns at once using pd.concat(axis=1) instead. To get a de-fragmented frame, use `newframe = frame.copy()`\n",
      "  data[ticker] = hist['Close']\n",
      "/var/folders/py/pjzjs05s7494ftly1fgt3g0c0000gn/T/ipykernel_14131/3818152178.py:8: PerformanceWarning: DataFrame is highly fragmented.  This is usually the result of calling `frame.insert` many times, which has poor performance.  Consider joining all columns at once using pd.concat(axis=1) instead. To get a de-fragmented frame, use `newframe = frame.copy()`\n",
      "  data[ticker] = hist['Close']\n"
     ]
    },
    {
     "name": "stdout",
     "output_type": "stream",
     "text": [
      "Downloading IQV...\n",
      "Downloading IRM...\n",
      "Downloading JBHT...\n"
     ]
    },
    {
     "name": "stderr",
     "output_type": "stream",
     "text": [
      "/var/folders/py/pjzjs05s7494ftly1fgt3g0c0000gn/T/ipykernel_14131/3818152178.py:8: PerformanceWarning: DataFrame is highly fragmented.  This is usually the result of calling `frame.insert` many times, which has poor performance.  Consider joining all columns at once using pd.concat(axis=1) instead. To get a de-fragmented frame, use `newframe = frame.copy()`\n",
      "  data[ticker] = hist['Close']\n",
      "/var/folders/py/pjzjs05s7494ftly1fgt3g0c0000gn/T/ipykernel_14131/3818152178.py:8: PerformanceWarning: DataFrame is highly fragmented.  This is usually the result of calling `frame.insert` many times, which has poor performance.  Consider joining all columns at once using pd.concat(axis=1) instead. To get a de-fragmented frame, use `newframe = frame.copy()`\n",
      "  data[ticker] = hist['Close']\n"
     ]
    },
    {
     "name": "stdout",
     "output_type": "stream",
     "text": [
      "Downloading JBL...\n",
      "Downloading JKHY...\n"
     ]
    },
    {
     "name": "stderr",
     "output_type": "stream",
     "text": [
      "/var/folders/py/pjzjs05s7494ftly1fgt3g0c0000gn/T/ipykernel_14131/3818152178.py:8: PerformanceWarning: DataFrame is highly fragmented.  This is usually the result of calling `frame.insert` many times, which has poor performance.  Consider joining all columns at once using pd.concat(axis=1) instead. To get a de-fragmented frame, use `newframe = frame.copy()`\n",
      "  data[ticker] = hist['Close']\n"
     ]
    },
    {
     "name": "stdout",
     "output_type": "stream",
     "text": [
      "Downloading J...\n"
     ]
    },
    {
     "name": "stderr",
     "output_type": "stream",
     "text": [
      "/var/folders/py/pjzjs05s7494ftly1fgt3g0c0000gn/T/ipykernel_14131/3818152178.py:8: PerformanceWarning: DataFrame is highly fragmented.  This is usually the result of calling `frame.insert` many times, which has poor performance.  Consider joining all columns at once using pd.concat(axis=1) instead. To get a de-fragmented frame, use `newframe = frame.copy()`\n",
      "  data[ticker] = hist['Close']\n",
      "/var/folders/py/pjzjs05s7494ftly1fgt3g0c0000gn/T/ipykernel_14131/3818152178.py:8: PerformanceWarning: DataFrame is highly fragmented.  This is usually the result of calling `frame.insert` many times, which has poor performance.  Consider joining all columns at once using pd.concat(axis=1) instead. To get a de-fragmented frame, use `newframe = frame.copy()`\n",
      "  data[ticker] = hist['Close']\n"
     ]
    },
    {
     "name": "stdout",
     "output_type": "stream",
     "text": [
      "Downloading JNJ...\n",
      "Downloading JCI...\n"
     ]
    },
    {
     "name": "stderr",
     "output_type": "stream",
     "text": [
      "/var/folders/py/pjzjs05s7494ftly1fgt3g0c0000gn/T/ipykernel_14131/3818152178.py:8: PerformanceWarning: DataFrame is highly fragmented.  This is usually the result of calling `frame.insert` many times, which has poor performance.  Consider joining all columns at once using pd.concat(axis=1) instead. To get a de-fragmented frame, use `newframe = frame.copy()`\n",
      "  data[ticker] = hist['Close']\n"
     ]
    },
    {
     "name": "stdout",
     "output_type": "stream",
     "text": [
      "Downloading JPM...\n"
     ]
    },
    {
     "name": "stderr",
     "output_type": "stream",
     "text": [
      "/var/folders/py/pjzjs05s7494ftly1fgt3g0c0000gn/T/ipykernel_14131/3818152178.py:8: PerformanceWarning: DataFrame is highly fragmented.  This is usually the result of calling `frame.insert` many times, which has poor performance.  Consider joining all columns at once using pd.concat(axis=1) instead. To get a de-fragmented frame, use `newframe = frame.copy()`\n",
      "  data[ticker] = hist['Close']\n",
      "/var/folders/py/pjzjs05s7494ftly1fgt3g0c0000gn/T/ipykernel_14131/3818152178.py:8: PerformanceWarning: DataFrame is highly fragmented.  This is usually the result of calling `frame.insert` many times, which has poor performance.  Consider joining all columns at once using pd.concat(axis=1) instead. To get a de-fragmented frame, use `newframe = frame.copy()`\n",
      "  data[ticker] = hist['Close']\n"
     ]
    },
    {
     "name": "stdout",
     "output_type": "stream",
     "text": [
      "Downloading JNPR...\n",
      "Downloading K...\n"
     ]
    },
    {
     "name": "stderr",
     "output_type": "stream",
     "text": [
      "/var/folders/py/pjzjs05s7494ftly1fgt3g0c0000gn/T/ipykernel_14131/3818152178.py:8: PerformanceWarning: DataFrame is highly fragmented.  This is usually the result of calling `frame.insert` many times, which has poor performance.  Consider joining all columns at once using pd.concat(axis=1) instead. To get a de-fragmented frame, use `newframe = frame.copy()`\n",
      "  data[ticker] = hist['Close']\n",
      "/var/folders/py/pjzjs05s7494ftly1fgt3g0c0000gn/T/ipykernel_14131/3818152178.py:8: PerformanceWarning: DataFrame is highly fragmented.  This is usually the result of calling `frame.insert` many times, which has poor performance.  Consider joining all columns at once using pd.concat(axis=1) instead. To get a de-fragmented frame, use `newframe = frame.copy()`\n",
      "  data[ticker] = hist['Close']\n",
      "/var/folders/py/pjzjs05s7494ftly1fgt3g0c0000gn/T/ipykernel_14131/3818152178.py:8: PerformanceWarning: DataFrame is highly fragmented.  This is usually the result of calling `frame.insert` many times, which has poor performance.  Consider joining all columns at once using pd.concat(axis=1) instead. To get a de-fragmented frame, use `newframe = frame.copy()`\n",
      "  data[ticker] = hist['Close']\n"
     ]
    },
    {
     "name": "stdout",
     "output_type": "stream",
     "text": [
      "Downloading KVUE...\n",
      "Downloading KDP...\n",
      "Downloading KEY...\n"
     ]
    },
    {
     "name": "stderr",
     "output_type": "stream",
     "text": [
      "/var/folders/py/pjzjs05s7494ftly1fgt3g0c0000gn/T/ipykernel_14131/3818152178.py:8: PerformanceWarning: DataFrame is highly fragmented.  This is usually the result of calling `frame.insert` many times, which has poor performance.  Consider joining all columns at once using pd.concat(axis=1) instead. To get a de-fragmented frame, use `newframe = frame.copy()`\n",
      "  data[ticker] = hist['Close']\n",
      "/var/folders/py/pjzjs05s7494ftly1fgt3g0c0000gn/T/ipykernel_14131/3818152178.py:8: PerformanceWarning: DataFrame is highly fragmented.  This is usually the result of calling `frame.insert` many times, which has poor performance.  Consider joining all columns at once using pd.concat(axis=1) instead. To get a de-fragmented frame, use `newframe = frame.copy()`\n",
      "  data[ticker] = hist['Close']\n",
      "/var/folders/py/pjzjs05s7494ftly1fgt3g0c0000gn/T/ipykernel_14131/3818152178.py:8: PerformanceWarning: DataFrame is highly fragmented.  This is usually the result of calling `frame.insert` many times, which has poor performance.  Consider joining all columns at once using pd.concat(axis=1) instead. To get a de-fragmented frame, use `newframe = frame.copy()`\n",
      "  data[ticker] = hist['Close']\n"
     ]
    },
    {
     "name": "stdout",
     "output_type": "stream",
     "text": [
      "Downloading KEYS...\n",
      "Downloading KMB...\n",
      "Downloading KIM...\n"
     ]
    },
    {
     "name": "stderr",
     "output_type": "stream",
     "text": [
      "/var/folders/py/pjzjs05s7494ftly1fgt3g0c0000gn/T/ipykernel_14131/3818152178.py:8: PerformanceWarning: DataFrame is highly fragmented.  This is usually the result of calling `frame.insert` many times, which has poor performance.  Consider joining all columns at once using pd.concat(axis=1) instead. To get a de-fragmented frame, use `newframe = frame.copy()`\n",
      "  data[ticker] = hist['Close']\n",
      "/var/folders/py/pjzjs05s7494ftly1fgt3g0c0000gn/T/ipykernel_14131/3818152178.py:8: PerformanceWarning: DataFrame is highly fragmented.  This is usually the result of calling `frame.insert` many times, which has poor performance.  Consider joining all columns at once using pd.concat(axis=1) instead. To get a de-fragmented frame, use `newframe = frame.copy()`\n",
      "  data[ticker] = hist['Close']\n",
      "/var/folders/py/pjzjs05s7494ftly1fgt3g0c0000gn/T/ipykernel_14131/3818152178.py:8: PerformanceWarning: DataFrame is highly fragmented.  This is usually the result of calling `frame.insert` many times, which has poor performance.  Consider joining all columns at once using pd.concat(axis=1) instead. To get a de-fragmented frame, use `newframe = frame.copy()`\n",
      "  data[ticker] = hist['Close']\n"
     ]
    },
    {
     "name": "stdout",
     "output_type": "stream",
     "text": [
      "Downloading KMI...\n",
      "Downloading KKR...\n",
      "Downloading KLAC...\n"
     ]
    },
    {
     "name": "stderr",
     "output_type": "stream",
     "text": [
      "/var/folders/py/pjzjs05s7494ftly1fgt3g0c0000gn/T/ipykernel_14131/3818152178.py:8: PerformanceWarning: DataFrame is highly fragmented.  This is usually the result of calling `frame.insert` many times, which has poor performance.  Consider joining all columns at once using pd.concat(axis=1) instead. To get a de-fragmented frame, use `newframe = frame.copy()`\n",
      "  data[ticker] = hist['Close']\n",
      "/var/folders/py/pjzjs05s7494ftly1fgt3g0c0000gn/T/ipykernel_14131/3818152178.py:8: PerformanceWarning: DataFrame is highly fragmented.  This is usually the result of calling `frame.insert` many times, which has poor performance.  Consider joining all columns at once using pd.concat(axis=1) instead. To get a de-fragmented frame, use `newframe = frame.copy()`\n",
      "  data[ticker] = hist['Close']\n"
     ]
    },
    {
     "name": "stdout",
     "output_type": "stream",
     "text": [
      "Downloading KHC...\n",
      "Downloading KR...\n"
     ]
    },
    {
     "name": "stderr",
     "output_type": "stream",
     "text": [
      "/var/folders/py/pjzjs05s7494ftly1fgt3g0c0000gn/T/ipykernel_14131/3818152178.py:8: PerformanceWarning: DataFrame is highly fragmented.  This is usually the result of calling `frame.insert` many times, which has poor performance.  Consider joining all columns at once using pd.concat(axis=1) instead. To get a de-fragmented frame, use `newframe = frame.copy()`\n",
      "  data[ticker] = hist['Close']\n",
      "/var/folders/py/pjzjs05s7494ftly1fgt3g0c0000gn/T/ipykernel_14131/3818152178.py:8: PerformanceWarning: DataFrame is highly fragmented.  This is usually the result of calling `frame.insert` many times, which has poor performance.  Consider joining all columns at once using pd.concat(axis=1) instead. To get a de-fragmented frame, use `newframe = frame.copy()`\n",
      "  data[ticker] = hist['Close']\n"
     ]
    },
    {
     "name": "stdout",
     "output_type": "stream",
     "text": [
      "Downloading LHX...\n",
      "Downloading LH...\n"
     ]
    },
    {
     "name": "stderr",
     "output_type": "stream",
     "text": [
      "/var/folders/py/pjzjs05s7494ftly1fgt3g0c0000gn/T/ipykernel_14131/3818152178.py:8: PerformanceWarning: DataFrame is highly fragmented.  This is usually the result of calling `frame.insert` many times, which has poor performance.  Consider joining all columns at once using pd.concat(axis=1) instead. To get a de-fragmented frame, use `newframe = frame.copy()`\n",
      "  data[ticker] = hist['Close']\n",
      "/var/folders/py/pjzjs05s7494ftly1fgt3g0c0000gn/T/ipykernel_14131/3818152178.py:8: PerformanceWarning: DataFrame is highly fragmented.  This is usually the result of calling `frame.insert` many times, which has poor performance.  Consider joining all columns at once using pd.concat(axis=1) instead. To get a de-fragmented frame, use `newframe = frame.copy()`\n",
      "  data[ticker] = hist['Close']\n"
     ]
    },
    {
     "name": "stdout",
     "output_type": "stream",
     "text": [
      "Downloading LRCX...\n",
      "Downloading LW...\n"
     ]
    },
    {
     "name": "stderr",
     "output_type": "stream",
     "text": [
      "/var/folders/py/pjzjs05s7494ftly1fgt3g0c0000gn/T/ipykernel_14131/3818152178.py:8: PerformanceWarning: DataFrame is highly fragmented.  This is usually the result of calling `frame.insert` many times, which has poor performance.  Consider joining all columns at once using pd.concat(axis=1) instead. To get a de-fragmented frame, use `newframe = frame.copy()`\n",
      "  data[ticker] = hist['Close']\n",
      "/var/folders/py/pjzjs05s7494ftly1fgt3g0c0000gn/T/ipykernel_14131/3818152178.py:8: PerformanceWarning: DataFrame is highly fragmented.  This is usually the result of calling `frame.insert` many times, which has poor performance.  Consider joining all columns at once using pd.concat(axis=1) instead. To get a de-fragmented frame, use `newframe = frame.copy()`\n",
      "  data[ticker] = hist['Close']\n"
     ]
    },
    {
     "name": "stdout",
     "output_type": "stream",
     "text": [
      "Downloading LVS...\n",
      "Downloading LDOS...\n"
     ]
    },
    {
     "name": "stderr",
     "output_type": "stream",
     "text": [
      "/var/folders/py/pjzjs05s7494ftly1fgt3g0c0000gn/T/ipykernel_14131/3818152178.py:8: PerformanceWarning: DataFrame is highly fragmented.  This is usually the result of calling `frame.insert` many times, which has poor performance.  Consider joining all columns at once using pd.concat(axis=1) instead. To get a de-fragmented frame, use `newframe = frame.copy()`\n",
      "  data[ticker] = hist['Close']\n"
     ]
    },
    {
     "name": "stdout",
     "output_type": "stream",
     "text": [
      "Downloading LEN...\n"
     ]
    },
    {
     "name": "stderr",
     "output_type": "stream",
     "text": [
      "/var/folders/py/pjzjs05s7494ftly1fgt3g0c0000gn/T/ipykernel_14131/3818152178.py:8: PerformanceWarning: DataFrame is highly fragmented.  This is usually the result of calling `frame.insert` many times, which has poor performance.  Consider joining all columns at once using pd.concat(axis=1) instead. To get a de-fragmented frame, use `newframe = frame.copy()`\n",
      "  data[ticker] = hist['Close']\n",
      "/var/folders/py/pjzjs05s7494ftly1fgt3g0c0000gn/T/ipykernel_14131/3818152178.py:8: PerformanceWarning: DataFrame is highly fragmented.  This is usually the result of calling `frame.insert` many times, which has poor performance.  Consider joining all columns at once using pd.concat(axis=1) instead. To get a de-fragmented frame, use `newframe = frame.copy()`\n",
      "  data[ticker] = hist['Close']\n"
     ]
    },
    {
     "name": "stdout",
     "output_type": "stream",
     "text": [
      "Downloading LII...\n",
      "Downloading LLY...\n"
     ]
    },
    {
     "name": "stderr",
     "output_type": "stream",
     "text": [
      "/var/folders/py/pjzjs05s7494ftly1fgt3g0c0000gn/T/ipykernel_14131/3818152178.py:8: PerformanceWarning: DataFrame is highly fragmented.  This is usually the result of calling `frame.insert` many times, which has poor performance.  Consider joining all columns at once using pd.concat(axis=1) instead. To get a de-fragmented frame, use `newframe = frame.copy()`\n",
      "  data[ticker] = hist['Close']\n",
      "/var/folders/py/pjzjs05s7494ftly1fgt3g0c0000gn/T/ipykernel_14131/3818152178.py:8: PerformanceWarning: DataFrame is highly fragmented.  This is usually the result of calling `frame.insert` many times, which has poor performance.  Consider joining all columns at once using pd.concat(axis=1) instead. To get a de-fragmented frame, use `newframe = frame.copy()`\n",
      "  data[ticker] = hist['Close']\n"
     ]
    },
    {
     "name": "stdout",
     "output_type": "stream",
     "text": [
      "Downloading LIN...\n",
      "Downloading LYV...\n"
     ]
    },
    {
     "name": "stderr",
     "output_type": "stream",
     "text": [
      "/var/folders/py/pjzjs05s7494ftly1fgt3g0c0000gn/T/ipykernel_14131/3818152178.py:8: PerformanceWarning: DataFrame is highly fragmented.  This is usually the result of calling `frame.insert` many times, which has poor performance.  Consider joining all columns at once using pd.concat(axis=1) instead. To get a de-fragmented frame, use `newframe = frame.copy()`\n",
      "  data[ticker] = hist['Close']\n",
      "/var/folders/py/pjzjs05s7494ftly1fgt3g0c0000gn/T/ipykernel_14131/3818152178.py:8: PerformanceWarning: DataFrame is highly fragmented.  This is usually the result of calling `frame.insert` many times, which has poor performance.  Consider joining all columns at once using pd.concat(axis=1) instead. To get a de-fragmented frame, use `newframe = frame.copy()`\n",
      "  data[ticker] = hist['Close']\n"
     ]
    },
    {
     "name": "stdout",
     "output_type": "stream",
     "text": [
      "Downloading LKQ...\n",
      "Downloading LMT...\n"
     ]
    },
    {
     "name": "stderr",
     "output_type": "stream",
     "text": [
      "/var/folders/py/pjzjs05s7494ftly1fgt3g0c0000gn/T/ipykernel_14131/3818152178.py:8: PerformanceWarning: DataFrame is highly fragmented.  This is usually the result of calling `frame.insert` many times, which has poor performance.  Consider joining all columns at once using pd.concat(axis=1) instead. To get a de-fragmented frame, use `newframe = frame.copy()`\n",
      "  data[ticker] = hist['Close']\n",
      "/var/folders/py/pjzjs05s7494ftly1fgt3g0c0000gn/T/ipykernel_14131/3818152178.py:8: PerformanceWarning: DataFrame is highly fragmented.  This is usually the result of calling `frame.insert` many times, which has poor performance.  Consider joining all columns at once using pd.concat(axis=1) instead. To get a de-fragmented frame, use `newframe = frame.copy()`\n",
      "  data[ticker] = hist['Close']\n"
     ]
    },
    {
     "name": "stdout",
     "output_type": "stream",
     "text": [
      "Downloading L...\n",
      "Downloading LOW...\n"
     ]
    },
    {
     "name": "stderr",
     "output_type": "stream",
     "text": [
      "/var/folders/py/pjzjs05s7494ftly1fgt3g0c0000gn/T/ipykernel_14131/3818152178.py:8: PerformanceWarning: DataFrame is highly fragmented.  This is usually the result of calling `frame.insert` many times, which has poor performance.  Consider joining all columns at once using pd.concat(axis=1) instead. To get a de-fragmented frame, use `newframe = frame.copy()`\n",
      "  data[ticker] = hist['Close']\n"
     ]
    },
    {
     "name": "stdout",
     "output_type": "stream",
     "text": [
      "Downloading LULU...\n"
     ]
    },
    {
     "name": "stderr",
     "output_type": "stream",
     "text": [
      "/var/folders/py/pjzjs05s7494ftly1fgt3g0c0000gn/T/ipykernel_14131/3818152178.py:8: PerformanceWarning: DataFrame is highly fragmented.  This is usually the result of calling `frame.insert` many times, which has poor performance.  Consider joining all columns at once using pd.concat(axis=1) instead. To get a de-fragmented frame, use `newframe = frame.copy()`\n",
      "  data[ticker] = hist['Close']\n",
      "/var/folders/py/pjzjs05s7494ftly1fgt3g0c0000gn/T/ipykernel_14131/3818152178.py:8: PerformanceWarning: DataFrame is highly fragmented.  This is usually the result of calling `frame.insert` many times, which has poor performance.  Consider joining all columns at once using pd.concat(axis=1) instead. To get a de-fragmented frame, use `newframe = frame.copy()`\n",
      "  data[ticker] = hist['Close']\n"
     ]
    },
    {
     "name": "stdout",
     "output_type": "stream",
     "text": [
      "Downloading LYB...\n",
      "Downloading MTB...\n"
     ]
    },
    {
     "name": "stderr",
     "output_type": "stream",
     "text": [
      "/var/folders/py/pjzjs05s7494ftly1fgt3g0c0000gn/T/ipykernel_14131/3818152178.py:8: PerformanceWarning: DataFrame is highly fragmented.  This is usually the result of calling `frame.insert` many times, which has poor performance.  Consider joining all columns at once using pd.concat(axis=1) instead. To get a de-fragmented frame, use `newframe = frame.copy()`\n",
      "  data[ticker] = hist['Close']\n",
      "/var/folders/py/pjzjs05s7494ftly1fgt3g0c0000gn/T/ipykernel_14131/3818152178.py:8: PerformanceWarning: DataFrame is highly fragmented.  This is usually the result of calling `frame.insert` many times, which has poor performance.  Consider joining all columns at once using pd.concat(axis=1) instead. To get a de-fragmented frame, use `newframe = frame.copy()`\n",
      "  data[ticker] = hist['Close']\n"
     ]
    },
    {
     "name": "stdout",
     "output_type": "stream",
     "text": [
      "Downloading MPC...\n",
      "Downloading MKTX...\n"
     ]
    },
    {
     "name": "stderr",
     "output_type": "stream",
     "text": [
      "/var/folders/py/pjzjs05s7494ftly1fgt3g0c0000gn/T/ipykernel_14131/3818152178.py:8: PerformanceWarning: DataFrame is highly fragmented.  This is usually the result of calling `frame.insert` many times, which has poor performance.  Consider joining all columns at once using pd.concat(axis=1) instead. To get a de-fragmented frame, use `newframe = frame.copy()`\n",
      "  data[ticker] = hist['Close']\n",
      "/var/folders/py/pjzjs05s7494ftly1fgt3g0c0000gn/T/ipykernel_14131/3818152178.py:8: PerformanceWarning: DataFrame is highly fragmented.  This is usually the result of calling `frame.insert` many times, which has poor performance.  Consider joining all columns at once using pd.concat(axis=1) instead. To get a de-fragmented frame, use `newframe = frame.copy()`\n",
      "  data[ticker] = hist['Close']\n"
     ]
    },
    {
     "name": "stdout",
     "output_type": "stream",
     "text": [
      "Downloading MAR...\n",
      "Downloading MMC...\n"
     ]
    },
    {
     "name": "stderr",
     "output_type": "stream",
     "text": [
      "/var/folders/py/pjzjs05s7494ftly1fgt3g0c0000gn/T/ipykernel_14131/3818152178.py:8: PerformanceWarning: DataFrame is highly fragmented.  This is usually the result of calling `frame.insert` many times, which has poor performance.  Consider joining all columns at once using pd.concat(axis=1) instead. To get a de-fragmented frame, use `newframe = frame.copy()`\n",
      "  data[ticker] = hist['Close']\n",
      "/var/folders/py/pjzjs05s7494ftly1fgt3g0c0000gn/T/ipykernel_14131/3818152178.py:8: PerformanceWarning: DataFrame is highly fragmented.  This is usually the result of calling `frame.insert` many times, which has poor performance.  Consider joining all columns at once using pd.concat(axis=1) instead. To get a de-fragmented frame, use `newframe = frame.copy()`\n",
      "  data[ticker] = hist['Close']\n"
     ]
    },
    {
     "name": "stdout",
     "output_type": "stream",
     "text": [
      "Downloading MLM...\n",
      "Downloading MAS...\n"
     ]
    },
    {
     "name": "stderr",
     "output_type": "stream",
     "text": [
      "/var/folders/py/pjzjs05s7494ftly1fgt3g0c0000gn/T/ipykernel_14131/3818152178.py:8: PerformanceWarning: DataFrame is highly fragmented.  This is usually the result of calling `frame.insert` many times, which has poor performance.  Consider joining all columns at once using pd.concat(axis=1) instead. To get a de-fragmented frame, use `newframe = frame.copy()`\n",
      "  data[ticker] = hist['Close']\n",
      "/var/folders/py/pjzjs05s7494ftly1fgt3g0c0000gn/T/ipykernel_14131/3818152178.py:8: PerformanceWarning: DataFrame is highly fragmented.  This is usually the result of calling `frame.insert` many times, which has poor performance.  Consider joining all columns at once using pd.concat(axis=1) instead. To get a de-fragmented frame, use `newframe = frame.copy()`\n",
      "  data[ticker] = hist['Close']\n"
     ]
    },
    {
     "name": "stdout",
     "output_type": "stream",
     "text": [
      "Downloading MA...\n",
      "Downloading MTCH...\n"
     ]
    },
    {
     "name": "stderr",
     "output_type": "stream",
     "text": [
      "/var/folders/py/pjzjs05s7494ftly1fgt3g0c0000gn/T/ipykernel_14131/3818152178.py:8: PerformanceWarning: DataFrame is highly fragmented.  This is usually the result of calling `frame.insert` many times, which has poor performance.  Consider joining all columns at once using pd.concat(axis=1) instead. To get a de-fragmented frame, use `newframe = frame.copy()`\n",
      "  data[ticker] = hist['Close']\n",
      "/var/folders/py/pjzjs05s7494ftly1fgt3g0c0000gn/T/ipykernel_14131/3818152178.py:8: PerformanceWarning: DataFrame is highly fragmented.  This is usually the result of calling `frame.insert` many times, which has poor performance.  Consider joining all columns at once using pd.concat(axis=1) instead. To get a de-fragmented frame, use `newframe = frame.copy()`\n",
      "  data[ticker] = hist['Close']\n"
     ]
    },
    {
     "name": "stdout",
     "output_type": "stream",
     "text": [
      "Downloading MKC...\n",
      "Downloading MCD...\n"
     ]
    },
    {
     "name": "stderr",
     "output_type": "stream",
     "text": [
      "/var/folders/py/pjzjs05s7494ftly1fgt3g0c0000gn/T/ipykernel_14131/3818152178.py:8: PerformanceWarning: DataFrame is highly fragmented.  This is usually the result of calling `frame.insert` many times, which has poor performance.  Consider joining all columns at once using pd.concat(axis=1) instead. To get a de-fragmented frame, use `newframe = frame.copy()`\n",
      "  data[ticker] = hist['Close']\n",
      "/var/folders/py/pjzjs05s7494ftly1fgt3g0c0000gn/T/ipykernel_14131/3818152178.py:8: PerformanceWarning: DataFrame is highly fragmented.  This is usually the result of calling `frame.insert` many times, which has poor performance.  Consider joining all columns at once using pd.concat(axis=1) instead. To get a de-fragmented frame, use `newframe = frame.copy()`\n",
      "  data[ticker] = hist['Close']\n"
     ]
    },
    {
     "name": "stdout",
     "output_type": "stream",
     "text": [
      "Downloading MCK...\n",
      "Downloading MDT...\n"
     ]
    },
    {
     "name": "stderr",
     "output_type": "stream",
     "text": [
      "/var/folders/py/pjzjs05s7494ftly1fgt3g0c0000gn/T/ipykernel_14131/3818152178.py:8: PerformanceWarning: DataFrame is highly fragmented.  This is usually the result of calling `frame.insert` many times, which has poor performance.  Consider joining all columns at once using pd.concat(axis=1) instead. To get a de-fragmented frame, use `newframe = frame.copy()`\n",
      "  data[ticker] = hist['Close']\n",
      "/var/folders/py/pjzjs05s7494ftly1fgt3g0c0000gn/T/ipykernel_14131/3818152178.py:8: PerformanceWarning: DataFrame is highly fragmented.  This is usually the result of calling `frame.insert` many times, which has poor performance.  Consider joining all columns at once using pd.concat(axis=1) instead. To get a de-fragmented frame, use `newframe = frame.copy()`\n",
      "  data[ticker] = hist['Close']\n"
     ]
    },
    {
     "name": "stdout",
     "output_type": "stream",
     "text": [
      "Downloading MRK...\n",
      "Downloading META...\n"
     ]
    },
    {
     "name": "stderr",
     "output_type": "stream",
     "text": [
      "/var/folders/py/pjzjs05s7494ftly1fgt3g0c0000gn/T/ipykernel_14131/3818152178.py:8: PerformanceWarning: DataFrame is highly fragmented.  This is usually the result of calling `frame.insert` many times, which has poor performance.  Consider joining all columns at once using pd.concat(axis=1) instead. To get a de-fragmented frame, use `newframe = frame.copy()`\n",
      "  data[ticker] = hist['Close']\n"
     ]
    },
    {
     "name": "stdout",
     "output_type": "stream",
     "text": [
      "Downloading MET...\n"
     ]
    },
    {
     "name": "stderr",
     "output_type": "stream",
     "text": [
      "/var/folders/py/pjzjs05s7494ftly1fgt3g0c0000gn/T/ipykernel_14131/3818152178.py:8: PerformanceWarning: DataFrame is highly fragmented.  This is usually the result of calling `frame.insert` many times, which has poor performance.  Consider joining all columns at once using pd.concat(axis=1) instead. To get a de-fragmented frame, use `newframe = frame.copy()`\n",
      "  data[ticker] = hist['Close']\n",
      "/var/folders/py/pjzjs05s7494ftly1fgt3g0c0000gn/T/ipykernel_14131/3818152178.py:8: PerformanceWarning: DataFrame is highly fragmented.  This is usually the result of calling `frame.insert` many times, which has poor performance.  Consider joining all columns at once using pd.concat(axis=1) instead. To get a de-fragmented frame, use `newframe = frame.copy()`\n",
      "  data[ticker] = hist['Close']\n",
      "/var/folders/py/pjzjs05s7494ftly1fgt3g0c0000gn/T/ipykernel_14131/3818152178.py:8: PerformanceWarning: DataFrame is highly fragmented.  This is usually the result of calling `frame.insert` many times, which has poor performance.  Consider joining all columns at once using pd.concat(axis=1) instead. To get a de-fragmented frame, use `newframe = frame.copy()`\n",
      "  data[ticker] = hist['Close']\n"
     ]
    },
    {
     "name": "stdout",
     "output_type": "stream",
     "text": [
      "Downloading MTD...\n",
      "Downloading MGM...\n",
      "Downloading MCHP...\n"
     ]
    },
    {
     "name": "stderr",
     "output_type": "stream",
     "text": [
      "/var/folders/py/pjzjs05s7494ftly1fgt3g0c0000gn/T/ipykernel_14131/3818152178.py:8: PerformanceWarning: DataFrame is highly fragmented.  This is usually the result of calling `frame.insert` many times, which has poor performance.  Consider joining all columns at once using pd.concat(axis=1) instead. To get a de-fragmented frame, use `newframe = frame.copy()`\n",
      "  data[ticker] = hist['Close']\n",
      "/var/folders/py/pjzjs05s7494ftly1fgt3g0c0000gn/T/ipykernel_14131/3818152178.py:8: PerformanceWarning: DataFrame is highly fragmented.  This is usually the result of calling `frame.insert` many times, which has poor performance.  Consider joining all columns at once using pd.concat(axis=1) instead. To get a de-fragmented frame, use `newframe = frame.copy()`\n",
      "  data[ticker] = hist['Close']\n"
     ]
    },
    {
     "name": "stdout",
     "output_type": "stream",
     "text": [
      "Downloading MU...\n",
      "Downloading MSFT...\n"
     ]
    },
    {
     "name": "stderr",
     "output_type": "stream",
     "text": [
      "/var/folders/py/pjzjs05s7494ftly1fgt3g0c0000gn/T/ipykernel_14131/3818152178.py:8: PerformanceWarning: DataFrame is highly fragmented.  This is usually the result of calling `frame.insert` many times, which has poor performance.  Consider joining all columns at once using pd.concat(axis=1) instead. To get a de-fragmented frame, use `newframe = frame.copy()`\n",
      "  data[ticker] = hist['Close']\n",
      "/var/folders/py/pjzjs05s7494ftly1fgt3g0c0000gn/T/ipykernel_14131/3818152178.py:8: PerformanceWarning: DataFrame is highly fragmented.  This is usually the result of calling `frame.insert` many times, which has poor performance.  Consider joining all columns at once using pd.concat(axis=1) instead. To get a de-fragmented frame, use `newframe = frame.copy()`\n",
      "  data[ticker] = hist['Close']\n"
     ]
    },
    {
     "name": "stdout",
     "output_type": "stream",
     "text": [
      "Downloading MAA...\n",
      "Downloading MRNA...\n"
     ]
    },
    {
     "name": "stderr",
     "output_type": "stream",
     "text": [
      "/var/folders/py/pjzjs05s7494ftly1fgt3g0c0000gn/T/ipykernel_14131/3818152178.py:8: PerformanceWarning: DataFrame is highly fragmented.  This is usually the result of calling `frame.insert` many times, which has poor performance.  Consider joining all columns at once using pd.concat(axis=1) instead. To get a de-fragmented frame, use `newframe = frame.copy()`\n",
      "  data[ticker] = hist['Close']\n",
      "/var/folders/py/pjzjs05s7494ftly1fgt3g0c0000gn/T/ipykernel_14131/3818152178.py:8: PerformanceWarning: DataFrame is highly fragmented.  This is usually the result of calling `frame.insert` many times, which has poor performance.  Consider joining all columns at once using pd.concat(axis=1) instead. To get a de-fragmented frame, use `newframe = frame.copy()`\n",
      "  data[ticker] = hist['Close']\n",
      "/var/folders/py/pjzjs05s7494ftly1fgt3g0c0000gn/T/ipykernel_14131/3818152178.py:8: PerformanceWarning: DataFrame is highly fragmented.  This is usually the result of calling `frame.insert` many times, which has poor performance.  Consider joining all columns at once using pd.concat(axis=1) instead. To get a de-fragmented frame, use `newframe = frame.copy()`\n",
      "  data[ticker] = hist['Close']\n"
     ]
    },
    {
     "name": "stdout",
     "output_type": "stream",
     "text": [
      "Downloading MHK...\n",
      "Downloading MOH...\n",
      "Downloading TAP...\n"
     ]
    },
    {
     "name": "stderr",
     "output_type": "stream",
     "text": [
      "/var/folders/py/pjzjs05s7494ftly1fgt3g0c0000gn/T/ipykernel_14131/3818152178.py:8: PerformanceWarning: DataFrame is highly fragmented.  This is usually the result of calling `frame.insert` many times, which has poor performance.  Consider joining all columns at once using pd.concat(axis=1) instead. To get a de-fragmented frame, use `newframe = frame.copy()`\n",
      "  data[ticker] = hist['Close']\n",
      "/var/folders/py/pjzjs05s7494ftly1fgt3g0c0000gn/T/ipykernel_14131/3818152178.py:8: PerformanceWarning: DataFrame is highly fragmented.  This is usually the result of calling `frame.insert` many times, which has poor performance.  Consider joining all columns at once using pd.concat(axis=1) instead. To get a de-fragmented frame, use `newframe = frame.copy()`\n",
      "  data[ticker] = hist['Close']\n"
     ]
    },
    {
     "name": "stdout",
     "output_type": "stream",
     "text": [
      "Downloading MDLZ...\n",
      "Downloading MPWR...\n"
     ]
    },
    {
     "name": "stderr",
     "output_type": "stream",
     "text": [
      "/var/folders/py/pjzjs05s7494ftly1fgt3g0c0000gn/T/ipykernel_14131/3818152178.py:8: PerformanceWarning: DataFrame is highly fragmented.  This is usually the result of calling `frame.insert` many times, which has poor performance.  Consider joining all columns at once using pd.concat(axis=1) instead. To get a de-fragmented frame, use `newframe = frame.copy()`\n",
      "  data[ticker] = hist['Close']\n",
      "/var/folders/py/pjzjs05s7494ftly1fgt3g0c0000gn/T/ipykernel_14131/3818152178.py:8: PerformanceWarning: DataFrame is highly fragmented.  This is usually the result of calling `frame.insert` many times, which has poor performance.  Consider joining all columns at once using pd.concat(axis=1) instead. To get a de-fragmented frame, use `newframe = frame.copy()`\n",
      "  data[ticker] = hist['Close']\n"
     ]
    },
    {
     "name": "stdout",
     "output_type": "stream",
     "text": [
      "Downloading MNST...\n",
      "Downloading MCO...\n"
     ]
    },
    {
     "name": "stderr",
     "output_type": "stream",
     "text": [
      "/var/folders/py/pjzjs05s7494ftly1fgt3g0c0000gn/T/ipykernel_14131/3818152178.py:8: PerformanceWarning: DataFrame is highly fragmented.  This is usually the result of calling `frame.insert` many times, which has poor performance.  Consider joining all columns at once using pd.concat(axis=1) instead. To get a de-fragmented frame, use `newframe = frame.copy()`\n",
      "  data[ticker] = hist['Close']\n"
     ]
    },
    {
     "name": "stdout",
     "output_type": "stream",
     "text": [
      "Downloading MS...\n"
     ]
    },
    {
     "name": "stderr",
     "output_type": "stream",
     "text": [
      "/var/folders/py/pjzjs05s7494ftly1fgt3g0c0000gn/T/ipykernel_14131/3818152178.py:8: PerformanceWarning: DataFrame is highly fragmented.  This is usually the result of calling `frame.insert` many times, which has poor performance.  Consider joining all columns at once using pd.concat(axis=1) instead. To get a de-fragmented frame, use `newframe = frame.copy()`\n",
      "  data[ticker] = hist['Close']\n"
     ]
    },
    {
     "name": "stdout",
     "output_type": "stream",
     "text": [
      "Downloading MOS...\n"
     ]
    },
    {
     "name": "stderr",
     "output_type": "stream",
     "text": [
      "/var/folders/py/pjzjs05s7494ftly1fgt3g0c0000gn/T/ipykernel_14131/3818152178.py:8: PerformanceWarning: DataFrame is highly fragmented.  This is usually the result of calling `frame.insert` many times, which has poor performance.  Consider joining all columns at once using pd.concat(axis=1) instead. To get a de-fragmented frame, use `newframe = frame.copy()`\n",
      "  data[ticker] = hist['Close']\n",
      "/var/folders/py/pjzjs05s7494ftly1fgt3g0c0000gn/T/ipykernel_14131/3818152178.py:8: PerformanceWarning: DataFrame is highly fragmented.  This is usually the result of calling `frame.insert` many times, which has poor performance.  Consider joining all columns at once using pd.concat(axis=1) instead. To get a de-fragmented frame, use `newframe = frame.copy()`\n",
      "  data[ticker] = hist['Close']\n"
     ]
    },
    {
     "name": "stdout",
     "output_type": "stream",
     "text": [
      "Downloading MSI...\n",
      "Downloading MSCI...\n"
     ]
    },
    {
     "name": "stderr",
     "output_type": "stream",
     "text": [
      "/var/folders/py/pjzjs05s7494ftly1fgt3g0c0000gn/T/ipykernel_14131/3818152178.py:8: PerformanceWarning: DataFrame is highly fragmented.  This is usually the result of calling `frame.insert` many times, which has poor performance.  Consider joining all columns at once using pd.concat(axis=1) instead. To get a de-fragmented frame, use `newframe = frame.copy()`\n",
      "  data[ticker] = hist['Close']\n",
      "/var/folders/py/pjzjs05s7494ftly1fgt3g0c0000gn/T/ipykernel_14131/3818152178.py:8: PerformanceWarning: DataFrame is highly fragmented.  This is usually the result of calling `frame.insert` many times, which has poor performance.  Consider joining all columns at once using pd.concat(axis=1) instead. To get a de-fragmented frame, use `newframe = frame.copy()`\n",
      "  data[ticker] = hist['Close']\n",
      "/var/folders/py/pjzjs05s7494ftly1fgt3g0c0000gn/T/ipykernel_14131/3818152178.py:8: PerformanceWarning: DataFrame is highly fragmented.  This is usually the result of calling `frame.insert` many times, which has poor performance.  Consider joining all columns at once using pd.concat(axis=1) instead. To get a de-fragmented frame, use `newframe = frame.copy()`\n",
      "  data[ticker] = hist['Close']\n"
     ]
    },
    {
     "name": "stdout",
     "output_type": "stream",
     "text": [
      "Downloading NDAQ...\n",
      "Downloading NTAP...\n",
      "Downloading NFLX...\n"
     ]
    },
    {
     "name": "stderr",
     "output_type": "stream",
     "text": [
      "/var/folders/py/pjzjs05s7494ftly1fgt3g0c0000gn/T/ipykernel_14131/3818152178.py:8: PerformanceWarning: DataFrame is highly fragmented.  This is usually the result of calling `frame.insert` many times, which has poor performance.  Consider joining all columns at once using pd.concat(axis=1) instead. To get a de-fragmented frame, use `newframe = frame.copy()`\n",
      "  data[ticker] = hist['Close']\n",
      "/var/folders/py/pjzjs05s7494ftly1fgt3g0c0000gn/T/ipykernel_14131/3818152178.py:8: PerformanceWarning: DataFrame is highly fragmented.  This is usually the result of calling `frame.insert` many times, which has poor performance.  Consider joining all columns at once using pd.concat(axis=1) instead. To get a de-fragmented frame, use `newframe = frame.copy()`\n",
      "  data[ticker] = hist['Close']\n"
     ]
    },
    {
     "name": "stdout",
     "output_type": "stream",
     "text": [
      "Downloading NEM...\n",
      "Downloading NWSA...\n"
     ]
    },
    {
     "name": "stderr",
     "output_type": "stream",
     "text": [
      "/var/folders/py/pjzjs05s7494ftly1fgt3g0c0000gn/T/ipykernel_14131/3818152178.py:8: PerformanceWarning: DataFrame is highly fragmented.  This is usually the result of calling `frame.insert` many times, which has poor performance.  Consider joining all columns at once using pd.concat(axis=1) instead. To get a de-fragmented frame, use `newframe = frame.copy()`\n",
      "  data[ticker] = hist['Close']\n",
      "/var/folders/py/pjzjs05s7494ftly1fgt3g0c0000gn/T/ipykernel_14131/3818152178.py:8: PerformanceWarning: DataFrame is highly fragmented.  This is usually the result of calling `frame.insert` many times, which has poor performance.  Consider joining all columns at once using pd.concat(axis=1) instead. To get a de-fragmented frame, use `newframe = frame.copy()`\n",
      "  data[ticker] = hist['Close']\n"
     ]
    },
    {
     "name": "stdout",
     "output_type": "stream",
     "text": [
      "Downloading NWS...\n",
      "Downloading NEE...\n"
     ]
    },
    {
     "name": "stderr",
     "output_type": "stream",
     "text": [
      "/var/folders/py/pjzjs05s7494ftly1fgt3g0c0000gn/T/ipykernel_14131/3818152178.py:8: PerformanceWarning: DataFrame is highly fragmented.  This is usually the result of calling `frame.insert` many times, which has poor performance.  Consider joining all columns at once using pd.concat(axis=1) instead. To get a de-fragmented frame, use `newframe = frame.copy()`\n",
      "  data[ticker] = hist['Close']\n",
      "/var/folders/py/pjzjs05s7494ftly1fgt3g0c0000gn/T/ipykernel_14131/3818152178.py:8: PerformanceWarning: DataFrame is highly fragmented.  This is usually the result of calling `frame.insert` many times, which has poor performance.  Consider joining all columns at once using pd.concat(axis=1) instead. To get a de-fragmented frame, use `newframe = frame.copy()`\n",
      "  data[ticker] = hist['Close']\n"
     ]
    },
    {
     "name": "stdout",
     "output_type": "stream",
     "text": [
      "Downloading NKE...\n",
      "Downloading NI...\n"
     ]
    },
    {
     "name": "stderr",
     "output_type": "stream",
     "text": [
      "/var/folders/py/pjzjs05s7494ftly1fgt3g0c0000gn/T/ipykernel_14131/3818152178.py:8: PerformanceWarning: DataFrame is highly fragmented.  This is usually the result of calling `frame.insert` many times, which has poor performance.  Consider joining all columns at once using pd.concat(axis=1) instead. To get a de-fragmented frame, use `newframe = frame.copy()`\n",
      "  data[ticker] = hist['Close']\n",
      "/var/folders/py/pjzjs05s7494ftly1fgt3g0c0000gn/T/ipykernel_14131/3818152178.py:8: PerformanceWarning: DataFrame is highly fragmented.  This is usually the result of calling `frame.insert` many times, which has poor performance.  Consider joining all columns at once using pd.concat(axis=1) instead. To get a de-fragmented frame, use `newframe = frame.copy()`\n",
      "  data[ticker] = hist['Close']\n"
     ]
    },
    {
     "name": "stdout",
     "output_type": "stream",
     "text": [
      "Downloading NDSN...\n",
      "Downloading NSC...\n"
     ]
    },
    {
     "name": "stderr",
     "output_type": "stream",
     "text": [
      "/var/folders/py/pjzjs05s7494ftly1fgt3g0c0000gn/T/ipykernel_14131/3818152178.py:8: PerformanceWarning: DataFrame is highly fragmented.  This is usually the result of calling `frame.insert` many times, which has poor performance.  Consider joining all columns at once using pd.concat(axis=1) instead. To get a de-fragmented frame, use `newframe = frame.copy()`\n",
      "  data[ticker] = hist['Close']\n",
      "/var/folders/py/pjzjs05s7494ftly1fgt3g0c0000gn/T/ipykernel_14131/3818152178.py:8: PerformanceWarning: DataFrame is highly fragmented.  This is usually the result of calling `frame.insert` many times, which has poor performance.  Consider joining all columns at once using pd.concat(axis=1) instead. To get a de-fragmented frame, use `newframe = frame.copy()`\n",
      "  data[ticker] = hist['Close']\n"
     ]
    },
    {
     "name": "stdout",
     "output_type": "stream",
     "text": [
      "Downloading NTRS...\n",
      "Downloading NOC...\n"
     ]
    },
    {
     "name": "stderr",
     "output_type": "stream",
     "text": [
      "/var/folders/py/pjzjs05s7494ftly1fgt3g0c0000gn/T/ipykernel_14131/3818152178.py:8: PerformanceWarning: DataFrame is highly fragmented.  This is usually the result of calling `frame.insert` many times, which has poor performance.  Consider joining all columns at once using pd.concat(axis=1) instead. To get a de-fragmented frame, use `newframe = frame.copy()`\n",
      "  data[ticker] = hist['Close']\n",
      "/var/folders/py/pjzjs05s7494ftly1fgt3g0c0000gn/T/ipykernel_14131/3818152178.py:8: PerformanceWarning: DataFrame is highly fragmented.  This is usually the result of calling `frame.insert` many times, which has poor performance.  Consider joining all columns at once using pd.concat(axis=1) instead. To get a de-fragmented frame, use `newframe = frame.copy()`\n",
      "  data[ticker] = hist['Close']\n"
     ]
    },
    {
     "name": "stdout",
     "output_type": "stream",
     "text": [
      "Downloading NCLH...\n",
      "Downloading NRG...\n"
     ]
    },
    {
     "name": "stderr",
     "output_type": "stream",
     "text": [
      "/var/folders/py/pjzjs05s7494ftly1fgt3g0c0000gn/T/ipykernel_14131/3818152178.py:8: PerformanceWarning: DataFrame is highly fragmented.  This is usually the result of calling `frame.insert` many times, which has poor performance.  Consider joining all columns at once using pd.concat(axis=1) instead. To get a de-fragmented frame, use `newframe = frame.copy()`\n",
      "  data[ticker] = hist['Close']\n",
      "/var/folders/py/pjzjs05s7494ftly1fgt3g0c0000gn/T/ipykernel_14131/3818152178.py:8: PerformanceWarning: DataFrame is highly fragmented.  This is usually the result of calling `frame.insert` many times, which has poor performance.  Consider joining all columns at once using pd.concat(axis=1) instead. To get a de-fragmented frame, use `newframe = frame.copy()`\n",
      "  data[ticker] = hist['Close']\n"
     ]
    },
    {
     "name": "stdout",
     "output_type": "stream",
     "text": [
      "Downloading NUE...\n",
      "Downloading NVDA...\n"
     ]
    },
    {
     "name": "stderr",
     "output_type": "stream",
     "text": [
      "/var/folders/py/pjzjs05s7494ftly1fgt3g0c0000gn/T/ipykernel_14131/3818152178.py:8: PerformanceWarning: DataFrame is highly fragmented.  This is usually the result of calling `frame.insert` many times, which has poor performance.  Consider joining all columns at once using pd.concat(axis=1) instead. To get a de-fragmented frame, use `newframe = frame.copy()`\n",
      "  data[ticker] = hist['Close']\n",
      "/var/folders/py/pjzjs05s7494ftly1fgt3g0c0000gn/T/ipykernel_14131/3818152178.py:8: PerformanceWarning: DataFrame is highly fragmented.  This is usually the result of calling `frame.insert` many times, which has poor performance.  Consider joining all columns at once using pd.concat(axis=1) instead. To get a de-fragmented frame, use `newframe = frame.copy()`\n",
      "  data[ticker] = hist['Close']\n",
      "/var/folders/py/pjzjs05s7494ftly1fgt3g0c0000gn/T/ipykernel_14131/3818152178.py:8: PerformanceWarning: DataFrame is highly fragmented.  This is usually the result of calling `frame.insert` many times, which has poor performance.  Consider joining all columns at once using pd.concat(axis=1) instead. To get a de-fragmented frame, use `newframe = frame.copy()`\n",
      "  data[ticker] = hist['Close']\n"
     ]
    },
    {
     "name": "stdout",
     "output_type": "stream",
     "text": [
      "Downloading NVR...\n",
      "Downloading NXPI...\n",
      "Downloading ORLY...\n"
     ]
    },
    {
     "name": "stderr",
     "output_type": "stream",
     "text": [
      "/var/folders/py/pjzjs05s7494ftly1fgt3g0c0000gn/T/ipykernel_14131/3818152178.py:8: PerformanceWarning: DataFrame is highly fragmented.  This is usually the result of calling `frame.insert` many times, which has poor performance.  Consider joining all columns at once using pd.concat(axis=1) instead. To get a de-fragmented frame, use `newframe = frame.copy()`\n",
      "  data[ticker] = hist['Close']\n",
      "/var/folders/py/pjzjs05s7494ftly1fgt3g0c0000gn/T/ipykernel_14131/3818152178.py:8: PerformanceWarning: DataFrame is highly fragmented.  This is usually the result of calling `frame.insert` many times, which has poor performance.  Consider joining all columns at once using pd.concat(axis=1) instead. To get a de-fragmented frame, use `newframe = frame.copy()`\n",
      "  data[ticker] = hist['Close']\n"
     ]
    },
    {
     "name": "stdout",
     "output_type": "stream",
     "text": [
      "Downloading OXY...\n",
      "Downloading ODFL...\n"
     ]
    },
    {
     "name": "stderr",
     "output_type": "stream",
     "text": [
      "/var/folders/py/pjzjs05s7494ftly1fgt3g0c0000gn/T/ipykernel_14131/3818152178.py:8: PerformanceWarning: DataFrame is highly fragmented.  This is usually the result of calling `frame.insert` many times, which has poor performance.  Consider joining all columns at once using pd.concat(axis=1) instead. To get a de-fragmented frame, use `newframe = frame.copy()`\n",
      "  data[ticker] = hist['Close']\n"
     ]
    },
    {
     "name": "stdout",
     "output_type": "stream",
     "text": [
      "Downloading OMC...\n"
     ]
    },
    {
     "name": "stderr",
     "output_type": "stream",
     "text": [
      "/var/folders/py/pjzjs05s7494ftly1fgt3g0c0000gn/T/ipykernel_14131/3818152178.py:8: PerformanceWarning: DataFrame is highly fragmented.  This is usually the result of calling `frame.insert` many times, which has poor performance.  Consider joining all columns at once using pd.concat(axis=1) instead. To get a de-fragmented frame, use `newframe = frame.copy()`\n",
      "  data[ticker] = hist['Close']\n",
      "/var/folders/py/pjzjs05s7494ftly1fgt3g0c0000gn/T/ipykernel_14131/3818152178.py:8: PerformanceWarning: DataFrame is highly fragmented.  This is usually the result of calling `frame.insert` many times, which has poor performance.  Consider joining all columns at once using pd.concat(axis=1) instead. To get a de-fragmented frame, use `newframe = frame.copy()`\n",
      "  data[ticker] = hist['Close']\n"
     ]
    },
    {
     "name": "stdout",
     "output_type": "stream",
     "text": [
      "Downloading ON...\n",
      "Downloading OKE...\n"
     ]
    },
    {
     "name": "stderr",
     "output_type": "stream",
     "text": [
      "/var/folders/py/pjzjs05s7494ftly1fgt3g0c0000gn/T/ipykernel_14131/3818152178.py:8: PerformanceWarning: DataFrame is highly fragmented.  This is usually the result of calling `frame.insert` many times, which has poor performance.  Consider joining all columns at once using pd.concat(axis=1) instead. To get a de-fragmented frame, use `newframe = frame.copy()`\n",
      "  data[ticker] = hist['Close']\n",
      "/var/folders/py/pjzjs05s7494ftly1fgt3g0c0000gn/T/ipykernel_14131/3818152178.py:8: PerformanceWarning: DataFrame is highly fragmented.  This is usually the result of calling `frame.insert` many times, which has poor performance.  Consider joining all columns at once using pd.concat(axis=1) instead. To get a de-fragmented frame, use `newframe = frame.copy()`\n",
      "  data[ticker] = hist['Close']\n"
     ]
    },
    {
     "name": "stdout",
     "output_type": "stream",
     "text": [
      "Downloading ORCL...\n",
      "Downloading OTIS...\n"
     ]
    },
    {
     "name": "stderr",
     "output_type": "stream",
     "text": [
      "/var/folders/py/pjzjs05s7494ftly1fgt3g0c0000gn/T/ipykernel_14131/3818152178.py:8: PerformanceWarning: DataFrame is highly fragmented.  This is usually the result of calling `frame.insert` many times, which has poor performance.  Consider joining all columns at once using pd.concat(axis=1) instead. To get a de-fragmented frame, use `newframe = frame.copy()`\n",
      "  data[ticker] = hist['Close']\n",
      "/var/folders/py/pjzjs05s7494ftly1fgt3g0c0000gn/T/ipykernel_14131/3818152178.py:8: PerformanceWarning: DataFrame is highly fragmented.  This is usually the result of calling `frame.insert` many times, which has poor performance.  Consider joining all columns at once using pd.concat(axis=1) instead. To get a de-fragmented frame, use `newframe = frame.copy()`\n",
      "  data[ticker] = hist['Close']\n",
      "/var/folders/py/pjzjs05s7494ftly1fgt3g0c0000gn/T/ipykernel_14131/3818152178.py:8: PerformanceWarning: DataFrame is highly fragmented.  This is usually the result of calling `frame.insert` many times, which has poor performance.  Consider joining all columns at once using pd.concat(axis=1) instead. To get a de-fragmented frame, use `newframe = frame.copy()`\n",
      "  data[ticker] = hist['Close']\n"
     ]
    },
    {
     "name": "stdout",
     "output_type": "stream",
     "text": [
      "Downloading PCAR...\n",
      "Downloading PKG...\n",
      "Downloading PLTR...\n"
     ]
    },
    {
     "name": "stderr",
     "output_type": "stream",
     "text": [
      "/var/folders/py/pjzjs05s7494ftly1fgt3g0c0000gn/T/ipykernel_14131/3818152178.py:8: PerformanceWarning: DataFrame is highly fragmented.  This is usually the result of calling `frame.insert` many times, which has poor performance.  Consider joining all columns at once using pd.concat(axis=1) instead. To get a de-fragmented frame, use `newframe = frame.copy()`\n",
      "  data[ticker] = hist['Close']\n",
      "/var/folders/py/pjzjs05s7494ftly1fgt3g0c0000gn/T/ipykernel_14131/3818152178.py:8: PerformanceWarning: DataFrame is highly fragmented.  This is usually the result of calling `frame.insert` many times, which has poor performance.  Consider joining all columns at once using pd.concat(axis=1) instead. To get a de-fragmented frame, use `newframe = frame.copy()`\n",
      "  data[ticker] = hist['Close']\n"
     ]
    },
    {
     "name": "stdout",
     "output_type": "stream",
     "text": [
      "Downloading PANW...\n",
      "Downloading PARA...\n"
     ]
    },
    {
     "name": "stderr",
     "output_type": "stream",
     "text": [
      "/var/folders/py/pjzjs05s7494ftly1fgt3g0c0000gn/T/ipykernel_14131/3818152178.py:8: PerformanceWarning: DataFrame is highly fragmented.  This is usually the result of calling `frame.insert` many times, which has poor performance.  Consider joining all columns at once using pd.concat(axis=1) instead. To get a de-fragmented frame, use `newframe = frame.copy()`\n",
      "  data[ticker] = hist['Close']\n",
      "/var/folders/py/pjzjs05s7494ftly1fgt3g0c0000gn/T/ipykernel_14131/3818152178.py:8: PerformanceWarning: DataFrame is highly fragmented.  This is usually the result of calling `frame.insert` many times, which has poor performance.  Consider joining all columns at once using pd.concat(axis=1) instead. To get a de-fragmented frame, use `newframe = frame.copy()`\n",
      "  data[ticker] = hist['Close']\n"
     ]
    },
    {
     "name": "stdout",
     "output_type": "stream",
     "text": [
      "Downloading PH...\n",
      "Downloading PAYX...\n"
     ]
    },
    {
     "name": "stderr",
     "output_type": "stream",
     "text": [
      "/var/folders/py/pjzjs05s7494ftly1fgt3g0c0000gn/T/ipykernel_14131/3818152178.py:8: PerformanceWarning: DataFrame is highly fragmented.  This is usually the result of calling `frame.insert` many times, which has poor performance.  Consider joining all columns at once using pd.concat(axis=1) instead. To get a de-fragmented frame, use `newframe = frame.copy()`\n",
      "  data[ticker] = hist['Close']\n",
      "/var/folders/py/pjzjs05s7494ftly1fgt3g0c0000gn/T/ipykernel_14131/3818152178.py:8: PerformanceWarning: DataFrame is highly fragmented.  This is usually the result of calling `frame.insert` many times, which has poor performance.  Consider joining all columns at once using pd.concat(axis=1) instead. To get a de-fragmented frame, use `newframe = frame.copy()`\n",
      "  data[ticker] = hist['Close']\n"
     ]
    },
    {
     "name": "stdout",
     "output_type": "stream",
     "text": [
      "Downloading PAYC...\n",
      "Downloading PYPL...\n"
     ]
    },
    {
     "name": "stderr",
     "output_type": "stream",
     "text": [
      "/var/folders/py/pjzjs05s7494ftly1fgt3g0c0000gn/T/ipykernel_14131/3818152178.py:8: PerformanceWarning: DataFrame is highly fragmented.  This is usually the result of calling `frame.insert` many times, which has poor performance.  Consider joining all columns at once using pd.concat(axis=1) instead. To get a de-fragmented frame, use `newframe = frame.copy()`\n",
      "  data[ticker] = hist['Close']\n",
      "/var/folders/py/pjzjs05s7494ftly1fgt3g0c0000gn/T/ipykernel_14131/3818152178.py:8: PerformanceWarning: DataFrame is highly fragmented.  This is usually the result of calling `frame.insert` many times, which has poor performance.  Consider joining all columns at once using pd.concat(axis=1) instead. To get a de-fragmented frame, use `newframe = frame.copy()`\n",
      "  data[ticker] = hist['Close']\n"
     ]
    },
    {
     "name": "stdout",
     "output_type": "stream",
     "text": [
      "Downloading PNR...\n",
      "Downloading PEP...\n"
     ]
    },
    {
     "name": "stderr",
     "output_type": "stream",
     "text": [
      "/var/folders/py/pjzjs05s7494ftly1fgt3g0c0000gn/T/ipykernel_14131/3818152178.py:8: PerformanceWarning: DataFrame is highly fragmented.  This is usually the result of calling `frame.insert` many times, which has poor performance.  Consider joining all columns at once using pd.concat(axis=1) instead. To get a de-fragmented frame, use `newframe = frame.copy()`\n",
      "  data[ticker] = hist['Close']\n",
      "/var/folders/py/pjzjs05s7494ftly1fgt3g0c0000gn/T/ipykernel_14131/3818152178.py:8: PerformanceWarning: DataFrame is highly fragmented.  This is usually the result of calling `frame.insert` many times, which has poor performance.  Consider joining all columns at once using pd.concat(axis=1) instead. To get a de-fragmented frame, use `newframe = frame.copy()`\n",
      "  data[ticker] = hist['Close']\n"
     ]
    },
    {
     "name": "stdout",
     "output_type": "stream",
     "text": [
      "Downloading PFE...\n",
      "Downloading PCG...\n"
     ]
    },
    {
     "name": "stderr",
     "output_type": "stream",
     "text": [
      "/var/folders/py/pjzjs05s7494ftly1fgt3g0c0000gn/T/ipykernel_14131/3818152178.py:8: PerformanceWarning: DataFrame is highly fragmented.  This is usually the result of calling `frame.insert` many times, which has poor performance.  Consider joining all columns at once using pd.concat(axis=1) instead. To get a de-fragmented frame, use `newframe = frame.copy()`\n",
      "  data[ticker] = hist['Close']\n",
      "/var/folders/py/pjzjs05s7494ftly1fgt3g0c0000gn/T/ipykernel_14131/3818152178.py:8: PerformanceWarning: DataFrame is highly fragmented.  This is usually the result of calling `frame.insert` many times, which has poor performance.  Consider joining all columns at once using pd.concat(axis=1) instead. To get a de-fragmented frame, use `newframe = frame.copy()`\n",
      "  data[ticker] = hist['Close']\n"
     ]
    },
    {
     "name": "stdout",
     "output_type": "stream",
     "text": [
      "Downloading PM...\n",
      "Downloading PSX...\n"
     ]
    },
    {
     "name": "stderr",
     "output_type": "stream",
     "text": [
      "/var/folders/py/pjzjs05s7494ftly1fgt3g0c0000gn/T/ipykernel_14131/3818152178.py:8: PerformanceWarning: DataFrame is highly fragmented.  This is usually the result of calling `frame.insert` many times, which has poor performance.  Consider joining all columns at once using pd.concat(axis=1) instead. To get a de-fragmented frame, use `newframe = frame.copy()`\n",
      "  data[ticker] = hist['Close']\n",
      "/var/folders/py/pjzjs05s7494ftly1fgt3g0c0000gn/T/ipykernel_14131/3818152178.py:8: PerformanceWarning: DataFrame is highly fragmented.  This is usually the result of calling `frame.insert` many times, which has poor performance.  Consider joining all columns at once using pd.concat(axis=1) instead. To get a de-fragmented frame, use `newframe = frame.copy()`\n",
      "  data[ticker] = hist['Close']\n"
     ]
    },
    {
     "name": "stdout",
     "output_type": "stream",
     "text": [
      "Downloading PNW...\n",
      "Downloading PNC...\n"
     ]
    },
    {
     "name": "stderr",
     "output_type": "stream",
     "text": [
      "/var/folders/py/pjzjs05s7494ftly1fgt3g0c0000gn/T/ipykernel_14131/3818152178.py:8: PerformanceWarning: DataFrame is highly fragmented.  This is usually the result of calling `frame.insert` many times, which has poor performance.  Consider joining all columns at once using pd.concat(axis=1) instead. To get a de-fragmented frame, use `newframe = frame.copy()`\n",
      "  data[ticker] = hist['Close']\n",
      "/var/folders/py/pjzjs05s7494ftly1fgt3g0c0000gn/T/ipykernel_14131/3818152178.py:8: PerformanceWarning: DataFrame is highly fragmented.  This is usually the result of calling `frame.insert` many times, which has poor performance.  Consider joining all columns at once using pd.concat(axis=1) instead. To get a de-fragmented frame, use `newframe = frame.copy()`\n",
      "  data[ticker] = hist['Close']\n"
     ]
    },
    {
     "name": "stdout",
     "output_type": "stream",
     "text": [
      "Downloading POOL...\n",
      "Downloading PPG...\n"
     ]
    },
    {
     "name": "stderr",
     "output_type": "stream",
     "text": [
      "/var/folders/py/pjzjs05s7494ftly1fgt3g0c0000gn/T/ipykernel_14131/3818152178.py:8: PerformanceWarning: DataFrame is highly fragmented.  This is usually the result of calling `frame.insert` many times, which has poor performance.  Consider joining all columns at once using pd.concat(axis=1) instead. To get a de-fragmented frame, use `newframe = frame.copy()`\n",
      "  data[ticker] = hist['Close']\n",
      "/var/folders/py/pjzjs05s7494ftly1fgt3g0c0000gn/T/ipykernel_14131/3818152178.py:8: PerformanceWarning: DataFrame is highly fragmented.  This is usually the result of calling `frame.insert` many times, which has poor performance.  Consider joining all columns at once using pd.concat(axis=1) instead. To get a de-fragmented frame, use `newframe = frame.copy()`\n",
      "  data[ticker] = hist['Close']\n"
     ]
    },
    {
     "name": "stdout",
     "output_type": "stream",
     "text": [
      "Downloading PPL...\n",
      "Downloading PFG...\n"
     ]
    },
    {
     "name": "stderr",
     "output_type": "stream",
     "text": [
      "/var/folders/py/pjzjs05s7494ftly1fgt3g0c0000gn/T/ipykernel_14131/3818152178.py:8: PerformanceWarning: DataFrame is highly fragmented.  This is usually the result of calling `frame.insert` many times, which has poor performance.  Consider joining all columns at once using pd.concat(axis=1) instead. To get a de-fragmented frame, use `newframe = frame.copy()`\n",
      "  data[ticker] = hist['Close']\n",
      "/var/folders/py/pjzjs05s7494ftly1fgt3g0c0000gn/T/ipykernel_14131/3818152178.py:8: PerformanceWarning: DataFrame is highly fragmented.  This is usually the result of calling `frame.insert` many times, which has poor performance.  Consider joining all columns at once using pd.concat(axis=1) instead. To get a de-fragmented frame, use `newframe = frame.copy()`\n",
      "  data[ticker] = hist['Close']\n"
     ]
    },
    {
     "name": "stdout",
     "output_type": "stream",
     "text": [
      "Downloading PG...\n",
      "Downloading PGR...\n"
     ]
    },
    {
     "name": "stderr",
     "output_type": "stream",
     "text": [
      "/var/folders/py/pjzjs05s7494ftly1fgt3g0c0000gn/T/ipykernel_14131/3818152178.py:8: PerformanceWarning: DataFrame is highly fragmented.  This is usually the result of calling `frame.insert` many times, which has poor performance.  Consider joining all columns at once using pd.concat(axis=1) instead. To get a de-fragmented frame, use `newframe = frame.copy()`\n",
      "  data[ticker] = hist['Close']\n",
      "/var/folders/py/pjzjs05s7494ftly1fgt3g0c0000gn/T/ipykernel_14131/3818152178.py:8: PerformanceWarning: DataFrame is highly fragmented.  This is usually the result of calling `frame.insert` many times, which has poor performance.  Consider joining all columns at once using pd.concat(axis=1) instead. To get a de-fragmented frame, use `newframe = frame.copy()`\n",
      "  data[ticker] = hist['Close']\n"
     ]
    },
    {
     "name": "stdout",
     "output_type": "stream",
     "text": [
      "Downloading PLD...\n",
      "Downloading PRU...\n"
     ]
    },
    {
     "name": "stderr",
     "output_type": "stream",
     "text": [
      "/var/folders/py/pjzjs05s7494ftly1fgt3g0c0000gn/T/ipykernel_14131/3818152178.py:8: PerformanceWarning: DataFrame is highly fragmented.  This is usually the result of calling `frame.insert` many times, which has poor performance.  Consider joining all columns at once using pd.concat(axis=1) instead. To get a de-fragmented frame, use `newframe = frame.copy()`\n",
      "  data[ticker] = hist['Close']\n",
      "/var/folders/py/pjzjs05s7494ftly1fgt3g0c0000gn/T/ipykernel_14131/3818152178.py:8: PerformanceWarning: DataFrame is highly fragmented.  This is usually the result of calling `frame.insert` many times, which has poor performance.  Consider joining all columns at once using pd.concat(axis=1) instead. To get a de-fragmented frame, use `newframe = frame.copy()`\n",
      "  data[ticker] = hist['Close']\n",
      "/var/folders/py/pjzjs05s7494ftly1fgt3g0c0000gn/T/ipykernel_14131/3818152178.py:8: PerformanceWarning: DataFrame is highly fragmented.  This is usually the result of calling `frame.insert` many times, which has poor performance.  Consider joining all columns at once using pd.concat(axis=1) instead. To get a de-fragmented frame, use `newframe = frame.copy()`\n",
      "  data[ticker] = hist['Close']\n"
     ]
    },
    {
     "name": "stdout",
     "output_type": "stream",
     "text": [
      "Downloading PEG...\n",
      "Downloading PTC...\n",
      "Downloading PSA...\n"
     ]
    },
    {
     "name": "stderr",
     "output_type": "stream",
     "text": [
      "/var/folders/py/pjzjs05s7494ftly1fgt3g0c0000gn/T/ipykernel_14131/3818152178.py:8: PerformanceWarning: DataFrame is highly fragmented.  This is usually the result of calling `frame.insert` many times, which has poor performance.  Consider joining all columns at once using pd.concat(axis=1) instead. To get a de-fragmented frame, use `newframe = frame.copy()`\n",
      "  data[ticker] = hist['Close']\n"
     ]
    },
    {
     "name": "stdout",
     "output_type": "stream",
     "text": [
      "Downloading PHM...\n"
     ]
    },
    {
     "name": "stderr",
     "output_type": "stream",
     "text": [
      "/var/folders/py/pjzjs05s7494ftly1fgt3g0c0000gn/T/ipykernel_14131/3818152178.py:8: PerformanceWarning: DataFrame is highly fragmented.  This is usually the result of calling `frame.insert` many times, which has poor performance.  Consider joining all columns at once using pd.concat(axis=1) instead. To get a de-fragmented frame, use `newframe = frame.copy()`\n",
      "  data[ticker] = hist['Close']\n",
      "/var/folders/py/pjzjs05s7494ftly1fgt3g0c0000gn/T/ipykernel_14131/3818152178.py:8: PerformanceWarning: DataFrame is highly fragmented.  This is usually the result of calling `frame.insert` many times, which has poor performance.  Consider joining all columns at once using pd.concat(axis=1) instead. To get a de-fragmented frame, use `newframe = frame.copy()`\n",
      "  data[ticker] = hist['Close']\n",
      "/var/folders/py/pjzjs05s7494ftly1fgt3g0c0000gn/T/ipykernel_14131/3818152178.py:8: PerformanceWarning: DataFrame is highly fragmented.  This is usually the result of calling `frame.insert` many times, which has poor performance.  Consider joining all columns at once using pd.concat(axis=1) instead. To get a de-fragmented frame, use `newframe = frame.copy()`\n",
      "  data[ticker] = hist['Close']\n"
     ]
    },
    {
     "name": "stdout",
     "output_type": "stream",
     "text": [
      "Downloading PWR...\n",
      "Downloading QCOM...\n",
      "Downloading DGX...\n"
     ]
    },
    {
     "name": "stderr",
     "output_type": "stream",
     "text": [
      "/var/folders/py/pjzjs05s7494ftly1fgt3g0c0000gn/T/ipykernel_14131/3818152178.py:8: PerformanceWarning: DataFrame is highly fragmented.  This is usually the result of calling `frame.insert` many times, which has poor performance.  Consider joining all columns at once using pd.concat(axis=1) instead. To get a de-fragmented frame, use `newframe = frame.copy()`\n",
      "  data[ticker] = hist['Close']\n",
      "/var/folders/py/pjzjs05s7494ftly1fgt3g0c0000gn/T/ipykernel_14131/3818152178.py:8: PerformanceWarning: DataFrame is highly fragmented.  This is usually the result of calling `frame.insert` many times, which has poor performance.  Consider joining all columns at once using pd.concat(axis=1) instead. To get a de-fragmented frame, use `newframe = frame.copy()`\n",
      "  data[ticker] = hist['Close']\n"
     ]
    },
    {
     "name": "stdout",
     "output_type": "stream",
     "text": [
      "Downloading RL...\n",
      "Downloading RJF...\n"
     ]
    },
    {
     "name": "stderr",
     "output_type": "stream",
     "text": [
      "/var/folders/py/pjzjs05s7494ftly1fgt3g0c0000gn/T/ipykernel_14131/3818152178.py:8: PerformanceWarning: DataFrame is highly fragmented.  This is usually the result of calling `frame.insert` many times, which has poor performance.  Consider joining all columns at once using pd.concat(axis=1) instead. To get a de-fragmented frame, use `newframe = frame.copy()`\n",
      "  data[ticker] = hist['Close']\n"
     ]
    },
    {
     "name": "stdout",
     "output_type": "stream",
     "text": [
      "Downloading RTX...\n"
     ]
    },
    {
     "name": "stderr",
     "output_type": "stream",
     "text": [
      "/var/folders/py/pjzjs05s7494ftly1fgt3g0c0000gn/T/ipykernel_14131/3818152178.py:8: PerformanceWarning: DataFrame is highly fragmented.  This is usually the result of calling `frame.insert` many times, which has poor performance.  Consider joining all columns at once using pd.concat(axis=1) instead. To get a de-fragmented frame, use `newframe = frame.copy()`\n",
      "  data[ticker] = hist['Close']\n",
      "/var/folders/py/pjzjs05s7494ftly1fgt3g0c0000gn/T/ipykernel_14131/3818152178.py:8: PerformanceWarning: DataFrame is highly fragmented.  This is usually the result of calling `frame.insert` many times, which has poor performance.  Consider joining all columns at once using pd.concat(axis=1) instead. To get a de-fragmented frame, use `newframe = frame.copy()`\n",
      "  data[ticker] = hist['Close']\n"
     ]
    },
    {
     "name": "stdout",
     "output_type": "stream",
     "text": [
      "Downloading O...\n",
      "Downloading REG...\n"
     ]
    },
    {
     "name": "stderr",
     "output_type": "stream",
     "text": [
      "/var/folders/py/pjzjs05s7494ftly1fgt3g0c0000gn/T/ipykernel_14131/3818152178.py:8: PerformanceWarning: DataFrame is highly fragmented.  This is usually the result of calling `frame.insert` many times, which has poor performance.  Consider joining all columns at once using pd.concat(axis=1) instead. To get a de-fragmented frame, use `newframe = frame.copy()`\n",
      "  data[ticker] = hist['Close']\n",
      "/var/folders/py/pjzjs05s7494ftly1fgt3g0c0000gn/T/ipykernel_14131/3818152178.py:8: PerformanceWarning: DataFrame is highly fragmented.  This is usually the result of calling `frame.insert` many times, which has poor performance.  Consider joining all columns at once using pd.concat(axis=1) instead. To get a de-fragmented frame, use `newframe = frame.copy()`\n",
      "  data[ticker] = hist['Close']\n"
     ]
    },
    {
     "name": "stdout",
     "output_type": "stream",
     "text": [
      "Downloading REGN...\n",
      "Downloading RF...\n"
     ]
    },
    {
     "name": "stderr",
     "output_type": "stream",
     "text": [
      "/var/folders/py/pjzjs05s7494ftly1fgt3g0c0000gn/T/ipykernel_14131/3818152178.py:8: PerformanceWarning: DataFrame is highly fragmented.  This is usually the result of calling `frame.insert` many times, which has poor performance.  Consider joining all columns at once using pd.concat(axis=1) instead. To get a de-fragmented frame, use `newframe = frame.copy()`\n",
      "  data[ticker] = hist['Close']\n",
      "/var/folders/py/pjzjs05s7494ftly1fgt3g0c0000gn/T/ipykernel_14131/3818152178.py:8: PerformanceWarning: DataFrame is highly fragmented.  This is usually the result of calling `frame.insert` many times, which has poor performance.  Consider joining all columns at once using pd.concat(axis=1) instead. To get a de-fragmented frame, use `newframe = frame.copy()`\n",
      "  data[ticker] = hist['Close']\n",
      "/var/folders/py/pjzjs05s7494ftly1fgt3g0c0000gn/T/ipykernel_14131/3818152178.py:8: PerformanceWarning: DataFrame is highly fragmented.  This is usually the result of calling `frame.insert` many times, which has poor performance.  Consider joining all columns at once using pd.concat(axis=1) instead. To get a de-fragmented frame, use `newframe = frame.copy()`\n",
      "  data[ticker] = hist['Close']\n"
     ]
    },
    {
     "name": "stdout",
     "output_type": "stream",
     "text": [
      "Downloading RSG...\n",
      "Downloading RMD...\n",
      "Downloading RVTY...\n"
     ]
    },
    {
     "name": "stderr",
     "output_type": "stream",
     "text": [
      "/var/folders/py/pjzjs05s7494ftly1fgt3g0c0000gn/T/ipykernel_14131/3818152178.py:8: PerformanceWarning: DataFrame is highly fragmented.  This is usually the result of calling `frame.insert` many times, which has poor performance.  Consider joining all columns at once using pd.concat(axis=1) instead. To get a de-fragmented frame, use `newframe = frame.copy()`\n",
      "  data[ticker] = hist['Close']\n",
      "/var/folders/py/pjzjs05s7494ftly1fgt3g0c0000gn/T/ipykernel_14131/3818152178.py:8: PerformanceWarning: DataFrame is highly fragmented.  This is usually the result of calling `frame.insert` many times, which has poor performance.  Consider joining all columns at once using pd.concat(axis=1) instead. To get a de-fragmented frame, use `newframe = frame.copy()`\n",
      "  data[ticker] = hist['Close']\n"
     ]
    },
    {
     "name": "stdout",
     "output_type": "stream",
     "text": [
      "Downloading ROK...\n",
      "Downloading ROL...\n"
     ]
    },
    {
     "name": "stderr",
     "output_type": "stream",
     "text": [
      "/var/folders/py/pjzjs05s7494ftly1fgt3g0c0000gn/T/ipykernel_14131/3818152178.py:8: PerformanceWarning: DataFrame is highly fragmented.  This is usually the result of calling `frame.insert` many times, which has poor performance.  Consider joining all columns at once using pd.concat(axis=1) instead. To get a de-fragmented frame, use `newframe = frame.copy()`\n",
      "  data[ticker] = hist['Close']\n",
      "/var/folders/py/pjzjs05s7494ftly1fgt3g0c0000gn/T/ipykernel_14131/3818152178.py:8: PerformanceWarning: DataFrame is highly fragmented.  This is usually the result of calling `frame.insert` many times, which has poor performance.  Consider joining all columns at once using pd.concat(axis=1) instead. To get a de-fragmented frame, use `newframe = frame.copy()`\n",
      "  data[ticker] = hist['Close']\n"
     ]
    },
    {
     "name": "stdout",
     "output_type": "stream",
     "text": [
      "Downloading ROP...\n",
      "Downloading ROST...\n"
     ]
    },
    {
     "name": "stderr",
     "output_type": "stream",
     "text": [
      "/var/folders/py/pjzjs05s7494ftly1fgt3g0c0000gn/T/ipykernel_14131/3818152178.py:8: PerformanceWarning: DataFrame is highly fragmented.  This is usually the result of calling `frame.insert` many times, which has poor performance.  Consider joining all columns at once using pd.concat(axis=1) instead. To get a de-fragmented frame, use `newframe = frame.copy()`\n",
      "  data[ticker] = hist['Close']\n",
      "/var/folders/py/pjzjs05s7494ftly1fgt3g0c0000gn/T/ipykernel_14131/3818152178.py:8: PerformanceWarning: DataFrame is highly fragmented.  This is usually the result of calling `frame.insert` many times, which has poor performance.  Consider joining all columns at once using pd.concat(axis=1) instead. To get a de-fragmented frame, use `newframe = frame.copy()`\n",
      "  data[ticker] = hist['Close']\n"
     ]
    },
    {
     "name": "stdout",
     "output_type": "stream",
     "text": [
      "Downloading RCL...\n",
      "Downloading SPGI...\n"
     ]
    },
    {
     "name": "stderr",
     "output_type": "stream",
     "text": [
      "/var/folders/py/pjzjs05s7494ftly1fgt3g0c0000gn/T/ipykernel_14131/3818152178.py:8: PerformanceWarning: DataFrame is highly fragmented.  This is usually the result of calling `frame.insert` many times, which has poor performance.  Consider joining all columns at once using pd.concat(axis=1) instead. To get a de-fragmented frame, use `newframe = frame.copy()`\n",
      "  data[ticker] = hist['Close']\n",
      "/var/folders/py/pjzjs05s7494ftly1fgt3g0c0000gn/T/ipykernel_14131/3818152178.py:8: PerformanceWarning: DataFrame is highly fragmented.  This is usually the result of calling `frame.insert` many times, which has poor performance.  Consider joining all columns at once using pd.concat(axis=1) instead. To get a de-fragmented frame, use `newframe = frame.copy()`\n",
      "  data[ticker] = hist['Close']\n",
      "/var/folders/py/pjzjs05s7494ftly1fgt3g0c0000gn/T/ipykernel_14131/3818152178.py:8: PerformanceWarning: DataFrame is highly fragmented.  This is usually the result of calling `frame.insert` many times, which has poor performance.  Consider joining all columns at once using pd.concat(axis=1) instead. To get a de-fragmented frame, use `newframe = frame.copy()`\n",
      "  data[ticker] = hist['Close']\n"
     ]
    },
    {
     "name": "stdout",
     "output_type": "stream",
     "text": [
      "Downloading CRM...\n",
      "Downloading SBAC...\n",
      "Downloading SLB...\n"
     ]
    },
    {
     "name": "stderr",
     "output_type": "stream",
     "text": [
      "/var/folders/py/pjzjs05s7494ftly1fgt3g0c0000gn/T/ipykernel_14131/3818152178.py:8: PerformanceWarning: DataFrame is highly fragmented.  This is usually the result of calling `frame.insert` many times, which has poor performance.  Consider joining all columns at once using pd.concat(axis=1) instead. To get a de-fragmented frame, use `newframe = frame.copy()`\n",
      "  data[ticker] = hist['Close']\n",
      "/var/folders/py/pjzjs05s7494ftly1fgt3g0c0000gn/T/ipykernel_14131/3818152178.py:8: PerformanceWarning: DataFrame is highly fragmented.  This is usually the result of calling `frame.insert` many times, which has poor performance.  Consider joining all columns at once using pd.concat(axis=1) instead. To get a de-fragmented frame, use `newframe = frame.copy()`\n",
      "  data[ticker] = hist['Close']\n",
      "/var/folders/py/pjzjs05s7494ftly1fgt3g0c0000gn/T/ipykernel_14131/3818152178.py:8: PerformanceWarning: DataFrame is highly fragmented.  This is usually the result of calling `frame.insert` many times, which has poor performance.  Consider joining all columns at once using pd.concat(axis=1) instead. To get a de-fragmented frame, use `newframe = frame.copy()`\n",
      "  data[ticker] = hist['Close']\n"
     ]
    },
    {
     "name": "stdout",
     "output_type": "stream",
     "text": [
      "Downloading STX...\n",
      "Downloading SRE...\n",
      "Downloading NOW...\n"
     ]
    },
    {
     "name": "stderr",
     "output_type": "stream",
     "text": [
      "/var/folders/py/pjzjs05s7494ftly1fgt3g0c0000gn/T/ipykernel_14131/3818152178.py:8: PerformanceWarning: DataFrame is highly fragmented.  This is usually the result of calling `frame.insert` many times, which has poor performance.  Consider joining all columns at once using pd.concat(axis=1) instead. To get a de-fragmented frame, use `newframe = frame.copy()`\n",
      "  data[ticker] = hist['Close']\n",
      "/var/folders/py/pjzjs05s7494ftly1fgt3g0c0000gn/T/ipykernel_14131/3818152178.py:8: PerformanceWarning: DataFrame is highly fragmented.  This is usually the result of calling `frame.insert` many times, which has poor performance.  Consider joining all columns at once using pd.concat(axis=1) instead. To get a de-fragmented frame, use `newframe = frame.copy()`\n",
      "  data[ticker] = hist['Close']\n"
     ]
    },
    {
     "name": "stdout",
     "output_type": "stream",
     "text": [
      "Downloading SHW...\n",
      "Downloading SPG...\n"
     ]
    },
    {
     "name": "stderr",
     "output_type": "stream",
     "text": [
      "/var/folders/py/pjzjs05s7494ftly1fgt3g0c0000gn/T/ipykernel_14131/3818152178.py:8: PerformanceWarning: DataFrame is highly fragmented.  This is usually the result of calling `frame.insert` many times, which has poor performance.  Consider joining all columns at once using pd.concat(axis=1) instead. To get a de-fragmented frame, use `newframe = frame.copy()`\n",
      "  data[ticker] = hist['Close']\n",
      "/var/folders/py/pjzjs05s7494ftly1fgt3g0c0000gn/T/ipykernel_14131/3818152178.py:8: PerformanceWarning: DataFrame is highly fragmented.  This is usually the result of calling `frame.insert` many times, which has poor performance.  Consider joining all columns at once using pd.concat(axis=1) instead. To get a de-fragmented frame, use `newframe = frame.copy()`\n",
      "  data[ticker] = hist['Close']\n",
      "/var/folders/py/pjzjs05s7494ftly1fgt3g0c0000gn/T/ipykernel_14131/3818152178.py:8: PerformanceWarning: DataFrame is highly fragmented.  This is usually the result of calling `frame.insert` many times, which has poor performance.  Consider joining all columns at once using pd.concat(axis=1) instead. To get a de-fragmented frame, use `newframe = frame.copy()`\n",
      "  data[ticker] = hist['Close']\n"
     ]
    },
    {
     "name": "stdout",
     "output_type": "stream",
     "text": [
      "Downloading SWKS...\n",
      "Downloading SJM...\n",
      "Downloading SW...\n"
     ]
    },
    {
     "name": "stderr",
     "output_type": "stream",
     "text": [
      "/var/folders/py/pjzjs05s7494ftly1fgt3g0c0000gn/T/ipykernel_14131/3818152178.py:8: PerformanceWarning: DataFrame is highly fragmented.  This is usually the result of calling `frame.insert` many times, which has poor performance.  Consider joining all columns at once using pd.concat(axis=1) instead. To get a de-fragmented frame, use `newframe = frame.copy()`\n",
      "  data[ticker] = hist['Close']\n",
      "/var/folders/py/pjzjs05s7494ftly1fgt3g0c0000gn/T/ipykernel_14131/3818152178.py:8: PerformanceWarning: DataFrame is highly fragmented.  This is usually the result of calling `frame.insert` many times, which has poor performance.  Consider joining all columns at once using pd.concat(axis=1) instead. To get a de-fragmented frame, use `newframe = frame.copy()`\n",
      "  data[ticker] = hist['Close']\n",
      "/var/folders/py/pjzjs05s7494ftly1fgt3g0c0000gn/T/ipykernel_14131/3818152178.py:8: PerformanceWarning: DataFrame is highly fragmented.  This is usually the result of calling `frame.insert` many times, which has poor performance.  Consider joining all columns at once using pd.concat(axis=1) instead. To get a de-fragmented frame, use `newframe = frame.copy()`\n",
      "  data[ticker] = hist['Close']\n"
     ]
    },
    {
     "name": "stdout",
     "output_type": "stream",
     "text": [
      "Downloading SNA...\n",
      "Downloading SOLV...\n",
      "Downloading SO...\n"
     ]
    },
    {
     "name": "stderr",
     "output_type": "stream",
     "text": [
      "/var/folders/py/pjzjs05s7494ftly1fgt3g0c0000gn/T/ipykernel_14131/3818152178.py:8: PerformanceWarning: DataFrame is highly fragmented.  This is usually the result of calling `frame.insert` many times, which has poor performance.  Consider joining all columns at once using pd.concat(axis=1) instead. To get a de-fragmented frame, use `newframe = frame.copy()`\n",
      "  data[ticker] = hist['Close']\n",
      "/var/folders/py/pjzjs05s7494ftly1fgt3g0c0000gn/T/ipykernel_14131/3818152178.py:8: PerformanceWarning: DataFrame is highly fragmented.  This is usually the result of calling `frame.insert` many times, which has poor performance.  Consider joining all columns at once using pd.concat(axis=1) instead. To get a de-fragmented frame, use `newframe = frame.copy()`\n",
      "  data[ticker] = hist['Close']\n"
     ]
    },
    {
     "name": "stdout",
     "output_type": "stream",
     "text": [
      "Downloading LUV...\n",
      "Downloading SWK...\n"
     ]
    },
    {
     "name": "stderr",
     "output_type": "stream",
     "text": [
      "/var/folders/py/pjzjs05s7494ftly1fgt3g0c0000gn/T/ipykernel_14131/3818152178.py:8: PerformanceWarning: DataFrame is highly fragmented.  This is usually the result of calling `frame.insert` many times, which has poor performance.  Consider joining all columns at once using pd.concat(axis=1) instead. To get a de-fragmented frame, use `newframe = frame.copy()`\n",
      "  data[ticker] = hist['Close']\n",
      "/var/folders/py/pjzjs05s7494ftly1fgt3g0c0000gn/T/ipykernel_14131/3818152178.py:8: PerformanceWarning: DataFrame is highly fragmented.  This is usually the result of calling `frame.insert` many times, which has poor performance.  Consider joining all columns at once using pd.concat(axis=1) instead. To get a de-fragmented frame, use `newframe = frame.copy()`\n",
      "  data[ticker] = hist['Close']\n"
     ]
    },
    {
     "name": "stdout",
     "output_type": "stream",
     "text": [
      "Downloading SBUX...\n",
      "Downloading STT...\n"
     ]
    },
    {
     "name": "stderr",
     "output_type": "stream",
     "text": [
      "/var/folders/py/pjzjs05s7494ftly1fgt3g0c0000gn/T/ipykernel_14131/3818152178.py:8: PerformanceWarning: DataFrame is highly fragmented.  This is usually the result of calling `frame.insert` many times, which has poor performance.  Consider joining all columns at once using pd.concat(axis=1) instead. To get a de-fragmented frame, use `newframe = frame.copy()`\n",
      "  data[ticker] = hist['Close']\n",
      "/var/folders/py/pjzjs05s7494ftly1fgt3g0c0000gn/T/ipykernel_14131/3818152178.py:8: PerformanceWarning: DataFrame is highly fragmented.  This is usually the result of calling `frame.insert` many times, which has poor performance.  Consider joining all columns at once using pd.concat(axis=1) instead. To get a de-fragmented frame, use `newframe = frame.copy()`\n",
      "  data[ticker] = hist['Close']\n",
      "/var/folders/py/pjzjs05s7494ftly1fgt3g0c0000gn/T/ipykernel_14131/3818152178.py:8: PerformanceWarning: DataFrame is highly fragmented.  This is usually the result of calling `frame.insert` many times, which has poor performance.  Consider joining all columns at once using pd.concat(axis=1) instead. To get a de-fragmented frame, use `newframe = frame.copy()`\n",
      "  data[ticker] = hist['Close']\n"
     ]
    },
    {
     "name": "stdout",
     "output_type": "stream",
     "text": [
      "Downloading STLD...\n",
      "Downloading STE...\n",
      "Downloading SYK...\n"
     ]
    },
    {
     "name": "stderr",
     "output_type": "stream",
     "text": [
      "/var/folders/py/pjzjs05s7494ftly1fgt3g0c0000gn/T/ipykernel_14131/3818152178.py:8: PerformanceWarning: DataFrame is highly fragmented.  This is usually the result of calling `frame.insert` many times, which has poor performance.  Consider joining all columns at once using pd.concat(axis=1) instead. To get a de-fragmented frame, use `newframe = frame.copy()`\n",
      "  data[ticker] = hist['Close']\n",
      "/var/folders/py/pjzjs05s7494ftly1fgt3g0c0000gn/T/ipykernel_14131/3818152178.py:8: PerformanceWarning: DataFrame is highly fragmented.  This is usually the result of calling `frame.insert` many times, which has poor performance.  Consider joining all columns at once using pd.concat(axis=1) instead. To get a de-fragmented frame, use `newframe = frame.copy()`\n",
      "  data[ticker] = hist['Close']\n",
      "/var/folders/py/pjzjs05s7494ftly1fgt3g0c0000gn/T/ipykernel_14131/3818152178.py:8: PerformanceWarning: DataFrame is highly fragmented.  This is usually the result of calling `frame.insert` many times, which has poor performance.  Consider joining all columns at once using pd.concat(axis=1) instead. To get a de-fragmented frame, use `newframe = frame.copy()`\n",
      "  data[ticker] = hist['Close']\n",
      "/var/folders/py/pjzjs05s7494ftly1fgt3g0c0000gn/T/ipykernel_14131/3818152178.py:8: PerformanceWarning: DataFrame is highly fragmented.  This is usually the result of calling `frame.insert` many times, which has poor performance.  Consider joining all columns at once using pd.concat(axis=1) instead. To get a de-fragmented frame, use `newframe = frame.copy()`\n",
      "  data[ticker] = hist['Close']\n"
     ]
    },
    {
     "name": "stdout",
     "output_type": "stream",
     "text": [
      "Downloading SMCI...\n",
      "Downloading SYF...\n",
      "Downloading SNPS...\n",
      "Downloading SYY...\n"
     ]
    },
    {
     "name": "stderr",
     "output_type": "stream",
     "text": [
      "/var/folders/py/pjzjs05s7494ftly1fgt3g0c0000gn/T/ipykernel_14131/3818152178.py:8: PerformanceWarning: DataFrame is highly fragmented.  This is usually the result of calling `frame.insert` many times, which has poor performance.  Consider joining all columns at once using pd.concat(axis=1) instead. To get a de-fragmented frame, use `newframe = frame.copy()`\n",
      "  data[ticker] = hist['Close']\n",
      "/var/folders/py/pjzjs05s7494ftly1fgt3g0c0000gn/T/ipykernel_14131/3818152178.py:8: PerformanceWarning: DataFrame is highly fragmented.  This is usually the result of calling `frame.insert` many times, which has poor performance.  Consider joining all columns at once using pd.concat(axis=1) instead. To get a de-fragmented frame, use `newframe = frame.copy()`\n",
      "  data[ticker] = hist['Close']\n"
     ]
    },
    {
     "name": "stdout",
     "output_type": "stream",
     "text": [
      "Downloading TMUS...\n",
      "Downloading TROW...\n"
     ]
    },
    {
     "name": "stderr",
     "output_type": "stream",
     "text": [
      "/var/folders/py/pjzjs05s7494ftly1fgt3g0c0000gn/T/ipykernel_14131/3818152178.py:8: PerformanceWarning: DataFrame is highly fragmented.  This is usually the result of calling `frame.insert` many times, which has poor performance.  Consider joining all columns at once using pd.concat(axis=1) instead. To get a de-fragmented frame, use `newframe = frame.copy()`\n",
      "  data[ticker] = hist['Close']\n",
      "/var/folders/py/pjzjs05s7494ftly1fgt3g0c0000gn/T/ipykernel_14131/3818152178.py:8: PerformanceWarning: DataFrame is highly fragmented.  This is usually the result of calling `frame.insert` many times, which has poor performance.  Consider joining all columns at once using pd.concat(axis=1) instead. To get a de-fragmented frame, use `newframe = frame.copy()`\n",
      "  data[ticker] = hist['Close']\n"
     ]
    },
    {
     "name": "stdout",
     "output_type": "stream",
     "text": [
      "Downloading TTWO...\n",
      "Downloading TPR...\n"
     ]
    },
    {
     "name": "stderr",
     "output_type": "stream",
     "text": [
      "/var/folders/py/pjzjs05s7494ftly1fgt3g0c0000gn/T/ipykernel_14131/3818152178.py:8: PerformanceWarning: DataFrame is highly fragmented.  This is usually the result of calling `frame.insert` many times, which has poor performance.  Consider joining all columns at once using pd.concat(axis=1) instead. To get a de-fragmented frame, use `newframe = frame.copy()`\n",
      "  data[ticker] = hist['Close']\n",
      "/var/folders/py/pjzjs05s7494ftly1fgt3g0c0000gn/T/ipykernel_14131/3818152178.py:8: PerformanceWarning: DataFrame is highly fragmented.  This is usually the result of calling `frame.insert` many times, which has poor performance.  Consider joining all columns at once using pd.concat(axis=1) instead. To get a de-fragmented frame, use `newframe = frame.copy()`\n",
      "  data[ticker] = hist['Close']\n"
     ]
    },
    {
     "name": "stdout",
     "output_type": "stream",
     "text": [
      "Downloading TRGP...\n",
      "Downloading TGT...\n"
     ]
    },
    {
     "name": "stderr",
     "output_type": "stream",
     "text": [
      "/var/folders/py/pjzjs05s7494ftly1fgt3g0c0000gn/T/ipykernel_14131/3818152178.py:8: PerformanceWarning: DataFrame is highly fragmented.  This is usually the result of calling `frame.insert` many times, which has poor performance.  Consider joining all columns at once using pd.concat(axis=1) instead. To get a de-fragmented frame, use `newframe = frame.copy()`\n",
      "  data[ticker] = hist['Close']\n",
      "/var/folders/py/pjzjs05s7494ftly1fgt3g0c0000gn/T/ipykernel_14131/3818152178.py:8: PerformanceWarning: DataFrame is highly fragmented.  This is usually the result of calling `frame.insert` many times, which has poor performance.  Consider joining all columns at once using pd.concat(axis=1) instead. To get a de-fragmented frame, use `newframe = frame.copy()`\n",
      "  data[ticker] = hist['Close']\n",
      "/var/folders/py/pjzjs05s7494ftly1fgt3g0c0000gn/T/ipykernel_14131/3818152178.py:8: PerformanceWarning: DataFrame is highly fragmented.  This is usually the result of calling `frame.insert` many times, which has poor performance.  Consider joining all columns at once using pd.concat(axis=1) instead. To get a de-fragmented frame, use `newframe = frame.copy()`\n",
      "  data[ticker] = hist['Close']\n"
     ]
    },
    {
     "name": "stdout",
     "output_type": "stream",
     "text": [
      "Downloading TEL...\n",
      "Downloading TDY...\n",
      "Downloading TER...\n"
     ]
    },
    {
     "name": "stderr",
     "output_type": "stream",
     "text": [
      "/var/folders/py/pjzjs05s7494ftly1fgt3g0c0000gn/T/ipykernel_14131/3818152178.py:8: PerformanceWarning: DataFrame is highly fragmented.  This is usually the result of calling `frame.insert` many times, which has poor performance.  Consider joining all columns at once using pd.concat(axis=1) instead. To get a de-fragmented frame, use `newframe = frame.copy()`\n",
      "  data[ticker] = hist['Close']\n",
      "/var/folders/py/pjzjs05s7494ftly1fgt3g0c0000gn/T/ipykernel_14131/3818152178.py:8: PerformanceWarning: DataFrame is highly fragmented.  This is usually the result of calling `frame.insert` many times, which has poor performance.  Consider joining all columns at once using pd.concat(axis=1) instead. To get a de-fragmented frame, use `newframe = frame.copy()`\n",
      "  data[ticker] = hist['Close']\n"
     ]
    },
    {
     "name": "stdout",
     "output_type": "stream",
     "text": [
      "Downloading TSLA...\n",
      "Downloading TXN...\n"
     ]
    },
    {
     "name": "stderr",
     "output_type": "stream",
     "text": [
      "/var/folders/py/pjzjs05s7494ftly1fgt3g0c0000gn/T/ipykernel_14131/3818152178.py:8: PerformanceWarning: DataFrame is highly fragmented.  This is usually the result of calling `frame.insert` many times, which has poor performance.  Consider joining all columns at once using pd.concat(axis=1) instead. To get a de-fragmented frame, use `newframe = frame.copy()`\n",
      "  data[ticker] = hist['Close']\n"
     ]
    },
    {
     "name": "stdout",
     "output_type": "stream",
     "text": [
      "Downloading TPL...\n"
     ]
    },
    {
     "name": "stderr",
     "output_type": "stream",
     "text": [
      "/var/folders/py/pjzjs05s7494ftly1fgt3g0c0000gn/T/ipykernel_14131/3818152178.py:8: PerformanceWarning: DataFrame is highly fragmented.  This is usually the result of calling `frame.insert` many times, which has poor performance.  Consider joining all columns at once using pd.concat(axis=1) instead. To get a de-fragmented frame, use `newframe = frame.copy()`\n",
      "  data[ticker] = hist['Close']\n"
     ]
    },
    {
     "name": "stdout",
     "output_type": "stream",
     "text": [
      "Downloading TXT...\n"
     ]
    },
    {
     "name": "stderr",
     "output_type": "stream",
     "text": [
      "/var/folders/py/pjzjs05s7494ftly1fgt3g0c0000gn/T/ipykernel_14131/3818152178.py:8: PerformanceWarning: DataFrame is highly fragmented.  This is usually the result of calling `frame.insert` many times, which has poor performance.  Consider joining all columns at once using pd.concat(axis=1) instead. To get a de-fragmented frame, use `newframe = frame.copy()`\n",
      "  data[ticker] = hist['Close']\n",
      "/var/folders/py/pjzjs05s7494ftly1fgt3g0c0000gn/T/ipykernel_14131/3818152178.py:8: PerformanceWarning: DataFrame is highly fragmented.  This is usually the result of calling `frame.insert` many times, which has poor performance.  Consider joining all columns at once using pd.concat(axis=1) instead. To get a de-fragmented frame, use `newframe = frame.copy()`\n",
      "  data[ticker] = hist['Close']\n"
     ]
    },
    {
     "name": "stdout",
     "output_type": "stream",
     "text": [
      "Downloading TMO...\n",
      "Downloading TJX...\n"
     ]
    },
    {
     "name": "stderr",
     "output_type": "stream",
     "text": [
      "/var/folders/py/pjzjs05s7494ftly1fgt3g0c0000gn/T/ipykernel_14131/3818152178.py:8: PerformanceWarning: DataFrame is highly fragmented.  This is usually the result of calling `frame.insert` many times, which has poor performance.  Consider joining all columns at once using pd.concat(axis=1) instead. To get a de-fragmented frame, use `newframe = frame.copy()`\n",
      "  data[ticker] = hist['Close']\n",
      "/var/folders/py/pjzjs05s7494ftly1fgt3g0c0000gn/T/ipykernel_14131/3818152178.py:8: PerformanceWarning: DataFrame is highly fragmented.  This is usually the result of calling `frame.insert` many times, which has poor performance.  Consider joining all columns at once using pd.concat(axis=1) instead. To get a de-fragmented frame, use `newframe = frame.copy()`\n",
      "  data[ticker] = hist['Close']\n"
     ]
    },
    {
     "name": "stdout",
     "output_type": "stream",
     "text": [
      "Downloading TKO...\n",
      "Downloading TSCO...\n"
     ]
    },
    {
     "name": "stderr",
     "output_type": "stream",
     "text": [
      "/var/folders/py/pjzjs05s7494ftly1fgt3g0c0000gn/T/ipykernel_14131/3818152178.py:8: PerformanceWarning: DataFrame is highly fragmented.  This is usually the result of calling `frame.insert` many times, which has poor performance.  Consider joining all columns at once using pd.concat(axis=1) instead. To get a de-fragmented frame, use `newframe = frame.copy()`\n",
      "  data[ticker] = hist['Close']\n",
      "/var/folders/py/pjzjs05s7494ftly1fgt3g0c0000gn/T/ipykernel_14131/3818152178.py:8: PerformanceWarning: DataFrame is highly fragmented.  This is usually the result of calling `frame.insert` many times, which has poor performance.  Consider joining all columns at once using pd.concat(axis=1) instead. To get a de-fragmented frame, use `newframe = frame.copy()`\n",
      "  data[ticker] = hist['Close']\n",
      "/var/folders/py/pjzjs05s7494ftly1fgt3g0c0000gn/T/ipykernel_14131/3818152178.py:8: PerformanceWarning: DataFrame is highly fragmented.  This is usually the result of calling `frame.insert` many times, which has poor performance.  Consider joining all columns at once using pd.concat(axis=1) instead. To get a de-fragmented frame, use `newframe = frame.copy()`\n",
      "  data[ticker] = hist['Close']\n"
     ]
    },
    {
     "name": "stdout",
     "output_type": "stream",
     "text": [
      "Downloading TT...\n",
      "Downloading TDG...\n",
      "Downloading TRV...\n"
     ]
    },
    {
     "name": "stderr",
     "output_type": "stream",
     "text": [
      "/var/folders/py/pjzjs05s7494ftly1fgt3g0c0000gn/T/ipykernel_14131/3818152178.py:8: PerformanceWarning: DataFrame is highly fragmented.  This is usually the result of calling `frame.insert` many times, which has poor performance.  Consider joining all columns at once using pd.concat(axis=1) instead. To get a de-fragmented frame, use `newframe = frame.copy()`\n",
      "  data[ticker] = hist['Close']\n",
      "/var/folders/py/pjzjs05s7494ftly1fgt3g0c0000gn/T/ipykernel_14131/3818152178.py:8: PerformanceWarning: DataFrame is highly fragmented.  This is usually the result of calling `frame.insert` many times, which has poor performance.  Consider joining all columns at once using pd.concat(axis=1) instead. To get a de-fragmented frame, use `newframe = frame.copy()`\n",
      "  data[ticker] = hist['Close']\n",
      "/var/folders/py/pjzjs05s7494ftly1fgt3g0c0000gn/T/ipykernel_14131/3818152178.py:8: PerformanceWarning: DataFrame is highly fragmented.  This is usually the result of calling `frame.insert` many times, which has poor performance.  Consider joining all columns at once using pd.concat(axis=1) instead. To get a de-fragmented frame, use `newframe = frame.copy()`\n",
      "  data[ticker] = hist['Close']\n"
     ]
    },
    {
     "name": "stdout",
     "output_type": "stream",
     "text": [
      "Downloading TRMB...\n",
      "Downloading TFC...\n",
      "Downloading TYL...\n"
     ]
    },
    {
     "name": "stderr",
     "output_type": "stream",
     "text": [
      "/var/folders/py/pjzjs05s7494ftly1fgt3g0c0000gn/T/ipykernel_14131/3818152178.py:8: PerformanceWarning: DataFrame is highly fragmented.  This is usually the result of calling `frame.insert` many times, which has poor performance.  Consider joining all columns at once using pd.concat(axis=1) instead. To get a de-fragmented frame, use `newframe = frame.copy()`\n",
      "  data[ticker] = hist['Close']\n",
      "/var/folders/py/pjzjs05s7494ftly1fgt3g0c0000gn/T/ipykernel_14131/3818152178.py:8: PerformanceWarning: DataFrame is highly fragmented.  This is usually the result of calling `frame.insert` many times, which has poor performance.  Consider joining all columns at once using pd.concat(axis=1) instead. To get a de-fragmented frame, use `newframe = frame.copy()`\n",
      "  data[ticker] = hist['Close']\n"
     ]
    },
    {
     "name": "stdout",
     "output_type": "stream",
     "text": [
      "Downloading TSN...\n",
      "Downloading USB...\n"
     ]
    },
    {
     "name": "stderr",
     "output_type": "stream",
     "text": [
      "/var/folders/py/pjzjs05s7494ftly1fgt3g0c0000gn/T/ipykernel_14131/3818152178.py:8: PerformanceWarning: DataFrame is highly fragmented.  This is usually the result of calling `frame.insert` many times, which has poor performance.  Consider joining all columns at once using pd.concat(axis=1) instead. To get a de-fragmented frame, use `newframe = frame.copy()`\n",
      "  data[ticker] = hist['Close']\n",
      "/var/folders/py/pjzjs05s7494ftly1fgt3g0c0000gn/T/ipykernel_14131/3818152178.py:8: PerformanceWarning: DataFrame is highly fragmented.  This is usually the result of calling `frame.insert` many times, which has poor performance.  Consider joining all columns at once using pd.concat(axis=1) instead. To get a de-fragmented frame, use `newframe = frame.copy()`\n",
      "  data[ticker] = hist['Close']\n",
      "/var/folders/py/pjzjs05s7494ftly1fgt3g0c0000gn/T/ipykernel_14131/3818152178.py:8: PerformanceWarning: DataFrame is highly fragmented.  This is usually the result of calling `frame.insert` many times, which has poor performance.  Consider joining all columns at once using pd.concat(axis=1) instead. To get a de-fragmented frame, use `newframe = frame.copy()`\n",
      "  data[ticker] = hist['Close']\n"
     ]
    },
    {
     "name": "stdout",
     "output_type": "stream",
     "text": [
      "Downloading UBER...\n",
      "Downloading UDR...\n",
      "Downloading ULTA...\n"
     ]
    },
    {
     "name": "stderr",
     "output_type": "stream",
     "text": [
      "/var/folders/py/pjzjs05s7494ftly1fgt3g0c0000gn/T/ipykernel_14131/3818152178.py:8: PerformanceWarning: DataFrame is highly fragmented.  This is usually the result of calling `frame.insert` many times, which has poor performance.  Consider joining all columns at once using pd.concat(axis=1) instead. To get a de-fragmented frame, use `newframe = frame.copy()`\n",
      "  data[ticker] = hist['Close']\n",
      "/var/folders/py/pjzjs05s7494ftly1fgt3g0c0000gn/T/ipykernel_14131/3818152178.py:8: PerformanceWarning: DataFrame is highly fragmented.  This is usually the result of calling `frame.insert` many times, which has poor performance.  Consider joining all columns at once using pd.concat(axis=1) instead. To get a de-fragmented frame, use `newframe = frame.copy()`\n",
      "  data[ticker] = hist['Close']\n"
     ]
    },
    {
     "name": "stdout",
     "output_type": "stream",
     "text": [
      "Downloading UNP...\n",
      "Downloading UAL...\n"
     ]
    },
    {
     "name": "stderr",
     "output_type": "stream",
     "text": [
      "/var/folders/py/pjzjs05s7494ftly1fgt3g0c0000gn/T/ipykernel_14131/3818152178.py:8: PerformanceWarning: DataFrame is highly fragmented.  This is usually the result of calling `frame.insert` many times, which has poor performance.  Consider joining all columns at once using pd.concat(axis=1) instead. To get a de-fragmented frame, use `newframe = frame.copy()`\n",
      "  data[ticker] = hist['Close']\n",
      "/var/folders/py/pjzjs05s7494ftly1fgt3g0c0000gn/T/ipykernel_14131/3818152178.py:8: PerformanceWarning: DataFrame is highly fragmented.  This is usually the result of calling `frame.insert` many times, which has poor performance.  Consider joining all columns at once using pd.concat(axis=1) instead. To get a de-fragmented frame, use `newframe = frame.copy()`\n",
      "  data[ticker] = hist['Close']\n"
     ]
    },
    {
     "name": "stdout",
     "output_type": "stream",
     "text": [
      "Downloading UPS...\n",
      "Downloading URI...\n"
     ]
    },
    {
     "name": "stderr",
     "output_type": "stream",
     "text": [
      "/var/folders/py/pjzjs05s7494ftly1fgt3g0c0000gn/T/ipykernel_14131/3818152178.py:8: PerformanceWarning: DataFrame is highly fragmented.  This is usually the result of calling `frame.insert` many times, which has poor performance.  Consider joining all columns at once using pd.concat(axis=1) instead. To get a de-fragmented frame, use `newframe = frame.copy()`\n",
      "  data[ticker] = hist['Close']\n",
      "/var/folders/py/pjzjs05s7494ftly1fgt3g0c0000gn/T/ipykernel_14131/3818152178.py:8: PerformanceWarning: DataFrame is highly fragmented.  This is usually the result of calling `frame.insert` many times, which has poor performance.  Consider joining all columns at once using pd.concat(axis=1) instead. To get a de-fragmented frame, use `newframe = frame.copy()`\n",
      "  data[ticker] = hist['Close']\n"
     ]
    },
    {
     "name": "stdout",
     "output_type": "stream",
     "text": [
      "Downloading UNH...\n",
      "Downloading UHS...\n"
     ]
    },
    {
     "name": "stderr",
     "output_type": "stream",
     "text": [
      "/var/folders/py/pjzjs05s7494ftly1fgt3g0c0000gn/T/ipykernel_14131/3818152178.py:8: PerformanceWarning: DataFrame is highly fragmented.  This is usually the result of calling `frame.insert` many times, which has poor performance.  Consider joining all columns at once using pd.concat(axis=1) instead. To get a de-fragmented frame, use `newframe = frame.copy()`\n",
      "  data[ticker] = hist['Close']\n"
     ]
    },
    {
     "name": "stdout",
     "output_type": "stream",
     "text": [
      "Downloading VLO...\n"
     ]
    },
    {
     "name": "stderr",
     "output_type": "stream",
     "text": [
      "/var/folders/py/pjzjs05s7494ftly1fgt3g0c0000gn/T/ipykernel_14131/3818152178.py:8: PerformanceWarning: DataFrame is highly fragmented.  This is usually the result of calling `frame.insert` many times, which has poor performance.  Consider joining all columns at once using pd.concat(axis=1) instead. To get a de-fragmented frame, use `newframe = frame.copy()`\n",
      "  data[ticker] = hist['Close']\n"
     ]
    },
    {
     "name": "stdout",
     "output_type": "stream",
     "text": [
      "Downloading VTR...\n"
     ]
    },
    {
     "name": "stderr",
     "output_type": "stream",
     "text": [
      "/var/folders/py/pjzjs05s7494ftly1fgt3g0c0000gn/T/ipykernel_14131/3818152178.py:8: PerformanceWarning: DataFrame is highly fragmented.  This is usually the result of calling `frame.insert` many times, which has poor performance.  Consider joining all columns at once using pd.concat(axis=1) instead. To get a de-fragmented frame, use `newframe = frame.copy()`\n",
      "  data[ticker] = hist['Close']\n",
      "/var/folders/py/pjzjs05s7494ftly1fgt3g0c0000gn/T/ipykernel_14131/3818152178.py:8: PerformanceWarning: DataFrame is highly fragmented.  This is usually the result of calling `frame.insert` many times, which has poor performance.  Consider joining all columns at once using pd.concat(axis=1) instead. To get a de-fragmented frame, use `newframe = frame.copy()`\n",
      "  data[ticker] = hist['Close']\n",
      "/var/folders/py/pjzjs05s7494ftly1fgt3g0c0000gn/T/ipykernel_14131/3818152178.py:8: PerformanceWarning: DataFrame is highly fragmented.  This is usually the result of calling `frame.insert` many times, which has poor performance.  Consider joining all columns at once using pd.concat(axis=1) instead. To get a de-fragmented frame, use `newframe = frame.copy()`\n",
      "  data[ticker] = hist['Close']\n"
     ]
    },
    {
     "name": "stdout",
     "output_type": "stream",
     "text": [
      "Downloading VLTO...\n",
      "Downloading VRSN...\n",
      "Downloading VRSK...\n"
     ]
    },
    {
     "name": "stderr",
     "output_type": "stream",
     "text": [
      "/var/folders/py/pjzjs05s7494ftly1fgt3g0c0000gn/T/ipykernel_14131/3818152178.py:8: PerformanceWarning: DataFrame is highly fragmented.  This is usually the result of calling `frame.insert` many times, which has poor performance.  Consider joining all columns at once using pd.concat(axis=1) instead. To get a de-fragmented frame, use `newframe = frame.copy()`\n",
      "  data[ticker] = hist['Close']\n",
      "/var/folders/py/pjzjs05s7494ftly1fgt3g0c0000gn/T/ipykernel_14131/3818152178.py:8: PerformanceWarning: DataFrame is highly fragmented.  This is usually the result of calling `frame.insert` many times, which has poor performance.  Consider joining all columns at once using pd.concat(axis=1) instead. To get a de-fragmented frame, use `newframe = frame.copy()`\n",
      "  data[ticker] = hist['Close']\n"
     ]
    },
    {
     "name": "stdout",
     "output_type": "stream",
     "text": [
      "Downloading VZ...\n",
      "Downloading VRTX...\n"
     ]
    },
    {
     "name": "stderr",
     "output_type": "stream",
     "text": [
      "/var/folders/py/pjzjs05s7494ftly1fgt3g0c0000gn/T/ipykernel_14131/3818152178.py:8: PerformanceWarning: DataFrame is highly fragmented.  This is usually the result of calling `frame.insert` many times, which has poor performance.  Consider joining all columns at once using pd.concat(axis=1) instead. To get a de-fragmented frame, use `newframe = frame.copy()`\n",
      "  data[ticker] = hist['Close']\n"
     ]
    },
    {
     "name": "stdout",
     "output_type": "stream",
     "text": [
      "Downloading VTRS...\n"
     ]
    },
    {
     "name": "stderr",
     "output_type": "stream",
     "text": [
      "/var/folders/py/pjzjs05s7494ftly1fgt3g0c0000gn/T/ipykernel_14131/3818152178.py:8: PerformanceWarning: DataFrame is highly fragmented.  This is usually the result of calling `frame.insert` many times, which has poor performance.  Consider joining all columns at once using pd.concat(axis=1) instead. To get a de-fragmented frame, use `newframe = frame.copy()`\n",
      "  data[ticker] = hist['Close']\n",
      "/var/folders/py/pjzjs05s7494ftly1fgt3g0c0000gn/T/ipykernel_14131/3818152178.py:8: PerformanceWarning: DataFrame is highly fragmented.  This is usually the result of calling `frame.insert` many times, which has poor performance.  Consider joining all columns at once using pd.concat(axis=1) instead. To get a de-fragmented frame, use `newframe = frame.copy()`\n",
      "  data[ticker] = hist['Close']\n"
     ]
    },
    {
     "name": "stdout",
     "output_type": "stream",
     "text": [
      "Downloading VICI...\n",
      "Downloading V...\n"
     ]
    },
    {
     "name": "stderr",
     "output_type": "stream",
     "text": [
      "/var/folders/py/pjzjs05s7494ftly1fgt3g0c0000gn/T/ipykernel_14131/3818152178.py:8: PerformanceWarning: DataFrame is highly fragmented.  This is usually the result of calling `frame.insert` many times, which has poor performance.  Consider joining all columns at once using pd.concat(axis=1) instead. To get a de-fragmented frame, use `newframe = frame.copy()`\n",
      "  data[ticker] = hist['Close']\n",
      "/var/folders/py/pjzjs05s7494ftly1fgt3g0c0000gn/T/ipykernel_14131/3818152178.py:8: PerformanceWarning: DataFrame is highly fragmented.  This is usually the result of calling `frame.insert` many times, which has poor performance.  Consider joining all columns at once using pd.concat(axis=1) instead. To get a de-fragmented frame, use `newframe = frame.copy()`\n",
      "  data[ticker] = hist['Close']\n"
     ]
    },
    {
     "name": "stdout",
     "output_type": "stream",
     "text": [
      "Downloading VST...\n",
      "Downloading VMC...\n"
     ]
    },
    {
     "name": "stderr",
     "output_type": "stream",
     "text": [
      "/var/folders/py/pjzjs05s7494ftly1fgt3g0c0000gn/T/ipykernel_14131/3818152178.py:8: PerformanceWarning: DataFrame is highly fragmented.  This is usually the result of calling `frame.insert` many times, which has poor performance.  Consider joining all columns at once using pd.concat(axis=1) instead. To get a de-fragmented frame, use `newframe = frame.copy()`\n",
      "  data[ticker] = hist['Close']\n",
      "/var/folders/py/pjzjs05s7494ftly1fgt3g0c0000gn/T/ipykernel_14131/3818152178.py:8: PerformanceWarning: DataFrame is highly fragmented.  This is usually the result of calling `frame.insert` many times, which has poor performance.  Consider joining all columns at once using pd.concat(axis=1) instead. To get a de-fragmented frame, use `newframe = frame.copy()`\n",
      "  data[ticker] = hist['Close']\n"
     ]
    },
    {
     "name": "stdout",
     "output_type": "stream",
     "text": [
      "Downloading WRB...\n",
      "Downloading GWW...\n"
     ]
    },
    {
     "name": "stderr",
     "output_type": "stream",
     "text": [
      "/var/folders/py/pjzjs05s7494ftly1fgt3g0c0000gn/T/ipykernel_14131/3818152178.py:8: PerformanceWarning: DataFrame is highly fragmented.  This is usually the result of calling `frame.insert` many times, which has poor performance.  Consider joining all columns at once using pd.concat(axis=1) instead. To get a de-fragmented frame, use `newframe = frame.copy()`\n",
      "  data[ticker] = hist['Close']\n",
      "/var/folders/py/pjzjs05s7494ftly1fgt3g0c0000gn/T/ipykernel_14131/3818152178.py:8: PerformanceWarning: DataFrame is highly fragmented.  This is usually the result of calling `frame.insert` many times, which has poor performance.  Consider joining all columns at once using pd.concat(axis=1) instead. To get a de-fragmented frame, use `newframe = frame.copy()`\n",
      "  data[ticker] = hist['Close']\n"
     ]
    },
    {
     "name": "stdout",
     "output_type": "stream",
     "text": [
      "Downloading WAB...\n",
      "Downloading WBA...\n"
     ]
    },
    {
     "name": "stderr",
     "output_type": "stream",
     "text": [
      "/var/folders/py/pjzjs05s7494ftly1fgt3g0c0000gn/T/ipykernel_14131/3818152178.py:8: PerformanceWarning: DataFrame is highly fragmented.  This is usually the result of calling `frame.insert` many times, which has poor performance.  Consider joining all columns at once using pd.concat(axis=1) instead. To get a de-fragmented frame, use `newframe = frame.copy()`\n",
      "  data[ticker] = hist['Close']\n"
     ]
    },
    {
     "name": "stdout",
     "output_type": "stream",
     "text": [
      "Downloading WMT...\n"
     ]
    },
    {
     "name": "stderr",
     "output_type": "stream",
     "text": [
      "/var/folders/py/pjzjs05s7494ftly1fgt3g0c0000gn/T/ipykernel_14131/3818152178.py:8: PerformanceWarning: DataFrame is highly fragmented.  This is usually the result of calling `frame.insert` many times, which has poor performance.  Consider joining all columns at once using pd.concat(axis=1) instead. To get a de-fragmented frame, use `newframe = frame.copy()`\n",
      "  data[ticker] = hist['Close']\n",
      "/var/folders/py/pjzjs05s7494ftly1fgt3g0c0000gn/T/ipykernel_14131/3818152178.py:8: PerformanceWarning: DataFrame is highly fragmented.  This is usually the result of calling `frame.insert` many times, which has poor performance.  Consider joining all columns at once using pd.concat(axis=1) instead. To get a de-fragmented frame, use `newframe = frame.copy()`\n",
      "  data[ticker] = hist['Close']\n"
     ]
    },
    {
     "name": "stdout",
     "output_type": "stream",
     "text": [
      "Downloading DIS...\n",
      "Downloading WBD...\n"
     ]
    },
    {
     "name": "stderr",
     "output_type": "stream",
     "text": [
      "/var/folders/py/pjzjs05s7494ftly1fgt3g0c0000gn/T/ipykernel_14131/3818152178.py:8: PerformanceWarning: DataFrame is highly fragmented.  This is usually the result of calling `frame.insert` many times, which has poor performance.  Consider joining all columns at once using pd.concat(axis=1) instead. To get a de-fragmented frame, use `newframe = frame.copy()`\n",
      "  data[ticker] = hist['Close']\n",
      "/var/folders/py/pjzjs05s7494ftly1fgt3g0c0000gn/T/ipykernel_14131/3818152178.py:8: PerformanceWarning: DataFrame is highly fragmented.  This is usually the result of calling `frame.insert` many times, which has poor performance.  Consider joining all columns at once using pd.concat(axis=1) instead. To get a de-fragmented frame, use `newframe = frame.copy()`\n",
      "  data[ticker] = hist['Close']\n",
      "/var/folders/py/pjzjs05s7494ftly1fgt3g0c0000gn/T/ipykernel_14131/3818152178.py:8: PerformanceWarning: DataFrame is highly fragmented.  This is usually the result of calling `frame.insert` many times, which has poor performance.  Consider joining all columns at once using pd.concat(axis=1) instead. To get a de-fragmented frame, use `newframe = frame.copy()`\n",
      "  data[ticker] = hist['Close']\n"
     ]
    },
    {
     "name": "stdout",
     "output_type": "stream",
     "text": [
      "Downloading WM...\n",
      "Downloading WAT...\n",
      "Downloading WEC...\n"
     ]
    },
    {
     "name": "stderr",
     "output_type": "stream",
     "text": [
      "/var/folders/py/pjzjs05s7494ftly1fgt3g0c0000gn/T/ipykernel_14131/3818152178.py:8: PerformanceWarning: DataFrame is highly fragmented.  This is usually the result of calling `frame.insert` many times, which has poor performance.  Consider joining all columns at once using pd.concat(axis=1) instead. To get a de-fragmented frame, use `newframe = frame.copy()`\n",
      "  data[ticker] = hist['Close']\n"
     ]
    },
    {
     "name": "stdout",
     "output_type": "stream",
     "text": [
      "Downloading WFC...\n"
     ]
    },
    {
     "name": "stderr",
     "output_type": "stream",
     "text": [
      "/var/folders/py/pjzjs05s7494ftly1fgt3g0c0000gn/T/ipykernel_14131/3818152178.py:8: PerformanceWarning: DataFrame is highly fragmented.  This is usually the result of calling `frame.insert` many times, which has poor performance.  Consider joining all columns at once using pd.concat(axis=1) instead. To get a de-fragmented frame, use `newframe = frame.copy()`\n",
      "  data[ticker] = hist['Close']\n",
      "/var/folders/py/pjzjs05s7494ftly1fgt3g0c0000gn/T/ipykernel_14131/3818152178.py:8: PerformanceWarning: DataFrame is highly fragmented.  This is usually the result of calling `frame.insert` many times, which has poor performance.  Consider joining all columns at once using pd.concat(axis=1) instead. To get a de-fragmented frame, use `newframe = frame.copy()`\n",
      "  data[ticker] = hist['Close']\n"
     ]
    },
    {
     "name": "stdout",
     "output_type": "stream",
     "text": [
      "Downloading WELL...\n",
      "Downloading WST...\n"
     ]
    },
    {
     "name": "stderr",
     "output_type": "stream",
     "text": [
      "/var/folders/py/pjzjs05s7494ftly1fgt3g0c0000gn/T/ipykernel_14131/3818152178.py:8: PerformanceWarning: DataFrame is highly fragmented.  This is usually the result of calling `frame.insert` many times, which has poor performance.  Consider joining all columns at once using pd.concat(axis=1) instead. To get a de-fragmented frame, use `newframe = frame.copy()`\n",
      "  data[ticker] = hist['Close']\n",
      "/var/folders/py/pjzjs05s7494ftly1fgt3g0c0000gn/T/ipykernel_14131/3818152178.py:8: PerformanceWarning: DataFrame is highly fragmented.  This is usually the result of calling `frame.insert` many times, which has poor performance.  Consider joining all columns at once using pd.concat(axis=1) instead. To get a de-fragmented frame, use `newframe = frame.copy()`\n",
      "  data[ticker] = hist['Close']\n"
     ]
    },
    {
     "name": "stdout",
     "output_type": "stream",
     "text": [
      "Downloading WDC...\n",
      "Downloading WY...\n"
     ]
    },
    {
     "name": "stderr",
     "output_type": "stream",
     "text": [
      "/var/folders/py/pjzjs05s7494ftly1fgt3g0c0000gn/T/ipykernel_14131/3818152178.py:8: PerformanceWarning: DataFrame is highly fragmented.  This is usually the result of calling `frame.insert` many times, which has poor performance.  Consider joining all columns at once using pd.concat(axis=1) instead. To get a de-fragmented frame, use `newframe = frame.copy()`\n",
      "  data[ticker] = hist['Close']\n",
      "/var/folders/py/pjzjs05s7494ftly1fgt3g0c0000gn/T/ipykernel_14131/3818152178.py:8: PerformanceWarning: DataFrame is highly fragmented.  This is usually the result of calling `frame.insert` many times, which has poor performance.  Consider joining all columns at once using pd.concat(axis=1) instead. To get a de-fragmented frame, use `newframe = frame.copy()`\n",
      "  data[ticker] = hist['Close']\n"
     ]
    },
    {
     "name": "stdout",
     "output_type": "stream",
     "text": [
      "Downloading WSM...\n",
      "Downloading WMB...\n"
     ]
    },
    {
     "name": "stderr",
     "output_type": "stream",
     "text": [
      "/var/folders/py/pjzjs05s7494ftly1fgt3g0c0000gn/T/ipykernel_14131/3818152178.py:8: PerformanceWarning: DataFrame is highly fragmented.  This is usually the result of calling `frame.insert` many times, which has poor performance.  Consider joining all columns at once using pd.concat(axis=1) instead. To get a de-fragmented frame, use `newframe = frame.copy()`\n",
      "  data[ticker] = hist['Close']\n",
      "/var/folders/py/pjzjs05s7494ftly1fgt3g0c0000gn/T/ipykernel_14131/3818152178.py:8: PerformanceWarning: DataFrame is highly fragmented.  This is usually the result of calling `frame.insert` many times, which has poor performance.  Consider joining all columns at once using pd.concat(axis=1) instead. To get a de-fragmented frame, use `newframe = frame.copy()`\n",
      "  data[ticker] = hist['Close']\n"
     ]
    },
    {
     "name": "stdout",
     "output_type": "stream",
     "text": [
      "Downloading WTW...\n",
      "Downloading WDAY...\n"
     ]
    },
    {
     "name": "stderr",
     "output_type": "stream",
     "text": [
      "/var/folders/py/pjzjs05s7494ftly1fgt3g0c0000gn/T/ipykernel_14131/3818152178.py:8: PerformanceWarning: DataFrame is highly fragmented.  This is usually the result of calling `frame.insert` many times, which has poor performance.  Consider joining all columns at once using pd.concat(axis=1) instead. To get a de-fragmented frame, use `newframe = frame.copy()`\n",
      "  data[ticker] = hist['Close']\n",
      "/var/folders/py/pjzjs05s7494ftly1fgt3g0c0000gn/T/ipykernel_14131/3818152178.py:8: PerformanceWarning: DataFrame is highly fragmented.  This is usually the result of calling `frame.insert` many times, which has poor performance.  Consider joining all columns at once using pd.concat(axis=1) instead. To get a de-fragmented frame, use `newframe = frame.copy()`\n",
      "  data[ticker] = hist['Close']\n"
     ]
    },
    {
     "name": "stdout",
     "output_type": "stream",
     "text": [
      "Downloading WYNN...\n",
      "Downloading XEL...\n"
     ]
    },
    {
     "name": "stderr",
     "output_type": "stream",
     "text": [
      "/var/folders/py/pjzjs05s7494ftly1fgt3g0c0000gn/T/ipykernel_14131/3818152178.py:8: PerformanceWarning: DataFrame is highly fragmented.  This is usually the result of calling `frame.insert` many times, which has poor performance.  Consider joining all columns at once using pd.concat(axis=1) instead. To get a de-fragmented frame, use `newframe = frame.copy()`\n",
      "  data[ticker] = hist['Close']\n",
      "/var/folders/py/pjzjs05s7494ftly1fgt3g0c0000gn/T/ipykernel_14131/3818152178.py:8: PerformanceWarning: DataFrame is highly fragmented.  This is usually the result of calling `frame.insert` many times, which has poor performance.  Consider joining all columns at once using pd.concat(axis=1) instead. To get a de-fragmented frame, use `newframe = frame.copy()`\n",
      "  data[ticker] = hist['Close']\n",
      "/var/folders/py/pjzjs05s7494ftly1fgt3g0c0000gn/T/ipykernel_14131/3818152178.py:8: PerformanceWarning: DataFrame is highly fragmented.  This is usually the result of calling `frame.insert` many times, which has poor performance.  Consider joining all columns at once using pd.concat(axis=1) instead. To get a de-fragmented frame, use `newframe = frame.copy()`\n",
      "  data[ticker] = hist['Close']\n"
     ]
    },
    {
     "name": "stdout",
     "output_type": "stream",
     "text": [
      "Downloading XYL...\n",
      "Downloading YUM...\n",
      "Downloading ZBRA...\n"
     ]
    },
    {
     "name": "stderr",
     "output_type": "stream",
     "text": [
      "/var/folders/py/pjzjs05s7494ftly1fgt3g0c0000gn/T/ipykernel_14131/3818152178.py:8: PerformanceWarning: DataFrame is highly fragmented.  This is usually the result of calling `frame.insert` many times, which has poor performance.  Consider joining all columns at once using pd.concat(axis=1) instead. To get a de-fragmented frame, use `newframe = frame.copy()`\n",
      "  data[ticker] = hist['Close']\n",
      "/var/folders/py/pjzjs05s7494ftly1fgt3g0c0000gn/T/ipykernel_14131/3818152178.py:8: PerformanceWarning: DataFrame is highly fragmented.  This is usually the result of calling `frame.insert` many times, which has poor performance.  Consider joining all columns at once using pd.concat(axis=1) instead. To get a de-fragmented frame, use `newframe = frame.copy()`\n",
      "  data[ticker] = hist['Close']\n"
     ]
    },
    {
     "name": "stdout",
     "output_type": "stream",
     "text": [
      "Downloading ZBH...\n",
      "Downloading ZTS...\n",
      "Downloading SPY...\n"
     ]
    },
    {
     "name": "stderr",
     "output_type": "stream",
     "text": [
      "/var/folders/py/pjzjs05s7494ftly1fgt3g0c0000gn/T/ipykernel_14131/3818152178.py:8: PerformanceWarning: DataFrame is highly fragmented.  This is usually the result of calling `frame.insert` many times, which has poor performance.  Consider joining all columns at once using pd.concat(axis=1) instead. To get a de-fragmented frame, use `newframe = frame.copy()`\n",
      "  data[ticker] = hist['Close']\n",
      "/var/folders/py/pjzjs05s7494ftly1fgt3g0c0000gn/T/ipykernel_14131/3818152178.py:8: PerformanceWarning: DataFrame is highly fragmented.  This is usually the result of calling `frame.insert` many times, which has poor performance.  Consider joining all columns at once using pd.concat(axis=1) instead. To get a de-fragmented frame, use `newframe = frame.copy()`\n",
      "  data[ticker] = hist['Close']\n"
     ]
    }
   ],
   "source": [
    "data = pd.DataFrame()\n",
    "for ticker in tickers:\n",
    "    try:\n",
    "        print(f\"Downloading {ticker}...\")\n",
    "        stock = yf.Ticker(ticker, session=session)\n",
    "        hist = stock.history(period='5y', interval='1d')\n",
    "        if not hist.empty:\n",
    "            data[ticker] = hist['Close']\n",
    "    except Exception as e:\n",
    "        print(f\"Failed to download {ticker}: {e}\")\n",
    "\n",
    "# Drop columns with many NaNs\n",
    "data = data.dropna(axis=1, thresh=int(0.9 * len(data)))\n"
   ]
  },
  {
   "cell_type": "code",
   "execution_count": 9,
   "id": "79ae4908",
   "metadata": {},
   "outputs": [
    {
     "name": "stderr",
     "output_type": "stream",
     "text": [
      "/var/folders/py/pjzjs05s7494ftly1fgt3g0c0000gn/T/ipykernel_14131/3558852563.py:2: FutureWarning: 'M' is deprecated and will be removed in a future version, please use 'ME' instead.\n",
      "  monthly_prices = data.resample('M').last()\n"
     ]
    }
   ],
   "source": [
    "# Resample to monthly prices\n",
    "monthly_prices = data.resample('M').last()"
   ]
  },
  {
   "cell_type": "code",
   "execution_count": 10,
   "id": "b556720d",
   "metadata": {},
   "outputs": [],
   "source": [
    "#Monthly returns\n",
    "def compute_momentum(prices):\n",
    "    ret1 = prices.pct_change(1).shift(1)\n",
    "    ret3 = prices.pct_change(2).shift(1)\n",
    "    ret6 = prices.pct_change(6).shift(1)\n",
    "    ret12 = prices.pct_change(12).shift(1)\n",
    "    return (ret1 + ret3 + ret6 + ret12) / 4\n",
    "\n",
    "momentum = compute_momentum(monthly_prices)\n"
   ]
  },
  {
   "cell_type": "code",
   "execution_count": 11,
   "id": "902c944a",
   "metadata": {},
   "outputs": [],
   "source": [
    "z_scores = momentum.apply(lambda row: (row - row.mean()) / row.std(), axis=1)\n"
   ]
  },
  {
   "cell_type": "code",
   "execution_count": 12,
   "id": "78baa6dd",
   "metadata": {},
   "outputs": [
    {
     "data": {
      "text/html": [
       "<div>\n",
       "<style scoped>\n",
       "    .dataframe tbody tr th:only-of-type {\n",
       "        vertical-align: middle;\n",
       "    }\n",
       "\n",
       "    .dataframe tbody tr th {\n",
       "        vertical-align: top;\n",
       "    }\n",
       "\n",
       "    .dataframe thead th {\n",
       "        text-align: right;\n",
       "    }\n",
       "</style>\n",
       "<table border=\"1\" class=\"dataframe\">\n",
       "  <thead>\n",
       "    <tr style=\"text-align: right;\">\n",
       "      <th></th>\n",
       "      <th>MMM</th>\n",
       "      <th>AOS</th>\n",
       "      <th>ABT</th>\n",
       "      <th>ABBV</th>\n",
       "      <th>ACN</th>\n",
       "      <th>ADBE</th>\n",
       "      <th>AMD</th>\n",
       "      <th>AES</th>\n",
       "      <th>AFL</th>\n",
       "      <th>A</th>\n",
       "      <th>...</th>\n",
       "      <th>WTW</th>\n",
       "      <th>WDAY</th>\n",
       "      <th>WYNN</th>\n",
       "      <th>XEL</th>\n",
       "      <th>XYL</th>\n",
       "      <th>YUM</th>\n",
       "      <th>ZBRA</th>\n",
       "      <th>ZBH</th>\n",
       "      <th>ZTS</th>\n",
       "      <th>SPY</th>\n",
       "    </tr>\n",
       "    <tr>\n",
       "      <th>Date</th>\n",
       "      <th></th>\n",
       "      <th></th>\n",
       "      <th></th>\n",
       "      <th></th>\n",
       "      <th></th>\n",
       "      <th></th>\n",
       "      <th></th>\n",
       "      <th></th>\n",
       "      <th></th>\n",
       "      <th></th>\n",
       "      <th></th>\n",
       "      <th></th>\n",
       "      <th></th>\n",
       "      <th></th>\n",
       "      <th></th>\n",
       "      <th></th>\n",
       "      <th></th>\n",
       "      <th></th>\n",
       "      <th></th>\n",
       "      <th></th>\n",
       "      <th></th>\n",
       "    </tr>\n",
       "  </thead>\n",
       "  <tbody>\n",
       "    <tr>\n",
       "      <th>2020-05-31 00:00:00-04:00</th>\n",
       "      <td>NaN</td>\n",
       "      <td>NaN</td>\n",
       "      <td>NaN</td>\n",
       "      <td>NaN</td>\n",
       "      <td>NaN</td>\n",
       "      <td>NaN</td>\n",
       "      <td>NaN</td>\n",
       "      <td>NaN</td>\n",
       "      <td>NaN</td>\n",
       "      <td>NaN</td>\n",
       "      <td>...</td>\n",
       "      <td>NaN</td>\n",
       "      <td>NaN</td>\n",
       "      <td>NaN</td>\n",
       "      <td>NaN</td>\n",
       "      <td>NaN</td>\n",
       "      <td>NaN</td>\n",
       "      <td>NaN</td>\n",
       "      <td>NaN</td>\n",
       "      <td>NaN</td>\n",
       "      <td>NaN</td>\n",
       "    </tr>\n",
       "    <tr>\n",
       "      <th>2020-06-30 00:00:00-04:00</th>\n",
       "      <td>NaN</td>\n",
       "      <td>NaN</td>\n",
       "      <td>NaN</td>\n",
       "      <td>NaN</td>\n",
       "      <td>NaN</td>\n",
       "      <td>NaN</td>\n",
       "      <td>NaN</td>\n",
       "      <td>NaN</td>\n",
       "      <td>NaN</td>\n",
       "      <td>NaN</td>\n",
       "      <td>...</td>\n",
       "      <td>NaN</td>\n",
       "      <td>NaN</td>\n",
       "      <td>NaN</td>\n",
       "      <td>NaN</td>\n",
       "      <td>NaN</td>\n",
       "      <td>NaN</td>\n",
       "      <td>NaN</td>\n",
       "      <td>NaN</td>\n",
       "      <td>NaN</td>\n",
       "      <td>NaN</td>\n",
       "    </tr>\n",
       "    <tr>\n",
       "      <th>2020-07-31 00:00:00-04:00</th>\n",
       "      <td>NaN</td>\n",
       "      <td>NaN</td>\n",
       "      <td>NaN</td>\n",
       "      <td>NaN</td>\n",
       "      <td>NaN</td>\n",
       "      <td>NaN</td>\n",
       "      <td>NaN</td>\n",
       "      <td>NaN</td>\n",
       "      <td>NaN</td>\n",
       "      <td>NaN</td>\n",
       "      <td>...</td>\n",
       "      <td>NaN</td>\n",
       "      <td>NaN</td>\n",
       "      <td>NaN</td>\n",
       "      <td>NaN</td>\n",
       "      <td>NaN</td>\n",
       "      <td>NaN</td>\n",
       "      <td>NaN</td>\n",
       "      <td>NaN</td>\n",
       "      <td>NaN</td>\n",
       "      <td>NaN</td>\n",
       "    </tr>\n",
       "    <tr>\n",
       "      <th>2020-08-31 00:00:00-04:00</th>\n",
       "      <td>NaN</td>\n",
       "      <td>NaN</td>\n",
       "      <td>NaN</td>\n",
       "      <td>NaN</td>\n",
       "      <td>NaN</td>\n",
       "      <td>NaN</td>\n",
       "      <td>NaN</td>\n",
       "      <td>NaN</td>\n",
       "      <td>NaN</td>\n",
       "      <td>NaN</td>\n",
       "      <td>...</td>\n",
       "      <td>NaN</td>\n",
       "      <td>NaN</td>\n",
       "      <td>NaN</td>\n",
       "      <td>NaN</td>\n",
       "      <td>NaN</td>\n",
       "      <td>NaN</td>\n",
       "      <td>NaN</td>\n",
       "      <td>NaN</td>\n",
       "      <td>NaN</td>\n",
       "      <td>NaN</td>\n",
       "    </tr>\n",
       "    <tr>\n",
       "      <th>2020-09-30 00:00:00-04:00</th>\n",
       "      <td>NaN</td>\n",
       "      <td>NaN</td>\n",
       "      <td>NaN</td>\n",
       "      <td>NaN</td>\n",
       "      <td>NaN</td>\n",
       "      <td>NaN</td>\n",
       "      <td>NaN</td>\n",
       "      <td>NaN</td>\n",
       "      <td>NaN</td>\n",
       "      <td>NaN</td>\n",
       "      <td>...</td>\n",
       "      <td>NaN</td>\n",
       "      <td>NaN</td>\n",
       "      <td>NaN</td>\n",
       "      <td>NaN</td>\n",
       "      <td>NaN</td>\n",
       "      <td>NaN</td>\n",
       "      <td>NaN</td>\n",
       "      <td>NaN</td>\n",
       "      <td>NaN</td>\n",
       "      <td>NaN</td>\n",
       "    </tr>\n",
       "    <tr>\n",
       "      <th>...</th>\n",
       "      <td>...</td>\n",
       "      <td>...</td>\n",
       "      <td>...</td>\n",
       "      <td>...</td>\n",
       "      <td>...</td>\n",
       "      <td>...</td>\n",
       "      <td>...</td>\n",
       "      <td>...</td>\n",
       "      <td>...</td>\n",
       "      <td>...</td>\n",
       "      <td>...</td>\n",
       "      <td>...</td>\n",
       "      <td>...</td>\n",
       "      <td>...</td>\n",
       "      <td>...</td>\n",
       "      <td>...</td>\n",
       "      <td>...</td>\n",
       "      <td>...</td>\n",
       "      <td>...</td>\n",
       "      <td>...</td>\n",
       "      <td>...</td>\n",
       "    </tr>\n",
       "    <tr>\n",
       "      <th>2025-01-31 00:00:00-05:00</th>\n",
       "      <td>0.852317</td>\n",
       "      <td>-1.071031</td>\n",
       "      <td>-0.129505</td>\n",
       "      <td>-0.148777</td>\n",
       "      <td>-0.000245</td>\n",
       "      <td>-1.337960</td>\n",
       "      <td>-1.425181</td>\n",
       "      <td>-1.526479</td>\n",
       "      <td>0.269977</td>\n",
       "      <td>-0.248034</td>\n",
       "      <td>...</td>\n",
       "      <td>0.560964</td>\n",
       "      <td>0.072147</td>\n",
       "      <td>-0.702913</td>\n",
       "      <td>0.255147</td>\n",
       "      <td>-0.672067</td>\n",
       "      <td>-0.176428</td>\n",
       "      <td>0.706488</td>\n",
       "      <td>-0.622592</td>\n",
       "      <td>-0.890737</td>\n",
       "      <td>0.260402</td>\n",
       "    </tr>\n",
       "    <tr>\n",
       "      <th>2025-02-28 00:00:00-05:00</th>\n",
       "      <td>1.818860</td>\n",
       "      <td>-1.039147</td>\n",
       "      <td>0.451772</td>\n",
       "      <td>-0.085205</td>\n",
       "      <td>0.190010</td>\n",
       "      <td>-1.404712</td>\n",
       "      <td>-1.454139</td>\n",
       "      <td>-1.811431</td>\n",
       "      <td>0.192433</td>\n",
       "      <td>0.279546</td>\n",
       "      <td>...</td>\n",
       "      <td>0.473261</td>\n",
       "      <td>-0.247851</td>\n",
       "      <td>-0.549956</td>\n",
       "      <td>-0.015911</td>\n",
       "      <td>-0.278446</td>\n",
       "      <td>-0.515275</td>\n",
       "      <td>0.653527</td>\n",
       "      <td>-0.595535</td>\n",
       "      <td>-0.562832</td>\n",
       "      <td>0.154115</td>\n",
       "    </tr>\n",
       "    <tr>\n",
       "      <th>2025-03-31 00:00:00-04:00</th>\n",
       "      <td>2.082344</td>\n",
       "      <td>-1.049457</td>\n",
       "      <td>0.856191</td>\n",
       "      <td>0.714127</td>\n",
       "      <td>-0.566666</td>\n",
       "      <td>-1.132993</td>\n",
       "      <td>-2.231864</td>\n",
       "      <td>-1.256435</td>\n",
       "      <td>0.441766</td>\n",
       "      <td>-0.970059</td>\n",
       "      <td>...</td>\n",
       "      <td>0.559746</td>\n",
       "      <td>-0.488750</td>\n",
       "      <td>-0.190788</td>\n",
       "      <td>0.931900</td>\n",
       "      <td>-0.037364</td>\n",
       "      <td>0.812661</td>\n",
       "      <td>-0.925375</td>\n",
       "      <td>-0.866602</td>\n",
       "      <td>-0.728225</td>\n",
       "      <td>0.058416</td>\n",
       "    </tr>\n",
       "    <tr>\n",
       "      <th>2025-04-30 00:00:00-04:00</th>\n",
       "      <td>1.355634</td>\n",
       "      <td>-1.001816</td>\n",
       "      <td>0.737182</td>\n",
       "      <td>0.829824</td>\n",
       "      <td>-0.853968</td>\n",
       "      <td>-1.337923</td>\n",
       "      <td>-1.602448</td>\n",
       "      <td>-0.760466</td>\n",
       "      <td>0.773641</td>\n",
       "      <td>-1.273458</td>\n",
       "      <td>...</td>\n",
       "      <td>0.847904</td>\n",
       "      <td>-0.707966</td>\n",
       "      <td>-0.687426</td>\n",
       "      <td>1.026164</td>\n",
       "      <td>-0.495720</td>\n",
       "      <td>1.013688</td>\n",
       "      <td>-1.214507</td>\n",
       "      <td>0.135269</td>\n",
       "      <td>-0.355237</td>\n",
       "      <td>-0.052621</td>\n",
       "    </tr>\n",
       "    <tr>\n",
       "      <th>2025-05-31 00:00:00-04:00</th>\n",
       "      <td>0.698916</td>\n",
       "      <td>-0.269278</td>\n",
       "      <td>0.632303</td>\n",
       "      <td>0.196056</td>\n",
       "      <td>-0.438886</td>\n",
       "      <td>-0.909233</td>\n",
       "      <td>-1.261713</td>\n",
       "      <td>-1.825471</td>\n",
       "      <td>0.597415</td>\n",
       "      <td>-0.979138</td>\n",
       "      <td>...</td>\n",
       "      <td>0.169982</td>\n",
       "      <td>0.078386</td>\n",
       "      <td>-0.644922</td>\n",
       "      <td>0.733010</td>\n",
       "      <td>-0.199414</td>\n",
       "      <td>0.298267</td>\n",
       "      <td>-1.395180</td>\n",
       "      <td>-0.407093</td>\n",
       "      <td>-0.354197</td>\n",
       "      <td>0.077339</td>\n",
       "    </tr>\n",
       "  </tbody>\n",
       "</table>\n",
       "<p>61 rows × 493 columns</p>\n",
       "</div>"
      ],
      "text/plain": [
       "                                MMM       AOS       ABT      ABBV       ACN  \\\n",
       "Date                                                                          \n",
       "2020-05-31 00:00:00-04:00       NaN       NaN       NaN       NaN       NaN   \n",
       "2020-06-30 00:00:00-04:00       NaN       NaN       NaN       NaN       NaN   \n",
       "2020-07-31 00:00:00-04:00       NaN       NaN       NaN       NaN       NaN   \n",
       "2020-08-31 00:00:00-04:00       NaN       NaN       NaN       NaN       NaN   \n",
       "2020-09-30 00:00:00-04:00       NaN       NaN       NaN       NaN       NaN   \n",
       "...                             ...       ...       ...       ...       ...   \n",
       "2025-01-31 00:00:00-05:00  0.852317 -1.071031 -0.129505 -0.148777 -0.000245   \n",
       "2025-02-28 00:00:00-05:00  1.818860 -1.039147  0.451772 -0.085205  0.190010   \n",
       "2025-03-31 00:00:00-04:00  2.082344 -1.049457  0.856191  0.714127 -0.566666   \n",
       "2025-04-30 00:00:00-04:00  1.355634 -1.001816  0.737182  0.829824 -0.853968   \n",
       "2025-05-31 00:00:00-04:00  0.698916 -0.269278  0.632303  0.196056 -0.438886   \n",
       "\n",
       "                               ADBE       AMD       AES       AFL         A  \\\n",
       "Date                                                                          \n",
       "2020-05-31 00:00:00-04:00       NaN       NaN       NaN       NaN       NaN   \n",
       "2020-06-30 00:00:00-04:00       NaN       NaN       NaN       NaN       NaN   \n",
       "2020-07-31 00:00:00-04:00       NaN       NaN       NaN       NaN       NaN   \n",
       "2020-08-31 00:00:00-04:00       NaN       NaN       NaN       NaN       NaN   \n",
       "2020-09-30 00:00:00-04:00       NaN       NaN       NaN       NaN       NaN   \n",
       "...                             ...       ...       ...       ...       ...   \n",
       "2025-01-31 00:00:00-05:00 -1.337960 -1.425181 -1.526479  0.269977 -0.248034   \n",
       "2025-02-28 00:00:00-05:00 -1.404712 -1.454139 -1.811431  0.192433  0.279546   \n",
       "2025-03-31 00:00:00-04:00 -1.132993 -2.231864 -1.256435  0.441766 -0.970059   \n",
       "2025-04-30 00:00:00-04:00 -1.337923 -1.602448 -0.760466  0.773641 -1.273458   \n",
       "2025-05-31 00:00:00-04:00 -0.909233 -1.261713 -1.825471  0.597415 -0.979138   \n",
       "\n",
       "                           ...       WTW      WDAY      WYNN       XEL  \\\n",
       "Date                       ...                                           \n",
       "2020-05-31 00:00:00-04:00  ...       NaN       NaN       NaN       NaN   \n",
       "2020-06-30 00:00:00-04:00  ...       NaN       NaN       NaN       NaN   \n",
       "2020-07-31 00:00:00-04:00  ...       NaN       NaN       NaN       NaN   \n",
       "2020-08-31 00:00:00-04:00  ...       NaN       NaN       NaN       NaN   \n",
       "2020-09-30 00:00:00-04:00  ...       NaN       NaN       NaN       NaN   \n",
       "...                        ...       ...       ...       ...       ...   \n",
       "2025-01-31 00:00:00-05:00  ...  0.560964  0.072147 -0.702913  0.255147   \n",
       "2025-02-28 00:00:00-05:00  ...  0.473261 -0.247851 -0.549956 -0.015911   \n",
       "2025-03-31 00:00:00-04:00  ...  0.559746 -0.488750 -0.190788  0.931900   \n",
       "2025-04-30 00:00:00-04:00  ...  0.847904 -0.707966 -0.687426  1.026164   \n",
       "2025-05-31 00:00:00-04:00  ...  0.169982  0.078386 -0.644922  0.733010   \n",
       "\n",
       "                                XYL       YUM      ZBRA       ZBH       ZTS  \\\n",
       "Date                                                                          \n",
       "2020-05-31 00:00:00-04:00       NaN       NaN       NaN       NaN       NaN   \n",
       "2020-06-30 00:00:00-04:00       NaN       NaN       NaN       NaN       NaN   \n",
       "2020-07-31 00:00:00-04:00       NaN       NaN       NaN       NaN       NaN   \n",
       "2020-08-31 00:00:00-04:00       NaN       NaN       NaN       NaN       NaN   \n",
       "2020-09-30 00:00:00-04:00       NaN       NaN       NaN       NaN       NaN   \n",
       "...                             ...       ...       ...       ...       ...   \n",
       "2025-01-31 00:00:00-05:00 -0.672067 -0.176428  0.706488 -0.622592 -0.890737   \n",
       "2025-02-28 00:00:00-05:00 -0.278446 -0.515275  0.653527 -0.595535 -0.562832   \n",
       "2025-03-31 00:00:00-04:00 -0.037364  0.812661 -0.925375 -0.866602 -0.728225   \n",
       "2025-04-30 00:00:00-04:00 -0.495720  1.013688 -1.214507  0.135269 -0.355237   \n",
       "2025-05-31 00:00:00-04:00 -0.199414  0.298267 -1.395180 -0.407093 -0.354197   \n",
       "\n",
       "                                SPY  \n",
       "Date                                 \n",
       "2020-05-31 00:00:00-04:00       NaN  \n",
       "2020-06-30 00:00:00-04:00       NaN  \n",
       "2020-07-31 00:00:00-04:00       NaN  \n",
       "2020-08-31 00:00:00-04:00       NaN  \n",
       "2020-09-30 00:00:00-04:00       NaN  \n",
       "...                             ...  \n",
       "2025-01-31 00:00:00-05:00  0.260402  \n",
       "2025-02-28 00:00:00-05:00  0.154115  \n",
       "2025-03-31 00:00:00-04:00  0.058416  \n",
       "2025-04-30 00:00:00-04:00 -0.052621  \n",
       "2025-05-31 00:00:00-04:00  0.077339  \n",
       "\n",
       "[61 rows x 493 columns]"
      ]
     },
     "execution_count": 12,
     "metadata": {},
     "output_type": "execute_result"
    }
   ],
   "source": [
    "z_scores"
   ]
  },
  {
   "cell_type": "code",
   "execution_count": 14,
   "id": "56d55aa3",
   "metadata": {},
   "outputs": [],
   "source": [
    "monthly_returns = monthly_prices.pct_change()\n",
    "monthly_returns = monthly_returns.shift(-1)"
   ]
  },
  {
   "cell_type": "code",
   "execution_count": null,
   "id": "81edda5d",
   "metadata": {},
   "outputs": [
    {
     "name": "stdout",
     "output_type": "stream",
     "text": [
      "                       Date  Long Return  Short Return  Long-Short Return\n",
      "0 2021-05-31 00:00:00-04:00     0.000000      0.000000           0.000000\n",
      "1 2021-06-30 00:00:00-04:00    -0.002049      0.006586          -0.008635\n",
      "2 2021-07-31 00:00:00-04:00     0.021840     -0.001216           0.023056\n",
      "3 2021-08-31 00:00:00-04:00    -0.063758     -0.004129          -0.059629\n",
      "4 2021-09-30 00:00:00-04:00     0.082383      0.012745           0.069637\n",
      "                       Date  \\\n",
      "0 2021-05-31 00:00:00-04:00   \n",
      "1 2021-06-30 00:00:00-04:00   \n",
      "2 2021-07-31 00:00:00-04:00   \n",
      "3 2021-08-31 00:00:00-04:00   \n",
      "4 2021-09-30 00:00:00-04:00   \n",
      "\n",
      "                                      Top 15 Tickers  \\\n",
      "0                                                      \n",
      "1  FCX, IVZ, NUE, CZR, TPR, DVN, MOS, TPL, MRNA, ...   \n",
      "2  MRNA, GNRC, ENPH, TPL, DVN, FANG, TPR, FCX, F,...   \n",
      "3  MRNA, NUE, GNRC, TPL, ENPH, BX, STLD, TPR, FCX...   \n",
      "4  MRNA, NUE, FTNT, BX, ALB, IT, DVN, STLD, TRGP,...   \n",
      "\n",
      "                                       Top 15 Scores  \\\n",
      "0                                                      \n",
      "1  5.99, 4.12, 3.06, 3.02, 2.98, 2.97, 2.88, 2.82...   \n",
      "2  6.14, 4.97, 4.53, 3.86, 3.72, 3.05, 2.97, 2.88...   \n",
      "3  9.03, 3.40, 3.15, 3.10, 2.97, 2.84, 2.79, 2.77...   \n",
      "4  10.07, 3.73, 3.31, 3.26, 3.25, 3.00, 2.76, 2.3...   \n",
      "\n",
      "                                      Top 15 Weights  \\\n",
      "0                                                      \n",
      "1  0.069, 0.098, 0.068, 0.037, 0.058, 0.048, 0.07...   \n",
      "2  0.021, 0.083, 0.056, 0.050, 0.050, 0.044, 0.06...   \n",
      "3  0.019, 0.061, 0.073, 0.041, 0.048, 0.103, 0.08...   \n",
      "4  0.016, 0.047, 0.076, 0.080, 0.046, 0.069, 0.03...   \n",
      "\n",
      "                                   Bottom 15 Tickers  \\\n",
      "0                                                      \n",
      "1  PCG, VST, VRTX, DLTR, CLX, PAYC, CTRA, NRG, MK...   \n",
      "2  VRTX, VTRS, MKTX, ERIE, CLX, INCY, CPAY, CPB, ...   \n",
      "3  LVS, PCG, INCY, ERIE, VRTX, VTRS, CTRA, LW, TK...   \n",
      "4  GPN, ERIE, LVS, GDDY, FIS, CLX, UBER, CPB, CTR...   \n",
      "\n",
      "                                    Bottom 15 Scores  \\\n",
      "0                                                      \n",
      "1  -2.09, -1.87, -1.87, -1.84, -1.76, -1.76, -1.7...   \n",
      "2  -2.12, -1.72, -1.71, -1.71, -1.63, -1.59, -1.5...   \n",
      "3  -2.20, -2.12, -2.04, -1.92, -1.87, -1.82, -1.7...   \n",
      "4  -2.01, -1.99, -1.95, -1.94, -1.86, -1.81, -1.7...   \n",
      "\n",
      "                                   Bottom 15 Weights  \n",
      "0                                                     \n",
      "1  0.041, 0.062, 0.059, 0.050, 0.079, 0.045, 0.06...  \n",
      "2  0.060, 0.049, 0.082, 0.082, 0.090, 0.091, 0.05...  \n",
      "3  0.031, 0.035, 0.083, 0.074, 0.055, 0.044, 0.06...  \n",
      "4  0.046, 0.096, 0.038, 0.071, 0.053, 0.108, 0.03...  \n"
     ]
    }
   ],
   "source": [
    "#Backtest w/ Weight Optimization\n",
    "long_returns = []\n",
    "short_returns = []\n",
    "dates = []\n",
    "\n",
    "top_bottom_table = []\n",
    "\n",
    "\n",
    "# Optimization function (mean-variance optimization maximizing Sharpe ratio)\n",
    "def optimize_weights(returns_window):\n",
    "    mu = returns_window.mean()  # expected returns (mean of monthly returns)\n",
    "    Sigma = returns_window.cov()  # covariance matrix\n",
    "\n",
    "    # Constraints: weights sum to 1, no shorting for long portfolio, no leverage for simplicity\n",
    "    n = len(mu)\n",
    "    \n",
    "    iv = 1 / np.sqrt(np.diag(Sigma))\n",
    "    weights = iv / iv.sum()\n",
    "    return weights\n",
    "\n",
    "\n",
    "for date in z_scores.index[12:]:  # Skip first 12 months (momentum warm-up)\n",
    "    z_row = z_scores.loc[date].dropna()\n",
    "    next_ret = monthly_returns.loc[date].dropna()\n",
    "\n",
    "    # Select top and bottom 15\n",
    "    top_15 = z_row.nlargest(15).index.intersection(next_ret.index)\n",
    "    bottom_15 = z_row.nsmallest(15).index.intersection(next_ret.index)\n",
    "\n",
    "    if len(top_15) == 0 or len(bottom_15) == 0:\n",
    "        long_ret, short_ret = 0, 0\n",
    "        long_weights, short_weights = None, None\n",
    "    else:\n",
    "        # Returns for lookback window to optimize weights\n",
    "        lookback_start = monthly_returns.index.get_loc(date) - 12\n",
    "        lookback_dates = monthly_returns.index[lookback_start:lookback_start+12]\n",
    "\n",
    "        # Returns for top and bottom stocks\n",
    "        hist_rets_top = monthly_returns.loc[lookback_dates, top_15]\n",
    "        hist_rets_bottom = monthly_returns.loc[lookback_dates, bottom_15]\n",
    "\n",
    "        # Optimize weights\n",
    "        long_weights = optimize_weights(hist_rets_top)\n",
    "        short_weights = optimize_weights(hist_rets_bottom)\n",
    "\n",
    "        # Compute weighted returns for next month\n",
    "        long_ret = (next_ret[top_15] * long_weights).sum()\n",
    "        short_ret = (next_ret[bottom_15] * short_weights).sum()\n",
    "\n",
    "    long_returns.append(long_ret)\n",
    "    short_returns.append(short_ret)\n",
    "    dates.append(date)\n",
    "\n",
    "    # Store tickers and scores for table\n",
    "    top_scores = z_row.loc[top_15]\n",
    "    bottom_scores = z_row.loc[bottom_15]\n",
    "\n",
    "    top_bottom_table.append({\n",
    "        'Date': date,\n",
    "        'Top 15 Tickers': ', '.join(top_15),\n",
    "        'Top 15 Scores': ', '.join([f\"{s:.2f}\" for s in top_scores]),\n",
    "        'Top 15 Weights': ', '.join([f\"{w:.3f}\" for w in long_weights]) if long_weights is not None else '',\n",
    "        'Bottom 15 Tickers': ', '.join(bottom_15),\n",
    "        'Bottom 15 Scores': ', '.join([f\"{s:.2f}\" for s in bottom_scores]),\n",
    "        'Bottom 15 Weights': ', '.join([f\"{w:.3f}\" for w in short_weights]) if short_weights is not None else '',\n",
    "    })\n",
    "# Create DataFrame for top/bottom tickers info\n",
    "top_bottom_df = pd.DataFrame(top_bottom_table)\n",
    "\n",
    "# Create performance summary DataFrame\n",
    "perf_df = pd.DataFrame({\n",
    "    'Date': dates,\n",
    "    'Long Return': long_returns,\n",
    "    'Short Return': short_returns,\n",
    "    'Long-Short Return': pd.Series(long_returns) - pd.Series(short_returns)\n",
    "})\n",
    "\n",
    "# Show results\n",
    "print(perf_df.head())\n",
    "print(top_bottom_df.head())\n"
   ]
  },
  {
   "cell_type": "code",
   "execution_count": null,
   "id": "6ebb3b9c",
   "metadata": {},
   "outputs": [],
   "source": [
    "# Performance DataFrame ---\n",
    "results = pd.DataFrame({\n",
    "    'Long': long_returns,\n",
    "    'Short': short_returns,\n",
    "    'Long-Short': np.array(long_returns) - np.array(short_returns)\n",
    "}, index=pd.to_datetime(dates))"
   ]
  },
  {
   "cell_type": "code",
   "execution_count": null,
   "id": "307f61f2",
   "metadata": {},
   "outputs": [
    {
     "data": {
      "image/png": "[encoded data removed]",
      "text/plain": [
       "<Figure size 640x480 with 1 Axes>"
      ]
     },
     "metadata": {},
     "output_type": "display_data"
    }
   ],
   "source": [
    "# Plot cumulative performance ---\n",
    "(1 + results).cumprod().plot(title=\"Momentum Strategy: Long Top 15 / Short Bottom 15 (Z-Score Ranked)\")\n",
    "plt.ylabel(\"Cumulative Return\")\n",
    "plt.grid(True)\n",
    "plt.tight_layout()\n",
    "plt.show()"
   ]
  },
  {
   "cell_type": "code",
   "execution_count": 27,
   "id": "7ee257fe",
   "metadata": {},
   "outputs": [
    {
     "name": "stderr",
     "output_type": "stream",
     "text": [
      "/var/folders/py/pjzjs05s7494ftly1fgt3g0c0000gn/T/ipykernel_14131/3147566595.py:2: FutureWarning: 'M' is deprecated and will be removed in a future version, please use 'ME' instead.\n",
      "  spy_monthly = spy.resample('M').last().pct_change().shift(-1)\n"
     ]
    },
    {
     "data": {
      "image/png": "[encoded data removed]",
      "text/plain": [
       "<Figure size 1400x600 with 1 Axes>"
      ]
     },
     "metadata": {},
     "output_type": "display_data"
    }
   ],
   "source": [
    "# Compute SPY monthly returns aligned with backtest dates\n",
    "spy_monthly = spy.resample('M').last().pct_change().shift(-1)\n",
    "spy_aligned = spy_monthly.reindex(perf_df['Date'])\n",
    "\n",
    "# Add SPY returns to the perf_df\n",
    "perf_df['SPY Return'] = spy_aligned.values\n",
    "\n",
    "# Plot bar chart with positive/negative coloring\n",
    "colors = perf_df['Long-Short Return'].apply(lambda x: 'g' if x >= 0 else 'r')\n",
    "\n",
    "plt.figure(figsize=(14, 6))\n",
    "plt.bar(perf_df['Date'], perf_df['Long-Short Return'], color=colors, label='Long-Short Strategy')\n",
    "plt.plot(perf_df['Date'], perf_df['SPY Return'], label='SPY ETF', color='black', linestyle='--', marker='o')\n",
    "plt.title('Monthly Long-Short Momentum Strategy Return vs SPY')\n",
    "plt.ylabel('Monthly Return')\n",
    "plt.xlabel('Date')\n",
    "plt.legend()\n",
    "plt.grid(True)\n",
    "plt.xticks(rotation=45)\n",
    "plt.tight_layout()\n",
    "plt.show()\n"
   ]
  },
  {
   "cell_type": "code",
   "execution_count": 28,
   "id": "20f13a3b",
   "metadata": {},
   "outputs": [
    {
     "data": {
      "image/png": "[encoded data removed]",
      "text/plain": [
       "<Figure size 1400x600 with 1 Axes>"
      ]
     },
     "metadata": {},
     "output_type": "display_data"
    }
   ],
   "source": [
    "#Monthly Returns of Long Picks vsShort Picks vs SPY\n",
    "plt.figure(figsize=(14, 6))\n",
    "plt.plot(perf_df['Date'], perf_df['Long Return'], label='Long Picks', marker='o')\n",
    "plt.plot(perf_df['Date'], perf_df['Short Return'], label='Short Picks', marker='x')\n",
    "plt.plot(perf_df['Date'], perf_df['SPY Return'], label='SPY ETF', linestyle='--', color='black', marker='d')\n",
    "\n",
    "plt.title('Monthly Return: Long vs Short vs SPY ETF')\n",
    "plt.ylabel('Monthly Return')\n",
    "plt.xlabel('Date')\n",
    "plt.legend()\n",
    "plt.grid(True)\n",
    "plt.xticks(rotation=45)\n",
    "plt.tight_layout()\n",
    "plt.show()\n"
   ]
  }
 ],
 "metadata": {
  "kernelspec": {
   "display_name": "Python 3",
   "language": "python",
   "name": "python3"
  },
  "language_info": {
   "codemirror_mode": {
    "name": "ipython",
    "version": 3
   },
   "file_extension": ".py",
   "mimetype": "text/x-python",
   "name": "python",
   "nbconvert_exporter": "python",
   "pygments_lexer": "ipython3",
   "version": "3.13.2"
  }
 },
 "nbformat": 4,
 "nbformat_minor": 5
}
