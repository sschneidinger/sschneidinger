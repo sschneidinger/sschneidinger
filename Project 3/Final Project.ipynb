{
 "cells": [
  {
   "cell_type": "code",
   "execution_count": 15,
   "id": "1bc83f94",
   "metadata": {},
   "outputs": [],
   "source": [
    "import numpy as np\n",
    "from datetime import datetime, timedelta\n",
    "import pandas as pd\n",
    "import openpyxl as px\n",
    "import yfinance as yf\n",
    "import matplotlib.pyplot as plt\n",
    "%matplotlib inline"
   ]
  },
  {
   "cell_type": "code",
   "execution_count": 17,
   "id": "7d225e97",
   "metadata": {},
   "outputs": [],
   "source": [
    "def fetch_sp500_tickers():\n",
    "    # Wikipedia page with S&P 500 constituents table\n",
    "    url = 'https://en.wikipedia.org/wiki/List_of_S%26P_500_companies'\n",
    "\n",
    "    # Read the first table on the page (constituents)\n",
    "    tables = pd.read_html(url)\n",
    "    sp500_table = tables[0]\n",
    "    \n",
    "    # Extract the 'Symbol' column, which holds tickers\n",
    "    tickers = sp500_table['Symbol'].tolist()\n",
    "    tickers = [ticker.replace('.', '-') for ticker in tickers]\n",
    "    tickers.append('SPY')\n",
    "    \n",
    "    return tickers\n"
   ]
  },
  {
   "cell_type": "code",
   "execution_count": 18,
   "id": "c86fd9cc",
   "metadata": {},
   "outputs": [
    {
     "name": "stderr",
     "output_type": "stream",
     "text": [
      "[*********************100%***********************]  1 of 1 completed\n",
      "\n",
      "1 Failed download:\n",
      "['SPY']: YFRateLimitError('Too Many Requests. Rate limited. Try after a while.')\n",
      "[*********************100%***********************]  1 of 1 completed\n",
      "\n",
      "1 Failed download:\n",
      "['TICKERS']: YFRateLimitError('Too Many Requests. Rate limited. Try after a while.')\n"
     ]
    }
   ],
   "source": [
    "spy = yf.download('SPY', period = '5y') \n",
    "assets = yf.download('tickers', period = '5y') \n",
    "assets = assets.dropna()"
   ]
  },
  {
   "cell_type": "code",
   "execution_count": 19,
   "id": "b556720d",
   "metadata": {},
   "outputs": [],
   "source": [
    "#Quarterly returns\n",
    "def compute_momentum(prices):\n",
    "    ret1 = prices.pct_change(1).shift(1)\n",
    "    ret3 = prices.pct_change(3).shift(1)\n",
    "    ret6 = prices.pct_change(6).shift(1)\n",
    "    ret12 = prices.pct_change(12).shift(1)\n",
    "    return (ret1 + ret3 + ret6 + ret12) / 4\n",
    "\n",
    "momentum = compute_momentum(monthly_prices)\n"
   ]
  },
  {
   "cell_type": "code",
   "execution_count": 20,
   "id": "902c944a",
   "metadata": {},
   "outputs": [],
   "source": [
    "z_scores = momentum.apply(lambda row: (row - row.mean()) / row.std(), axis=1)\n"
   ]
  },
  {
   "cell_type": "code",
   "execution_count": 21,
   "id": "162855da",
   "metadata": {},
   "outputs": [],
   "source": [
    "long_returns = []\n",
    "short_returns = []\n",
    "dates = []\n",
    "\n",
    "for date in z_scores.index[12:]:  # Start after momentum history builds up\n",
    "    z_row = z_scores.loc[date]\n",
    "    next_month_ret = monthly_returns.shift(-1).loc[date]\n",
    "\n",
    "    top_15 = z_row.nlargest(15).dropna().index\n",
    "    bottom_15 = z_row.nsmallest(15).dropna().index\n",
    "\n",
    "    if not top_15.empty and not bottom_15.empty:\n",
    "        long_ret = next_month_ret[top_15].mean()\n",
    "        short_ret = next_month_ret[bottom_15].mean()\n",
    "    else:\n",
    "        long_ret, short_ret = 0, 0\n",
    "\n",
    "    long_returns.append(long_ret)\n",
    "    short_returns.append(short_ret)\n",
    "    dates.append(date)"
   ]
  },
  {
   "cell_type": "code",
   "execution_count": 22,
   "id": "6ebb3b9c",
   "metadata": {},
   "outputs": [],
   "source": [
    "# --- Step 6: Build performance DataFrame ---\n",
    "results = pd.DataFrame({\n",
    "    'Long': long_returns,\n",
    "    'Short': short_returns,\n",
    "    'Long-Short': np.array(long_returns) - np.array(short_returns)\n",
    "}, index=pd.to_datetime(dates))"
   ]
  },
  {
   "cell_type": "code",
   "execution_count": 23,
   "id": "307f61f2",
   "metadata": {},
   "outputs": [
    {
     "data": {
      "image/png": "[encoded data removed]",
      "text/plain": [
       "<Figure size 640x480 with 1 Axes>"
      ]
     },
     "metadata": {},
     "output_type": "display_data"
    }
   ],
   "source": [
    "# --- Step 7: Plot cumulative performance ---\n",
    "(1 + results).cumprod().plot(title=\"Momentum Strategy: Long Top 15 / Short Bottom 15 (Z-Score Ranked)\")\n",
    "plt.ylabel(\"Cumulative Return\")\n",
    "plt.grid(True)\n",
    "plt.tight_layout()\n",
    "plt.show()"
   ]
  }
 ],
 "metadata": {
  "kernelspec": {
   "display_name": "Python 3",
   "language": "python",
   "name": "python3"
  },
  "language_info": {
   "codemirror_mode": {
    "name": "ipython",
    "version": 3
   },
   "file_extension": ".py",
   "mimetype": "text/x-python",
   "name": "python",
   "nbconvert_exporter": "python",
   "pygments_lexer": "ipython3",
   "version": "3.13.2"
  }
 },
 "nbformat": 4,
 "nbformat_minor": 5
}
