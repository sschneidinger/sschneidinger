{
 "cells": [
  {
   "cell_type": "code",
   "execution_count": 1,
   "id": "1d05128a",
   "metadata": {},
   "outputs": [],
   "source": [
    "import pandas as pd\n",
    "import numpy as np\n",
    "import openpyxl as px\n",
    "import matplotlib.pyplot as plt\n",
    "from curl_cffi import requests\n",
    "import seaborn as sns\n",
    "import yfinance as yf\n",
    "from datetime import datetime, timedelta"
   ]
  },
  {
   "cell_type": "code",
   "execution_count": 2,
   "id": "be98837e",
   "metadata": {},
   "outputs": [
    {
     "ename": "YFRateLimitError",
     "evalue": "Too Many Requests. Rate limited. Try after a while.",
     "output_type": "error",
     "traceback": [
      "\u001b[31m---------------------------------------------------------------------------\u001b[39m",
      "\u001b[31mYFRateLimitError\u001b[39m                          Traceback (most recent call last)",
      "\u001b[36mCell\u001b[39m\u001b[36m \u001b[39m\u001b[32mIn[2]\u001b[39m\u001b[32m, line 19\u001b[39m\n\u001b[32m     17\u001b[39m \u001b[38;5;28;01mfor\u001b[39;00m ticker \u001b[38;5;129;01min\u001b[39;00m portfolio:\n\u001b[32m     18\u001b[39m     ticker_obj = yf.Ticker(ticker, session=session)\n\u001b[32m---> \u001b[39m\u001b[32m19\u001b[39m     hist = \u001b[43mticker_obj\u001b[49m\u001b[43m.\u001b[49m\u001b[43mhistory\u001b[49m\u001b[43m(\u001b[49m\u001b[43mstart\u001b[49m\u001b[43m=\u001b[49m\u001b[43mstart_date\u001b[49m\u001b[43m,\u001b[49m\u001b[43m \u001b[49m\u001b[43mend\u001b[49m\u001b[43m=\u001b[49m\u001b[43mend_date\u001b[49m\u001b[43m)\u001b[49m\n\u001b[32m     20\u001b[39m     portfolio_data[ticker] = hist[\u001b[33m'\u001b[39m\u001b[33mClose\u001b[39m\u001b[33m'\u001b[39m]  \u001b[38;5;66;03m# or 'Adj Close'\u001b[39;00m\n\u001b[32m     22\u001b[39m portfolio_df = pd.DataFrame(portfolio_data)\n",
      "\u001b[36mFile \u001b[39m\u001b[32m/Library/Frameworks/Python.framework/Versions/3.13/lib/python3.13/site-packages/yfinance/utils.py:104\u001b[39m, in \u001b[36mlog_indent_decorator.<locals>.wrapper\u001b[39m\u001b[34m(*args, **kwargs)\u001b[39m\n\u001b[32m    101\u001b[39m logger.debug(\u001b[33mf\u001b[39m\u001b[33m'\u001b[39m\u001b[33mEntering \u001b[39m\u001b[38;5;132;01m{\u001b[39;00mfunc.\u001b[34m__name__\u001b[39m\u001b[38;5;132;01m}\u001b[39;00m\u001b[33m()\u001b[39m\u001b[33m'\u001b[39m)\n\u001b[32m    103\u001b[39m \u001b[38;5;28;01mwith\u001b[39;00m IndentationContext():\n\u001b[32m--> \u001b[39m\u001b[32m104\u001b[39m     result = \u001b[43mfunc\u001b[49m\u001b[43m(\u001b[49m\u001b[43m*\u001b[49m\u001b[43margs\u001b[49m\u001b[43m,\u001b[49m\u001b[43m \u001b[49m\u001b[43m*\u001b[49m\u001b[43m*\u001b[49m\u001b[43mkwargs\u001b[49m\u001b[43m)\u001b[49m\n\u001b[32m    106\u001b[39m logger.debug(\u001b[33mf\u001b[39m\u001b[33m'\u001b[39m\u001b[33mExiting \u001b[39m\u001b[38;5;132;01m{\u001b[39;00mfunc.\u001b[34m__name__\u001b[39m\u001b[38;5;132;01m}\u001b[39;00m\u001b[33m()\u001b[39m\u001b[33m'\u001b[39m)\n\u001b[32m    107\u001b[39m \u001b[38;5;28;01mreturn\u001b[39;00m result\n",
      "\u001b[36mFile \u001b[39m\u001b[32m/Library/Frameworks/Python.framework/Versions/3.13/lib/python3.13/site-packages/yfinance/base.py:82\u001b[39m, in \u001b[36mTickerBase.history\u001b[39m\u001b[34m(self, *args, **kwargs)\u001b[39m\n\u001b[32m     80\u001b[39m \u001b[38;5;129m@utils\u001b[39m.log_indent_decorator\n\u001b[32m     81\u001b[39m \u001b[38;5;28;01mdef\u001b[39;00m\u001b[38;5;250m \u001b[39m\u001b[34mhistory\u001b[39m(\u001b[38;5;28mself\u001b[39m, *args, **kwargs) -> pd.DataFrame:\n\u001b[32m---> \u001b[39m\u001b[32m82\u001b[39m     \u001b[38;5;28;01mreturn\u001b[39;00m \u001b[38;5;28;43mself\u001b[39;49m\u001b[43m.\u001b[49m\u001b[43m_lazy_load_price_history\u001b[49m\u001b[43m(\u001b[49m\u001b[43m)\u001b[49m\u001b[43m.\u001b[49m\u001b[43mhistory\u001b[49m\u001b[43m(\u001b[49m\u001b[43m*\u001b[49m\u001b[43margs\u001b[49m\u001b[43m,\u001b[49m\u001b[43m \u001b[49m\u001b[43m*\u001b[49m\u001b[43m*\u001b[49m\u001b[43mkwargs\u001b[49m\u001b[43m)\u001b[49m\n",
      "\u001b[36mFile \u001b[39m\u001b[32m/Library/Frameworks/Python.framework/Versions/3.13/lib/python3.13/site-packages/yfinance/utils.py:104\u001b[39m, in \u001b[36mlog_indent_decorator.<locals>.wrapper\u001b[39m\u001b[34m(*args, **kwargs)\u001b[39m\n\u001b[32m    101\u001b[39m logger.debug(\u001b[33mf\u001b[39m\u001b[33m'\u001b[39m\u001b[33mEntering \u001b[39m\u001b[38;5;132;01m{\u001b[39;00mfunc.\u001b[34m__name__\u001b[39m\u001b[38;5;132;01m}\u001b[39;00m\u001b[33m()\u001b[39m\u001b[33m'\u001b[39m)\n\u001b[32m    103\u001b[39m \u001b[38;5;28;01mwith\u001b[39;00m IndentationContext():\n\u001b[32m--> \u001b[39m\u001b[32m104\u001b[39m     result = \u001b[43mfunc\u001b[49m\u001b[43m(\u001b[49m\u001b[43m*\u001b[49m\u001b[43margs\u001b[49m\u001b[43m,\u001b[49m\u001b[43m \u001b[49m\u001b[43m*\u001b[49m\u001b[43m*\u001b[49m\u001b[43mkwargs\u001b[49m\u001b[43m)\u001b[49m\n\u001b[32m    106\u001b[39m logger.debug(\u001b[33mf\u001b[39m\u001b[33m'\u001b[39m\u001b[33mExiting \u001b[39m\u001b[38;5;132;01m{\u001b[39;00mfunc.\u001b[34m__name__\u001b[39m\u001b[38;5;132;01m}\u001b[39;00m\u001b[33m()\u001b[39m\u001b[33m'\u001b[39m)\n\u001b[32m    107\u001b[39m \u001b[38;5;28;01mreturn\u001b[39;00m result\n",
      "\u001b[36mFile \u001b[39m\u001b[32m/Library/Frameworks/Python.framework/Versions/3.13/lib/python3.13/site-packages/yfinance/scrapers/history.py:175\u001b[39m, in \u001b[36mPriceHistory.history\u001b[39m\u001b[34m(self, period, interval, start, end, prepost, actions, auto_adjust, back_adjust, repair, keepna, proxy, rounding, timeout, raise_errors)\u001b[39m\n\u001b[32m    173\u001b[39m         get_fn = \u001b[38;5;28mself\u001b[39m._data.cache_get\n\u001b[32m    174\u001b[39m \u001b[38;5;28;01mtry\u001b[39;00m:\n\u001b[32m--> \u001b[39m\u001b[32m175\u001b[39m     data = \u001b[43mget_fn\u001b[49m\u001b[43m(\u001b[49m\n\u001b[32m    176\u001b[39m \u001b[43m        \u001b[49m\u001b[43murl\u001b[49m\u001b[43m=\u001b[49m\u001b[43murl\u001b[49m\u001b[43m,\u001b[49m\n\u001b[32m    177\u001b[39m \u001b[43m        \u001b[49m\u001b[43mparams\u001b[49m\u001b[43m=\u001b[49m\u001b[43mparams\u001b[49m\u001b[43m,\u001b[49m\n\u001b[32m    178\u001b[39m \u001b[43m        \u001b[49m\u001b[43mproxy\u001b[49m\u001b[43m=\u001b[49m\u001b[43mproxy\u001b[49m\u001b[43m,\u001b[49m\n\u001b[32m    179\u001b[39m \u001b[43m        \u001b[49m\u001b[43mtimeout\u001b[49m\u001b[43m=\u001b[49m\u001b[43mtimeout\u001b[49m\n\u001b[32m    180\u001b[39m \u001b[43m    \u001b[49m\u001b[43m)\u001b[49m\n\u001b[32m    181\u001b[39m     \u001b[38;5;28;01mif\u001b[39;00m \u001b[33m\"\u001b[39m\u001b[33mWill be right back\u001b[39m\u001b[33m\"\u001b[39m \u001b[38;5;129;01min\u001b[39;00m data.text \u001b[38;5;129;01mor\u001b[39;00m data \u001b[38;5;129;01mis\u001b[39;00m \u001b[38;5;28;01mNone\u001b[39;00m:\n\u001b[32m    182\u001b[39m         \u001b[38;5;28;01mraise\u001b[39;00m \u001b[38;5;167;01mRuntimeError\u001b[39;00m(\u001b[33m\"\u001b[39m\u001b[33m*** YAHOO! FINANCE IS CURRENTLY DOWN! ***\u001b[39m\u001b[38;5;130;01m\\n\u001b[39;00m\u001b[33m\"\u001b[39m\n\u001b[32m    183\u001b[39m                            \u001b[33m\"\u001b[39m\u001b[33mOur engineers are working quickly to resolve \u001b[39m\u001b[33m\"\u001b[39m\n\u001b[32m    184\u001b[39m                            \u001b[33m\"\u001b[39m\u001b[33mthe issue. Thank you for your patience.\u001b[39m\u001b[33m\"\u001b[39m)\n",
      "\u001b[36mFile \u001b[39m\u001b[32m/Library/Frameworks/Python.framework/Versions/3.13/lib/python3.13/site-packages/yfinance/utils.py:104\u001b[39m, in \u001b[36mlog_indent_decorator.<locals>.wrapper\u001b[39m\u001b[34m(*args, **kwargs)\u001b[39m\n\u001b[32m    101\u001b[39m logger.debug(\u001b[33mf\u001b[39m\u001b[33m'\u001b[39m\u001b[33mEntering \u001b[39m\u001b[38;5;132;01m{\u001b[39;00mfunc.\u001b[34m__name__\u001b[39m\u001b[38;5;132;01m}\u001b[39;00m\u001b[33m()\u001b[39m\u001b[33m'\u001b[39m)\n\u001b[32m    103\u001b[39m \u001b[38;5;28;01mwith\u001b[39;00m IndentationContext():\n\u001b[32m--> \u001b[39m\u001b[32m104\u001b[39m     result = \u001b[43mfunc\u001b[49m\u001b[43m(\u001b[49m\u001b[43m*\u001b[49m\u001b[43margs\u001b[49m\u001b[43m,\u001b[49m\u001b[43m \u001b[49m\u001b[43m*\u001b[49m\u001b[43m*\u001b[49m\u001b[43mkwargs\u001b[49m\u001b[43m)\u001b[49m\n\u001b[32m    106\u001b[39m logger.debug(\u001b[33mf\u001b[39m\u001b[33m'\u001b[39m\u001b[33mExiting \u001b[39m\u001b[38;5;132;01m{\u001b[39;00mfunc.\u001b[34m__name__\u001b[39m\u001b[38;5;132;01m}\u001b[39;00m\u001b[33m()\u001b[39m\u001b[33m'\u001b[39m)\n\u001b[32m    107\u001b[39m \u001b[38;5;28;01mreturn\u001b[39;00m result\n",
      "\u001b[36mFile \u001b[39m\u001b[32m/Library/Frameworks/Python.framework/Versions/3.13/lib/python3.13/site-packages/yfinance/data.py:349\u001b[39m, in \u001b[36mYfData.get\u001b[39m\u001b[34m(self, url, user_agent_headers, params, proxy, timeout)\u001b[39m\n\u001b[32m    347\u001b[39m \u001b[38;5;129m@utils\u001b[39m.log_indent_decorator\n\u001b[32m    348\u001b[39m \u001b[38;5;28;01mdef\u001b[39;00m\u001b[38;5;250m \u001b[39m\u001b[34mget\u001b[39m(\u001b[38;5;28mself\u001b[39m, url, user_agent_headers=\u001b[38;5;28;01mNone\u001b[39;00m, params=\u001b[38;5;28;01mNone\u001b[39;00m, proxy=\u001b[38;5;28;01mNone\u001b[39;00m, timeout=\u001b[32m30\u001b[39m):\n\u001b[32m--> \u001b[39m\u001b[32m349\u001b[39m     \u001b[38;5;28;01mreturn\u001b[39;00m \u001b[38;5;28;43mself\u001b[39;49m\u001b[43m.\u001b[49m\u001b[43m_make_request\u001b[49m\u001b[43m(\u001b[49m\u001b[43murl\u001b[49m\u001b[43m,\u001b[49m\u001b[43m \u001b[49m\u001b[43mrequest_method\u001b[49m\u001b[43m \u001b[49m\u001b[43m=\u001b[49m\u001b[43m \u001b[49m\u001b[38;5;28;43mself\u001b[39;49m\u001b[43m.\u001b[49m\u001b[43m_session\u001b[49m\u001b[43m.\u001b[49m\u001b[43mget\u001b[49m\u001b[43m,\u001b[49m\u001b[43m \u001b[49m\u001b[43muser_agent_headers\u001b[49m\u001b[43m=\u001b[49m\u001b[43muser_agent_headers\u001b[49m\u001b[43m,\u001b[49m\u001b[43m \u001b[49m\u001b[43mparams\u001b[49m\u001b[43m=\u001b[49m\u001b[43mparams\u001b[49m\u001b[43m,\u001b[49m\u001b[43m \u001b[49m\u001b[43mproxy\u001b[49m\u001b[43m=\u001b[49m\u001b[43mproxy\u001b[49m\u001b[43m,\u001b[49m\u001b[43m \u001b[49m\u001b[43mtimeout\u001b[49m\u001b[43m=\u001b[49m\u001b[43mtimeout\u001b[49m\u001b[43m)\u001b[49m\n",
      "\u001b[36mFile \u001b[39m\u001b[32m/Library/Frameworks/Python.framework/Versions/3.13/lib/python3.13/site-packages/yfinance/utils.py:104\u001b[39m, in \u001b[36mlog_indent_decorator.<locals>.wrapper\u001b[39m\u001b[34m(*args, **kwargs)\u001b[39m\n\u001b[32m    101\u001b[39m logger.debug(\u001b[33mf\u001b[39m\u001b[33m'\u001b[39m\u001b[33mEntering \u001b[39m\u001b[38;5;132;01m{\u001b[39;00mfunc.\u001b[34m__name__\u001b[39m\u001b[38;5;132;01m}\u001b[39;00m\u001b[33m()\u001b[39m\u001b[33m'\u001b[39m)\n\u001b[32m    103\u001b[39m \u001b[38;5;28;01mwith\u001b[39;00m IndentationContext():\n\u001b[32m--> \u001b[39m\u001b[32m104\u001b[39m     result = \u001b[43mfunc\u001b[49m\u001b[43m(\u001b[49m\u001b[43m*\u001b[49m\u001b[43margs\u001b[49m\u001b[43m,\u001b[49m\u001b[43m \u001b[49m\u001b[43m*\u001b[49m\u001b[43m*\u001b[49m\u001b[43mkwargs\u001b[49m\u001b[43m)\u001b[49m\n\u001b[32m    106\u001b[39m logger.debug(\u001b[33mf\u001b[39m\u001b[33m'\u001b[39m\u001b[33mExiting \u001b[39m\u001b[38;5;132;01m{\u001b[39;00mfunc.\u001b[34m__name__\u001b[39m\u001b[38;5;132;01m}\u001b[39;00m\u001b[33m()\u001b[39m\u001b[33m'\u001b[39m)\n\u001b[32m    107\u001b[39m \u001b[38;5;28;01mreturn\u001b[39;00m result\n",
      "\u001b[36mFile \u001b[39m\u001b[32m/Library/Frameworks/Python.framework/Versions/3.13/lib/python3.13/site-packages/yfinance/data.py:411\u001b[39m, in \u001b[36mYfData._make_request\u001b[39m\u001b[34m(self, url, request_method, user_agent_headers, body, params, proxy, timeout)\u001b[39m\n\u001b[32m    409\u001b[39m     \u001b[38;5;66;03m# Raise exception if rate limited\u001b[39;00m\n\u001b[32m    410\u001b[39m     \u001b[38;5;28;01mif\u001b[39;00m response.status_code == \u001b[32m429\u001b[39m:\n\u001b[32m--> \u001b[39m\u001b[32m411\u001b[39m         \u001b[38;5;28;01mraise\u001b[39;00m YFRateLimitError()\n\u001b[32m    413\u001b[39m \u001b[38;5;28;01mreturn\u001b[39;00m response\n",
      "\u001b[31mYFRateLimitError\u001b[39m: Too Many Requests. Rate limited. Try after a while."
     ]
    }
   ],
   "source": [
    "import yfinance as yf\n",
    "import requests\n",
    "import pandas as pd\n",
    "from datetime import datetime, timedelta\n",
    "\n",
    "# Session for requests reuse\n",
    "session = requests.Session()\n",
    "\n",
    "portfolio = ['AAPL', 'JPM', 'JNJ', 'PG', 'XOM', 'MSFT', 'AMZN']\n",
    "bench = ['SPY', 'DIA', 'IWM']\n",
    "\n",
    "end_date = datetime.now()\n",
    "start_date = end_date - timedelta(days=365*10)\n",
    "\n",
    "# Download portfolio data\n",
    "portfolio_data = {}\n",
    "for ticker in portfolio:\n",
    "    ticker_obj = yf.Ticker(ticker, session=session)\n",
    "    hist = ticker_obj.history(start=start_date, end=end_date)\n",
    "    portfolio_data[ticker] = hist['Close']  # or 'Adj Close'\n",
    "\n",
    "portfolio_df = pd.DataFrame(portfolio_data)\n",
    "\n",
    "# Download benchmark data\n",
    "bench_data = {}\n",
    "for ticker in bench:\n",
    "    ticker_obj = yf.Ticker(ticker, session=session)\n",
    "    hist = ticker_obj.history(start=start_date, end=end_date)\n",
    "    bench_data[ticker] = hist['Close']\n",
    "\n",
    "bench_df = pd.DataFrame(bench_data)\n",
    "\n",
    "print(\"Portfolio data shape:\", portfolio_df.shape)\n",
    "print(\"Benchmarks data shape:\", bench_df.shape)\n"
   ]
  },
  {
   "cell_type": "code",
   "execution_count": 3,
   "id": "0efbb74e",
   "metadata": {},
   "outputs": [],
   "source": [
    "#Portfolio Set-up\n",
    "portfolio = ['AAPL', 'JPM', 'JNJ', 'PG', 'XOM', 'MSFT', 'AMZN']\n",
    "bench = ['SPY', 'DIA', 'IWM']\n",
    "tickers = portfolio + bench\n"
   ]
  },
  {
   "cell_type": "code",
   "execution_count": 32,
   "id": "384587a4",
   "metadata": {},
   "outputs": [],
   "source": [
    "# Create session with impersonation (for curl_cffi)\n",
    "session = requests.Session(impersonate=\"chrome\")"
   ]
  },
  {
   "cell_type": "code",
   "execution_count": 4,
   "id": "580ba7a3",
   "metadata": {},
   "outputs": [
    {
     "name": "stdout",
     "output_type": "stream",
     "text": [
      "YF.download() has changed argument auto_adjust default to True\n"
     ]
    },
    {
     "name": "stderr",
     "output_type": "stream",
     "text": [
      "[*********************100%***********************]  10 of 10 completed\n",
      "\n",
      "10 Failed downloads:\n",
      "['JNJ', 'MSFT', 'IWM', 'SPY', 'DIA', 'AMZN', 'JPM', 'PG', 'AAPL', 'XOM']: YFRateLimitError('Too Many Requests. Rate limited. Try after a while.')\n"
     ]
    }
   ],
   "source": [
    "# Download historical data (10 years of data)\n",
    "end_date = datetime.now()\n",
    "start_date = end_date - timedelta(days=365*10)\n",
    "\n",
    "# Download data\n",
    "data = yf.download(tickers, period='10y', group_by='ticker') \n"
   ]
  },
  {
   "cell_type": "code",
   "execution_count": 5,
   "id": "abf55b1e",
   "metadata": {},
   "outputs": [],
   "source": [
    "returns = data.pct_change"
   ]
  },
  {
   "cell_type": "code",
   "execution_count": 6,
   "id": "2e04c252",
   "metadata": {},
   "outputs": [
    {
     "data": {
      "text/plain": [
       "MultiIndex([( 'JNJ',      'Open'),\n",
       "            ( 'JNJ',      'High'),\n",
       "            ( 'JNJ',       'Low'),\n",
       "            ( 'JNJ',     'Close'),\n",
       "            ( 'JNJ', 'Adj Close'),\n",
       "            ( 'JNJ',    'Volume'),\n",
       "            ('MSFT',      'Open'),\n",
       "            ('MSFT',      'High'),\n",
       "            ('MSFT',       'Low'),\n",
       "            ('MSFT',     'Close'),\n",
       "            ('MSFT', 'Adj Close'),\n",
       "            ('MSFT',    'Volume'),\n",
       "            ( 'IWM',      'Open'),\n",
       "            ( 'IWM',      'High'),\n",
       "            ( 'IWM',       'Low'),\n",
       "            ( 'IWM',     'Close'),\n",
       "            ( 'IWM', 'Adj Close'),\n",
       "            ( 'IWM',    'Volume'),\n",
       "            ( 'SPY',      'Open'),\n",
       "            ( 'SPY',      'High'),\n",
       "            ( 'SPY',       'Low'),\n",
       "            ( 'SPY',     'Close'),\n",
       "            ( 'SPY', 'Adj Close'),\n",
       "            ( 'SPY',    'Volume'),\n",
       "            ( 'DIA',      'Open'),\n",
       "            ( 'DIA',      'High'),\n",
       "            ( 'DIA',       'Low'),\n",
       "            ( 'DIA',     'Close'),\n",
       "            ( 'DIA', 'Adj Close'),\n",
       "            ( 'DIA',    'Volume'),\n",
       "            ('AMZN',      'Open'),\n",
       "            ('AMZN',      'High'),\n",
       "            ('AMZN',       'Low'),\n",
       "            ('AMZN',     'Close'),\n",
       "            ('AMZN', 'Adj Close'),\n",
       "            ('AMZN',    'Volume'),\n",
       "            ( 'JPM',      'Open'),\n",
       "            ( 'JPM',      'High'),\n",
       "            ( 'JPM',       'Low'),\n",
       "            ( 'JPM',     'Close'),\n",
       "            ( 'JPM', 'Adj Close'),\n",
       "            ( 'JPM',    'Volume'),\n",
       "            (  'PG',      'Open'),\n",
       "            (  'PG',      'High'),\n",
       "            (  'PG',       'Low'),\n",
       "            (  'PG',     'Close'),\n",
       "            (  'PG', 'Adj Close'),\n",
       "            (  'PG',    'Volume'),\n",
       "            ('AAPL',      'Open'),\n",
       "            ('AAPL',      'High'),\n",
       "            ('AAPL',       'Low'),\n",
       "            ('AAPL',     'Close'),\n",
       "            ('AAPL', 'Adj Close'),\n",
       "            ('AAPL',    'Volume'),\n",
       "            ( 'XOM',      'Open'),\n",
       "            ( 'XOM',      'High'),\n",
       "            ( 'XOM',       'Low'),\n",
       "            ( 'XOM',     'Close'),\n",
       "            ( 'XOM', 'Adj Close'),\n",
       "            ( 'XOM',    'Volume')],\n",
       "           names=['Ticker', 'Price'])"
      ]
     },
     "execution_count": 6,
     "metadata": {},
     "output_type": "execute_result"
    }
   ],
   "source": [
    "data.columns"
   ]
  },
  {
   "cell_type": "code",
   "execution_count": 7,
   "id": "3713eb35",
   "metadata": {},
   "outputs": [],
   "source": [
    "tickers = list(map(str.upper, tickers))\n",
    "bench = list(map(str.upper, bench))\n",
    "portfolio = list(map(str.upper, portfolio))"
   ]
  },
  {
   "cell_type": "code",
   "execution_count": 8,
   "id": "bc891775",
   "metadata": {},
   "outputs": [],
   "source": [
    "table = pd.DataFrame(index=tickers)\n"
   ]
  },
  {
   "cell_type": "code",
   "execution_count": 9,
   "id": "24c728a7",
   "metadata": {},
   "outputs": [],
   "source": [
    "# 1. Portfolio Weight (Equally Weighted)\n",
    "table['Portfolio Weight'] = 1 / len(tickers)\n"
   ]
  },
  {
   "cell_type": "code",
   "execution_count": 10,
   "id": "d2aa2cca",
   "metadata": {},
   "outputs": [
    {
     "ename": "TypeError",
     "evalue": "'method' object is not subscriptable",
     "output_type": "error",
     "traceback": [
      "\u001b[31m---------------------------------------------------------------------------\u001b[39m",
      "\u001b[31mTypeError\u001b[39m                                 Traceback (most recent call last)",
      "\u001b[36mCell\u001b[39m\u001b[36m \u001b[39m\u001b[32mIn[10]\u001b[39m\u001b[32m, line 4\u001b[39m\n\u001b[32m      2\u001b[39m vol_window = \u001b[32m63\u001b[39m\n\u001b[32m      3\u001b[39m annualization_factor = \u001b[32m252\u001b[39m ** \u001b[32m0.5\u001b[39m\n\u001b[32m----> \u001b[39m\u001b[32m4\u001b[39m table[\u001b[33m'\u001b[39m\u001b[33mAnnualized Volatility\u001b[39m\u001b[33m'\u001b[39m] = \u001b[43mreturns\u001b[49m\u001b[43m[\u001b[49m\u001b[43mtickers\u001b[49m\u001b[43m]\u001b[49m.iloc[-vol_window:].std() * annualization_factor\n",
      "\u001b[31mTypeError\u001b[39m: 'method' object is not subscriptable"
     ]
    }
   ],
   "source": [
    "# 2. Annualized Volatility (trailing 3 months = ~63 trading days)\n",
    "vol_window = 63\n",
    "annualization_factor = 252 ** 0.5\n",
    "table['Annualized Volatility'] = returns[tickers].iloc[-vol_window:].std() * annualization_factor\n"
   ]
  },
  {
   "cell_type": "code",
   "execution_count": null,
   "id": "6f9d03de",
   "metadata": {},
   "outputs": [],
   "source": [
    "# 3-5. Beta against SPY, IWM, DIA (trailing 12 months = ~252 trading days)\n",
    "beta_window = 252\n",
    "cov_matrix = returns.iloc[-beta_window:].cov()\n",
    "var_bench = returns.iloc[-beta_window:][bench].var()\n",
    "\n",
    "for etf in bench:\n",
    "    table_1[f'Beta_{etf}'] = cov_matrix.loc[tickers, etf] / var_bench[etf]"
   ]
  },
  {
   "cell_type": "code",
   "execution_count": null,
   "id": "2403a650",
   "metadata": {},
   "outputs": [],
   "source": [
    "# 6-7. Average and Maximum Weekly Drawdowns (based on trailing 52-week data = 252 trading days)\n",
    "drawdown_window = 252\n",
    "high_5d = hist_data[tickers].iloc[-drawdown_window:].rolling(window=5).max()\n",
    "low_5d = hist_data[tickers].iloc[-drawdown_window:].rolling(window=5).min()\n",
    "weekly_drawdown = (low_5d - high_5d) / high_5d\n",
    "\n",
    "table_1['Average Weekly Drawdown'] = weekly_drawdown.mean()\n",
    "table_1['Maximum Weekly Drawdown'] = weekly_drawdown.min()\n"
   ]
  },
  {
   "cell_type": "code",
   "execution_count": null,
   "id": "1eef8a4f",
   "metadata": {},
   "outputs": [],
   "source": [
    "# 8-9. 10-Year Total Return and Annualized Return\n",
    "# Assumes 10 years of daily data (~2520 days)\n",
    "total_return = hist_data[tickers].iloc[-1] / hist_data[tickers].iloc[0] - 1\n",
    "annualized_return = (1 + total_return) ** (1/10) - 1\n",
    "\n",
    "table_1['10Y Total Return'] = total_return\n",
    "table_1['10Y Annualized Return'] = annualized_return\n"
   ]
  },
  {
   "cell_type": "code",
   "execution_count": null,
   "id": "41e5f56e",
   "metadata": {},
   "outputs": [],
   "source": [
    "# Reset index to include Ticker as a column\n",
    "table_1.reset_index(inplace=True)\n",
    "\n",
    "# Reorder columns for final output\n",
    "ordered_cols = [\n",
    "    'Ticker',\n",
    "    'Portfolio Weight',\n",
    "    'Annualized Volatility',\n",
    "    'Beta_SPY',\n",
    "    'Beta_IWM',\n",
    "    'Beta_DIA',\n",
    "    'Average Weekly Drawdown',\n",
    "    'Maximum Weekly Drawdown',\n",
    "    '10Y Total Return',\n",
    "    '10Y Annualized Return'\n",
    "]\n",
    "table_1 = table_1[ordered_cols]"
   ]
  }
 ],
 "metadata": {
  "kernelspec": {
   "display_name": "Python 3",
   "language": "python",
   "name": "python3"
  },
  "language_info": {
   "codemirror_mode": {
    "name": "ipython",
    "version": 3
   },
   "file_extension": ".py",
   "mimetype": "text/x-python",
   "name": "python",
   "nbconvert_exporter": "python",
   "pygments_lexer": "ipython3",
   "version": "3.13.2"
  }
 },
 "nbformat": 4,
 "nbformat_minor": 5
}
