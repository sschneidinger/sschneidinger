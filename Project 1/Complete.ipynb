{
 "cells": [
  {
   "cell_type": "code",
   "execution_count": 57,
   "metadata": {},
   "outputs": [],
   "source": [
    "#Import lib\n",
    "from turtle import pd\n",
    "import yfinance as yf\n",
    "import numpy as np\n",
    "import pandas as pd\n",
    "import matplotlib.pyplot as plt\n",
    "from datetime import datetime, timedelta\n"
   ]
  },
  {
   "cell_type": "code",
   "execution_count": 58,
   "metadata": {},
   "outputs": [
    {
     "name": "stderr",
     "output_type": "stream",
     "text": [
      "[*********************100%***********************]  7 of 7 completed\n",
      "[*********************100%***********************]  4 of 4 completed\n"
     ]
    }
   ],
   "source": [
    "#Load Data\n",
    "portfolio = ['GEV', 'TGTX', 'PRVA', 'CEVA', 'GILD', 'KD', 'NRG']\n",
    "bench_data = ['^GSPC', '^DJI', 'IWM','SPY']\n",
    "\n",
    "end_date = datetime.now()\n",
    "start_date = end_date - \\\n",
    "            timedelta(days=3650) # 10 years of data\n",
    "\n",
    "portfolio_data = yf.download(portfolio, start = start_date, end = end_date) ['Close']\n",
    "bench_data = yf.download (bench_data, start = start_date, end = end_date) ['Close']    \n",
    "\n",
    "data = pd.concat([portfolio_data, bench_data], axis=1).dropna()\n",
    "returns = data.pct_change().dropna()\n"
   ]
  },
  {
   "cell_type": "code",
   "execution_count": 59,
   "metadata": {},
   "outputs": [],
   "source": [
    "# Define windows\n",
    "vol_window = 63       # ~3 months trading days for volatility\n",
    "beta_window = 252     # ~12 months trading days for beta\n",
    "drawdown_window = 252 # 1 year for drawdown\n",
    "total_return_window = len(data)  # full length (10 years approx)\n"
   ]
  },
  {
   "cell_type": "code",
   "execution_count": 60,
   "metadata": {},
   "outputs": [],
   "source": [
    "# Initialize output DataFrame\n",
    "table = pd.DataFrame(index=portfolio)"
   ]
  },
  {
   "cell_type": "code",
   "execution_count": 61,
   "metadata": {},
   "outputs": [],
   "source": [
    "# Ticker\n",
    "table['Ticker'] = portfolio\n"
   ]
  },
  {
   "cell_type": "code",
   "execution_count": 62,
   "metadata": {},
   "outputs": [],
   "source": [
    "# Portfolio Weight (equal weighted)\n",
    "table['Portfolio Weight'] = 1 / len(portfolio)"
   ]
  },
  {
   "cell_type": "code",
   "execution_count": 63,
   "metadata": {},
   "outputs": [],
   "source": [
    "# Annualized Volatility (trailing 3 months)\n",
    "table['Annualized Volatility'] = returns[portfolio].iloc[-vol_window:].std() * np.sqrt(252)\n"
   ]
  },
  {
   "cell_type": "code",
   "execution_count": 64,
   "metadata": {},
   "outputs": [],
   "source": [
    "# Beta against SPY, IWM, DIA (trailing 12 months)\n",
    "for bench in bench_data:\n",
    "    bench_ret = returns[bench].iloc[-beta_window:]\n",
    "    beta_vals = []\n",
    "    for asset in portfolio:\n",
    "        asset_ret = returns[asset].iloc[-beta_window:]\n",
    "        cov = np.cov(asset_ret, bench_ret)[0, 1]\n",
    "        var = np.var(bench_ret)\n",
    "        beta_vals.append(cov / var)\n",
    "    table[f'Beta_{bench}'] = beta_vals\n"
   ]
  },
  {
   "cell_type": "code",
   "execution_count": 65,
   "metadata": {},
   "outputs": [],
   "source": [
    "# Average and Max Weekly Drawdown (52-week low - 52-week high) / 52-week high\n",
    "weekly_high = data[portfolio].rolling(window=drawdown_window).max()\n",
    "weekly_low = data[portfolio].rolling(window=drawdown_window).min()\n",
    "\n",
    "weekly_drawdown = (weekly_low - weekly_high) / weekly_high\n",
    "\n",
    "table['Avg Weekly Drawdown'] = weekly_drawdown.mean()\n",
    "table['Max Weekly Drawdown'] = weekly_drawdown.min()\n"
   ]
  },
  {
   "cell_type": "code",
   "execution_count": 66,
   "metadata": {},
   "outputs": [],
   "source": [
    "# Total Return (10 years)\n",
    "table['Total Return'] = (data[portfolio].iloc[-1] / data[portfolio].iloc[0]) - 1\n"
   ]
  },
  {
   "cell_type": "code",
   "execution_count": 67,
   "metadata": {},
   "outputs": [],
   "source": [
    "# Annualized Total Return\n",
    "table['Annualized Total Return'] = (1 + table['Total Return']) ** (1/10) - 1"
   ]
  },
  {
   "cell_type": "code",
   "execution_count": 68,
   "metadata": {},
   "outputs": [
    {
     "name": "stdout",
     "output_type": "stream",
     "text": [
      "  Ticker  Portfolio Weight  Annualized Volatility  Beta_IWM  Beta_SPY  \\\n",
      "0    GEV          0.142857               0.658332  1.329231  1.780732   \n",
      "1   TGTX          0.142857               0.675711  0.884579  0.873216   \n",
      "2   PRVA          0.142857               0.374317  0.823643  0.638686   \n",
      "3   CEVA          0.142857               0.921195  1.539098  1.940341   \n",
      "4   GILD          0.142857               0.326839  0.261733  0.295724   \n",
      "5     KD          0.142857               0.539235  1.128769  1.320774   \n",
      "6    NRG          0.142857               0.823940  1.212271  1.656051   \n",
      "\n",
      "   Beta_^DJI  Beta_^GSPC  Avg Weekly Drawdown  Max Weekly Drawdown  \\\n",
      "0   1.655671    1.861067            -0.671393            -0.719888   \n",
      "1   1.091930    0.943273            -0.675826            -0.707317   \n",
      "2   0.938776    0.676384            -0.373665            -0.373686   \n",
      "3   1.860946    1.994881            -0.580385            -0.580385   \n",
      "4   0.536989    0.299582            -0.475650            -0.475650   \n",
      "5   1.441966    1.360828            -0.534239            -0.551438   \n",
      "6   1.565363    1.727342            -0.444609            -0.578204   \n",
      "\n",
      "   Total Return  Annualized Total Return  \n",
      "0      2.235565                 0.124592  \n",
      "1      1.318213                 0.087716  \n",
      "2      0.215150                 0.019678  \n",
      "3     -0.138937                -0.014847  \n",
      "4      0.519584                 0.042731  \n",
      "5      0.825986                 0.062062  \n",
      "6      1.267062                 0.085291  \n"
     ]
    }
   ],
   "source": [
    "# Reset index to have Ticker as a column \n",
    "table.reset_index(drop=True, inplace=True)\n",
    "\n",
    "print(table)"
   ]
  },
  {
   "cell_type": "code",
   "execution_count": 69,
   "metadata": {},
   "outputs": [
    {
     "name": "stderr",
     "output_type": "stream",
     "text": [
      "[*********************100%***********************]  7 of 7 completed\n",
      "[*********************100%***********************]  3 of 3 completed"
     ]
    },
    {
     "name": "stdout",
     "output_type": "stream",
     "text": [
      "  ETF Ticker  Correlation vs Portfolio  Covariance vs Portfolio  \\\n",
      "0        SPY                  0.774157                 0.000182   \n",
      "1        IWM                  0.785197                 0.000224   \n",
      "2        DIA                  0.711240                 0.000143   \n",
      "\n",
      "   Tracking Error (Annualized)  Sharpe Ratio  Annualized Volatility Spread  \n",
      "0                     0.196876      0.523605                      0.121303  \n",
      "1                     0.188470      0.191849                      0.074189  \n",
      "2                     0.219714      0.440199                      0.125775  \n"
     ]
    },
    {
     "name": "stderr",
     "output_type": "stream",
     "text": [
      "\n"
     ]
    }
   ],
   "source": [
    "\n",
    "# Define portfolio and ETFs\n",
    "portfolio_tickers = ['GEV', 'TGTX', 'PRVA', 'CEVA', 'GILD', 'KD', 'NRG']\n",
    "etf_tickers = ['SPY', 'IWM', 'DIA']\n",
    "\n",
    "# Dates\n",
    "end_date = datetime.now()\n",
    "start_date = end_date - timedelta(days=365*10)\n",
    "\n",
    "# Download historical data\n",
    "data_portfolio = yf.download(portfolio_tickers, start=start_date, end=end_date)['Close']\n",
    "data_etfs = yf.download(etf_tickers, start=start_date, end=end_date)['Close']\n",
    "\n",
    "# Calculate daily returns\n",
    "returns_portfolio = data_portfolio.pct_change().dropna()\n",
    "returns_etfs = data_etfs.pct_change().dropna()\n",
    "\n",
    "# Equally weighted portfolio returns\n",
    "weights = np.repeat(1 / len(portfolio_tickers), len(portfolio_tickers))\n",
    "portfolio_returns = returns_portfolio.dot(weights)\n",
    "\n",
    "# Assume current risk-free rate (annual), e.g. 5% = 0.05\n",
    "risk_free_rate = 0.05\n",
    "\n",
    "# Number of trading days in a year\n",
    "trading_days = 252\n",
    "\n",
    "# Initialize dataframe to store results\n",
    "comparison_table = pd.DataFrame(index=etf_tickers)\n",
    "comparison_table.index.name = 'ETF Ticker'\n",
    "\n",
    "for etf in etf_tickers:\n",
    "    etf_ret = returns_etfs[etf]\n",
    "\n",
    "    # Correlation portfolio vs ETF\n",
    "    corr = portfolio_returns.corr(etf_ret)\n",
    "\n",
    "    # Covariance portfolio vs ETF\n",
    "    cov = portfolio_returns.cov(etf_ret)\n",
    "\n",
    "    # Tracking error = std dev of (portfolio return - ETF return)\n",
    "    tracking_error = (portfolio_returns - etf_ret).std() * np.sqrt(trading_days)\n",
    "\n",
    "    # Sharpe Ratio = (Annualized Return - risk free rate) / Annualized Volatility\n",
    "    # Annualized return of portfolio minus ETF (use trailing 10 years)\n",
    "    ann_ret_portfolio = (1 + portfolio_returns.mean()) ** trading_days - 1\n",
    "    ann_ret_etf = (1 + etf_ret.mean()) ** trading_days - 1\n",
    "\n",
    "    # Annualized volatility\n",
    "    ann_vol_portfolio = portfolio_returns.std() * np.sqrt(trading_days)\n",
    "    ann_vol_etf = etf_ret.std() * np.sqrt(trading_days)\n",
    "\n",
    "    # Sharpe Ratio of ETF (annualized)\n",
    "    sharpe_etf = (ann_ret_etf - risk_free_rate) / ann_vol_etf\n",
    "\n",
    "    # Annualized volatility spread (portfolio vol - ETF vol)\n",
    "    vol_spread = ann_vol_portfolio - ann_vol_etf\n",
    "\n",
    "    # Add to table\n",
    "    comparison_table.loc[etf, 'Correlation vs Portfolio'] = corr\n",
    "    comparison_table.loc[etf, 'Covariance vs Portfolio'] = cov\n",
    "    comparison_table.loc[etf, 'Tracking Error (Annualized)'] = tracking_error\n",
    "    comparison_table.loc[etf, 'Sharpe Ratio'] = sharpe_etf\n",
    "    comparison_table.loc[etf, 'Annualized Volatility Spread'] = vol_spread\n",
    "\n",
    "# Reset index for presentation if desired\n",
    "comparison_table.reset_index(inplace=True)\n",
    "\n",
    "print(comparison_table)\n"
   ]
  },
  {
   "cell_type": "code",
   "execution_count": 70,
   "metadata": {},
   "outputs": [
    {
     "name": "stderr",
     "output_type": "stream",
     "text": [
      "[*********************100%***********************]  7 of 7 completed\n",
      "[*********************100%***********************]  3 of 3 completed"
     ]
    },
    {
     "name": "stdout",
     "output_type": "stream",
     "text": [
      "           Portfolio       DIA       IWM       SPY      CEVA       GEV  \\\n",
      "Portfolio   1.000000  0.711240  0.785197  0.774157  0.732166  0.689515   \n",
      "DIA         0.711240  1.000000  0.850839  0.951911  0.490496  0.490233   \n",
      "IWM         0.785197  0.850839  1.000000  0.870153  0.577350  0.546524   \n",
      "SPY         0.774157  0.951911  0.870153  1.000000  0.602968  0.614287   \n",
      "CEVA        0.732166  0.490496  0.577350  0.602968  1.000000  0.445366   \n",
      "GEV         0.689515  0.490233  0.546524  0.614287  0.445366  1.000000   \n",
      "GILD        0.302157  0.343917  0.239771  0.223551  0.139525 -0.051254   \n",
      "KD          0.684597  0.497961  0.517013  0.516334  0.475502  0.312705   \n",
      "NRG         0.712864  0.490487  0.524722  0.599279  0.464021  0.621600   \n",
      "PRVA        0.434767  0.400525  0.504802  0.324116  0.206910  0.148647   \n",
      "TGTX        0.503764  0.282762  0.332708  0.263222  0.133124  0.149698   \n",
      "\n",
      "               GILD        KD       NRG      PRVA      TGTX  \n",
      "Portfolio  0.302157  0.684597  0.712864  0.434767  0.503764  \n",
      "DIA        0.343917  0.497961  0.490487  0.400525  0.282762  \n",
      "IWM        0.239771  0.517013  0.524722  0.504802  0.332708  \n",
      "SPY        0.223551  0.516334  0.599279  0.324116  0.263222  \n",
      "CEVA       0.139525  0.475502  0.464021  0.206910  0.133124  \n",
      "GEV       -0.051254  0.312705  0.621600  0.148647  0.149698  \n",
      "GILD       1.000000  0.163984  0.099057  0.200249  0.174689  \n",
      "KD         0.163984  1.000000  0.417002  0.263387  0.191617  \n",
      "NRG        0.099057  0.417002  1.000000  0.064908  0.135958  \n",
      "PRVA       0.200249  0.263387  0.064908  1.000000  0.173988  \n",
      "TGTX       0.174689  0.191617  0.135958  0.173988  1.000000  \n"
     ]
    },
    {
     "name": "stderr",
     "output_type": "stream",
     "text": [
      "\n"
     ]
    }
   ],
   "source": [
    "# Define tickers\n",
    "portfolio_tickers = ['GEV', 'TGTX', 'PRVA', 'CEVA', 'GILD', 'KD', 'NRG']\n",
    "etf_tickers = ['SPY', 'IWM', 'DIA']\n",
    "\n",
    "# Dates\n",
    "end_date = datetime.now()\n",
    "start_date = end_date - timedelta(days=365*10)\n",
    "\n",
    "# Download data\n",
    "data_portfolio = yf.download(portfolio_tickers, start=start_date, end=end_date)['Close']\n",
    "data_etfs = yf.download(etf_tickers, start=start_date, end=end_date)['Close']\n",
    "\n",
    "# Calculate daily returns\n",
    "returns_portfolio = data_portfolio.pct_change().dropna()\n",
    "returns_etfs = data_etfs.pct_change().dropna()\n",
    "\n",
    "# Equal-weighted portfolio returns\n",
    "weights = np.repeat(1 / len(portfolio_tickers), len(portfolio_tickers))\n",
    "portfolio_returns = returns_portfolio.dot(weights)\n",
    "\n",
    "# Combine all returns in one DataFrame:\n",
    "#  - Portfolio (named 'Portfolio')\n",
    "#  - ETFs (SPY, IWM, DIA)\n",
    "#  - Individual stocks (tickers)\n",
    "\n",
    "# Rename columns for clarity\n",
    "returns_etfs.columns = [etf.upper() for etf in returns_etfs.columns]\n",
    "returns_portfolio.columns = [col.upper() for col in returns_portfolio.columns] if isinstance(returns_portfolio, pd.DataFrame) else []\n",
    "\n",
    "# Create a DataFrame to hold all\n",
    "combined_returns = pd.concat([portfolio_returns.rename('Portfolio'), returns_etfs, returns_portfolio], axis=1)\n",
    "\n",
    "# Calculate correlation matrix\n",
    "corr_matrix = combined_returns.corr()\n",
    "\n",
    "print(corr_matrix)"
   ]
  }
 ],
 "metadata": {
  "kernelspec": {
   "display_name": "Python 3",
   "language": "python",
   "name": "python3"
  },
  "language_info": {
   "codemirror_mode": {
    "name": "ipython",
    "version": 3
   },
   "file_extension": ".py",
   "mimetype": "text/x-python",
   "name": "python",
   "nbconvert_exporter": "python",
   "pygments_lexer": "ipython3",
   "version": "3.13.2"
  }
 },
 "nbformat": 4,
 "nbformat_minor": 2
}
